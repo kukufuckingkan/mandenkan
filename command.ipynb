{
 "cells": [
  {
   "cell_type": "code",
   "execution_count": null,
   "id": "5694a7dc-fbb1-458c-9d5c-0a83f978706d",
   "metadata": {},
   "outputs": [],
   "source": []
  },
  {
   "cell_type": "markdown",
   "id": "6165de1d-36f1-446d-9df4-7e3f5b14b593",
   "metadata": {},
   "source": [
    " # navigate to the folder of your choice. in this example we will kitab and choose the name mybookname for the folder name of the jupiter book project\n",
    "# the command below create a folder of name mynewbookname. inside the created folder, you will find files of the book"
   ]
  },
  {
   "cell_type": "code",
   "execution_count": null,
   "id": "0c548e8b-6e2a-4ba8-aafe-7d1599eb3fb7",
   "metadata": {},
   "outputs": [],
   "source": [
    "jupyter-book create mynewbook/"
   ]
  },
  {
   "cell_type": "markdown",
   "id": "11f0225a-485e-430e-b8bf-a6fc9aaf90b9",
   "metadata": {},
   "source": [
    "# navigate into parent folder of your book and run.\n",
    "# this will generate a pdf file in the folder named build inside mynewbook"
   ]
  },
  {
   "cell_type": "code",
   "execution_count": null,
   "id": "63483044-2b60-4e4d-8f99-870f97d9d46c",
   "metadata": {},
   "outputs": [],
   "source": [
    "# navigate into parent folder of your book and run. This will gene\n",
    "jupyter-book build kitab/ --builder pdfhtml\n",
    "\n",
    "#if inside book itself\n",
    "\n",
    "jupyter-book build ./ --builder pdfhtml"
   ]
  },
  {
   "cell_type": "code",
   "execution_count": null,
   "id": "e164a9ac-a6cc-402e-943b-7eb19c345f77",
   "metadata": {
    "tags": []
   },
   "outputs": [],
   "source": [
    "# if table of content does become updated\n",
    "jupyter-book build --all mybookname/"
   ]
  },
  {
   "cell_type": "code",
   "execution_count": null,
   "id": "165e477f-644c-4028-abad-6ba965281186",
   "metadata": {},
   "outputs": [],
   "source": [
    "# configure git token\n",
    "git remote set-url origin https://<TOKEN>@github.com/username/repository.git"
   ]
  },
  {
   "cell_type": "code",
   "execution_count": null,
   "id": "36358463-e6bf-40f0-909f-1a1620dc05e1",
   "metadata": {},
   "outputs": [],
   "source": [
    "#publish to github pages\n",
    "ip install ghp-import\n",
    "ghp-import -n -p -f _build/html"
   ]
  },
  {
   "cell_type": "code",
   "execution_count": null,
   "id": "da275c1c-d10b-4c98-b289-b662b54b6761",
   "metadata": {},
   "outputs": [],
   "source": [
    "conda env create -f environment.yml\n",
    "conda activate qe-mini-example"
   ]
  },
  {
   "cell_type": "code",
   "execution_count": null,
   "id": "fa1c3c54-d87e-4a59-ab9a-92031f845ac8",
   "metadata": {},
   "outputs": [],
   "source": [
    "firefox mini_book/_build/html/index.html"
   ]
  },
  {
   "cell_type": "code",
   "execution_count": null,
   "id": "14ff6362-8b56-4356-a6ab-4bd970f98d53",
   "metadata": {},
   "outputs": [],
   "source": [
    "# rebuild html after change\n",
    "jb build"
   ]
  },
  {
   "cell_type": "code",
   "execution_count": null,
   "id": "cc72c5a7-6373-492f-9ff9-faf292ab6ca3",
   "metadata": {},
   "outputs": [],
   "source": [
    "pip install docutils"
   ]
  },
  {
   "cell_type": "code",
   "execution_count": null,
   "id": "a86b9e33-7b89-499b-be73-b9a076216661",
   "metadata": {},
   "outputs": [],
   "source": [
    "\n",
    "<!-- \n",
    " as stated in the holy kuran {ref}`english_homage_label2`\n",
    "[](english_homage_label2) -->\n",
    "\n",
    "\n",
    "<!-- \n",
    "as stated in the holity kuran: [](kuran.md) [](english_homage_label2)\n",
    " -->\n",
    "\n",
    "<!-- This is a reference to :ref:`my very own label <kuran_verse_1>`.\n",
    "\n",
    "This is a reference to :ref:`kuran_verse_1`. -->\n",
    "<!-- {ref}`holdgraf_rapid_2016`\n",
    "[](holdgraf_rapid_2016) [](english_homage_label2)\n",
    " -->"
   ]
  },
  {
   "cell_type": "code",
   "execution_count": null,
   "id": "d081d2f3-cd3d-4910-bd89-6fe96ac5b3e2",
   "metadata": {},
   "outputs": [],
   "source": []
  },
  {
   "cell_type": "code",
   "execution_count": null,
   "id": "b63aa7ab-f9d9-4072-b45d-ad9c8d08f7fb",
   "metadata": {},
   "outputs": [],
   "source": [
    "# front page\n",
    "\n",
    "(nko_book_title_label)=\n",
    "# ߡߊ߲ߘߋ߲ߞߊ߲\n",
    "\n",
    "(english_book_title_label)=\n",
    "# Mandenkan\n",
    "// add logo"
   ]
  }
 ],
 "metadata": {
  "kernelspec": {
   "display_name": "Python 3 (ipykernel)",
   "language": "python",
   "name": "python3"
  },
  "language_info": {
   "codemirror_mode": {
    "name": "ipython",
    "version": 3
   },
   "file_extension": ".py",
   "mimetype": "text/x-python",
   "name": "python",
   "nbconvert_exporter": "python",
   "pygments_lexer": "ipython3",
   "version": "3.11.7"
  }
 },
 "nbformat": 4,
 "nbformat_minor": 5
}
