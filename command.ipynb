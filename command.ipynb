{
 "cells": [
  {
   "cell_type": "code",
   "execution_count": null,
   "id": "5694a7dc-fbb1-458c-9d5c-0a83f978706d",
   "metadata": {},
   "outputs": [],
   "source": []
  },
  {
   "cell_type": "markdown",
   "id": "6165de1d-36f1-446d-9df4-7e3f5b14b593",
   "metadata": {},
   "source": [
    " # navigate to the folder of your choice. in this example we will kitab and choose the name mybookname for the folder name of the jupiter book project\n",
    "# the command below create a folder of name mynewbookname. inside the created folder, you will find files of the book"
   ]
  },
  {
   "cell_type": "code",
   "execution_count": null,
   "id": "0c548e8b-6e2a-4ba8-aafe-7d1599eb3fb7",
   "metadata": {},
   "outputs": [],
   "source": [
    "jupyter-book create mynewbook/"
   ]
  },
  {
   "cell_type": "markdown",
   "id": "11f0225a-485e-430e-b8bf-a6fc9aaf90b9",
   "metadata": {},
   "source": [
    "# navigate into parent folder of your book and run.\n",
    "# this will generate a pdf file in the folder named build inside mynewbook"
   ]
  },
  {
   "cell_type": "code",
   "execution_count": null,
   "id": "63483044-2b60-4e4d-8f99-870f97d9d46c",
   "metadata": {},
   "outputs": [],
   "source": [
    "# navigate into parent folder of your book and run. This will gene\n",
    "jupyter-book build kitab/ --builder pdfhtml\n",
    "\n",
    "#if inside book itself\n",
    "\n",
    "jupyter-book build ./ --builder pdfhtml"
   ]
  },
  {
   "cell_type": "code",
   "execution_count": null,
   "id": "e164a9ac-a6cc-402e-943b-7eb19c345f77",
   "metadata": {
    "tags": []
   },
   "outputs": [],
   "source": [
    "# if table of content does become updated\n",
    "jupyter-book build --all mybookname/\n",
    "jupyter-book build --all ."
   ]
  },
  {
   "cell_type": "code",
   "execution_count": null,
   "id": "165e477f-644c-4028-abad-6ba965281186",
   "metadata": {},
   "outputs": [],
   "source": [
    "# configure git token\n",
    "git remote set-url origin https://<TOKEN>@github.com/username/repository.git"
   ]
  },
  {
   "cell_type": "code",
   "execution_count": null,
   "id": "36358463-e6bf-40f0-909f-1a1620dc05e1",
   "metadata": {},
   "outputs": [],
   "source": [
    "#publish to github pages\n",
    "pip install ghp-import\n",
    "ghp-import -n -p -f _build/html"
   ]
  },
  {
   "cell_type": "code",
   "execution_count": 4,
   "id": "da275c1c-d10b-4c98-b289-b662b54b6761",
   "metadata": {},
   "outputs": [
    {
     "ename": "SyntaxError",
     "evalue": "invalid syntax (3456643850.py, line 1)",
     "output_type": "error",
     "traceback": [
      "\u001b[0;36m  Cell \u001b[0;32mIn[4], line 1\u001b[0;36m\u001b[0m\n\u001b[0;31m    conda env create -f environment.yml\u001b[0m\n\u001b[0m          ^\u001b[0m\n\u001b[0;31mSyntaxError\u001b[0m\u001b[0;31m:\u001b[0m invalid syntax\n"
     ]
    }
   ],
   "source": [
    "conda env create -f environment.yml\n",
    "conda activate qe-mini-example\n",
    "pip install -r requirements.txt"
   ]
  },
  {
   "cell_type": "code",
   "execution_count": null,
   "id": "fa1c3c54-d87e-4a59-ab9a-92031f845ac8",
   "metadata": {},
   "outputs": [],
   "source": [
    "firefox mini_book/_build/html/index.html"
   ]
  },
  {
   "cell_type": "code",
   "execution_count": null,
   "id": "14ff6362-8b56-4356-a6ab-4bd970f98d53",
   "metadata": {},
   "outputs": [],
   "source": [
    "# rebuild html after change\n",
    "jb build ."
   ]
  },
  {
   "cell_type": "code",
   "execution_count": null,
   "id": "cc72c5a7-6373-492f-9ff9-faf292ab6ca3",
   "metadata": {},
   "outputs": [],
   "source": [
    "pip install docutils"
   ]
  },
  {
   "cell_type": "code",
   "execution_count": null,
   "id": "d081d2f3-cd3d-4910-bd89-6fe96ac5b3e2",
   "metadata": {},
   "outputs": [],
   "source": []
  },
  {
   "cell_type": "code",
   "execution_count": null,
   "id": "793ab7f6-a258-4fac-b639-9e00e174ca14",
   "metadata": {},
   "outputs": [],
   "source": [
    "# configure sphinx\n",
    "jupyter-book config sphinx path/to/book\n",
    "jupyter-book config sphinx ."
   ]
  },
  {
   "cell_type": "code",
   "execution_count": null,
   "id": "83050964-56ab-449f-9df5-60f67311b503",
   "metadata": {},
   "outputs": [],
   "source": [
    "sphinx-build path/to/book path/to/book/_build/html -b html\n",
    "sphinx-build . ./_build/html -b html"
   ]
  },
  {
   "cell_type": "code",
   "execution_count": 2,
   "id": "6bba7970-915a-41df-9ee7-f1e48a743567",
   "metadata": {},
   "outputs": [
    {
     "ename": "NameError",
     "evalue": "name 'opt' is not defined",
     "output_type": "error",
     "traceback": [
      "\u001b[0;31m---------------------------------------------------------------------------\u001b[0m",
      "\u001b[0;31mNameError\u001b[0m                                 Traceback (most recent call last)",
      "Cell \u001b[0;32mIn[2], line 1\u001b[0m\n\u001b[0;32m----> 1\u001b[0m opt\u001b[38;5;241m/\u001b[39mhomebrew\u001b[38;5;241m/\u001b[39m\u001b[38;5;28mbin\u001b[39m\u001b[38;5;241m/\u001b[39mpip3()\n",
      "\u001b[0;31mNameError\u001b[0m: name 'opt' is not defined"
     ]
    }
   ],
   "source": [
    "/opt/homebrew/bin/pip3"
   ]
  },
  {
   "cell_type": "code",
   "execution_count": null,
   "id": "1694789f-65f7-4d3c-a411-ff7f24fab5c4",
   "metadata": {},
   "outputs": [],
   "source": [
    "python3 -m venv path/to/venv\n",
    "    source path/to/venv/bin/activate\n",
    "    python3 -m pip install xyz"
   ]
  },
  {
   "cell_type": "code",
   "execution_count": null,
   "id": "9b65cab0-17ea-46b7-bb6a-8a4f20acd084",
   "metadata": {},
   "outputs": [],
   "source": [
    "alias pip='pip3'\n",
    "pip 24.2 from /opt/homebrew/lib/python3.12/site-packages/pip (python 3.12)"
   ]
  },
  {
   "cell_type": "code",
   "execution_count": null,
   "id": "e4eb1b70-003b-44b7-9f44-b7019f1a79d8",
   "metadata": {},
   "outputs": [],
   "source": [
    "/opt/homebrew/lib/python3.12/site-packages/pip"
   ]
  },
  {
   "cell_type": "code",
   "execution_count": null,
   "id": "28b4b6b5-bf3d-4303-bc2a-883662efe5ef",
   "metadata": {},
   "outputs": [],
   "source": [
    "export PATH=\"/opt/homebrew/lib/python3.12/site-packages/pip:$PATH\""
   ]
  },
  {
   "cell_type": "code",
   "execution_count": null,
   "id": "629b9293-d469-414a-9d36-3eff80ac6476",
   "metadata": {},
   "outputs": [],
   "source": [
    "pipx install matplotlib"
   ]
  },
  {
   "cell_type": "code",
   "execution_count": null,
   "id": "7993ab0b-0b04-432e-8f01-d8ecd1cc325d",
   "metadata": {},
   "outputs": [],
   "source": [
    "# create new virtual env pip"
   ]
  },
  {
   "cell_type": "code",
   "execution_count": null,
   "id": "45558c59-da57-495d-8356-40181a17087f",
   "metadata": {},
   "outputs": [],
   "source": [
    "python3 -m venv ~/python-envs/kukukan\n",
    "source ~/python-envs/kukukan/bin/activate\n",
    "deactivate"
   ]
  },
  {
   "cell_type": "code",
   "execution_count": null,
   "id": "c9c3056a-b4ce-428c-91cd-d78e63b0d719",
   "metadata": {},
   "outputs": [],
   "source": [
    "python3 -m venv kukukan\n",
    "source kukukan/bin/activate\n",
    "conda activate kukukan"
   ]
  },
  {
   "cell_type": "code",
   "execution_count": null,
   "id": "465cd68f-eb5b-4aa1-a4c1-7833970955b8",
   "metadata": {},
   "outputs": [],
   "source": [
    "conda create --name kukukan\n",
    "conda activate kukukan\n",
    "conda list"
   ]
  },
  {
   "cell_type": "markdown",
   "id": "c2739d2b-82bf-407f-a537-401dee013e17",
   "metadata": {},
   "source": [
    "python -m ipykernel install --user --name=kukukan --display-name \"Python (kukukan)\""
   ]
  },
  {
   "cell_type": "code",
   "execution_count": null,
   "id": "cc98d0fa-6183-41e1-a1f5-4ab3b7515185",
   "metadata": {},
   "outputs": [],
   "source": [
    "!pip list"
   ]
  },
  {
   "cell_type": "code",
   "execution_count": null,
   "id": "61c22e7f-f50f-4889-9e5c-de81d76aa383",
   "metadata": {},
   "outputs": [],
   "source": [
    "import sys\n",
    "print(sys.executable)"
   ]
  },
  {
   "cell_type": "code",
   "execution_count": null,
   "id": "1a6cf5ac-42ad-4592-8030-dac86fafbb7a",
   "metadata": {},
   "outputs": [],
   "source": [
    "conda env create -f environment.yml\n",
    "conda activate kukukan\n",
    "conda deactivate"
   ]
  }
 ],
 "metadata": {
  "kernelspec": {
   "display_name": "Python 3 (ipykernel)",
   "language": "python",
   "name": "python3"
  },
  "language_info": {
   "codemirror_mode": {
    "name": "ipython",
    "version": 3
   },
   "file_extension": ".py",
   "mimetype": "text/x-python",
   "name": "python",
   "nbconvert_exporter": "python",
   "pygments_lexer": "ipython3",
   "version": "3.11.8"
  }
 },
 "nbformat": 4,
 "nbformat_minor": 5
}
