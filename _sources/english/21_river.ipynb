{
 "cells": [
  {
   "cell_type": "markdown",
   "id": "72abc471-1c2b-4050-848a-87ea847cdcfa",
   "metadata": {},
   "source": [
    "# river"
   ]
  },
  {
   "cell_type": "code",
   "execution_count": null,
   "id": "f31e6910-8270-45d5-a4c2-d9dbbe6b704b",
   "metadata": {},
   "outputs": [],
   "source": [
    "# HIDDEN\n",
    "import pandas as pd\n",
    "from IPython.display import HTML\n",
    "\n",
    "# Define headers and values (as lists)\n",
    "headers = ['Image', 'nko', 'pronounciation', 'nko pronouncition','image']\n",
    "values = [\n",
    "    ['', '', 'River','dja',''],\n",
    "    ['', '', 'Ocean','dja',''],\n",
    "    ['', '', 'Atlantic','',''],\n",
    "    ['', '', 'Pacific','',''], \n",
    "    ['', '', 'Mediteranean','',''],\n",
    "    ['', '', 'Red Sea','',''],     \n",
    "    \n",
    "    \n",
    "  \n",
    "]\n",
    "\n",
    "# Create the DataFrame with headers and rows of values\n",
    "df = pd.DataFrame(values, columns=headers)\n",
    "\n",
    "HTML(df.to_html(escape=False))"
   ]
  }
 ],
 "metadata": {
  "kernelspec": {
   "display_name": "Python 3 (ipykernel)",
   "language": "python",
   "name": "python3"
  },
  "language_info": {
   "codemirror_mode": {
    "name": "ipython",
    "version": 3
   },
   "file_extension": ".py",
   "mimetype": "text/x-python",
   "name": "python",
   "nbconvert_exporter": "python",
   "pygments_lexer": "ipython3",
   "version": "3.11.8"
  }
 },
 "nbformat": 4,
 "nbformat_minor": 5
}
