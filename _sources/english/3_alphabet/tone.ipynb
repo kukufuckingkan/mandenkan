{
 "cells": [
  {
   "cell_type": "code",
   "execution_count": null,
   "id": "39bb5991-0304-4669-83e6-3fbb80f53e4a",
   "metadata": {},
   "outputs": [],
   "source": [
    "# Tone"
   ]
  },
  {
   "cell_type": "markdown",
   "id": "214a0682-80d0-45ed-839d-0bc6fb6a4232",
   "metadata": {},
   "source": [
    "(english_alphabet_table_tone)=\n",
    "\n",
    "```{table} nko Number\n",
    ":name: my-table-number_ref\n",
    "|ߊ߮|ߊ߳|ߊ߲|ߊ߭|ߊ߱|ߊ߯|ߊ߰|ߊ߬|ߊ߫|ߊ|\n",
    "|-|-|-|-|-|-|-|-|-|-|\n",
    "```"
   ]
  },
  {
   "cell_type": "code",
   "execution_count": null,
   "id": "a9ec2ba6-efd5-4c56-a0a1-b168070d12c6",
   "metadata": {},
   "outputs": [],
   "source": [
    "# HIDDEN\n",
    "import pandas as pd\n",
    "from IPython.display import HTML\n",
    "\n",
    "# Define headers and values (as lists)\n",
    "headers = ['Image', 'nko', 'pronounciation', 'nko pronouncition','image']\n",
    "values = [\n",
    "    ['', '', 'Shadow','dja',''],\n",
    "    ['', '', 'Rainbow','',''],\n",
    "    ['', '', 'Universe','',''], \n",
    "    ['', '', 'Mirrage','',''],\n",
    "    ['', '', 'Rain','',''],\n",
    "    ['', '', 'Star','',''],\n",
    "    ['', '', 'Cosmos','',''],  \n",
    "    ['', '', 'Eclipse','',''], \n",
    "    ['', '', 'Black Hole','',''], \n",
    "     ['', '', 'Universe','',''],   \n",
    "]\n",
    "\n",
    "# Create the DataFrame with headers and rows of values\n",
    "df = pd.DataFrame(values, columns=headers)\n",
    "\n",
    "HTML(df.to_html(escape=False))"
   ]
  },
  {
   "cell_type": "code",
   "execution_count": null,
   "id": "c5f2c2cb-b605-4263-bd8a-a3848d5494af",
   "metadata": {},
   "outputs": [],
   "source": []
  },
  {
   "cell_type": "code",
   "execution_count": null,
   "id": "fe22d6c6-46ef-48af-a71c-1ee6cae4c062",
   "metadata": {},
   "outputs": [],
   "source": []
  }
 ],
 "metadata": {
  "kernelspec": {
   "display_name": "Python 3 (ipykernel)",
   "language": "python",
   "name": "python3"
  },
  "language_info": {
   "codemirror_mode": {
    "name": "ipython",
    "version": 3
   },
   "file_extension": ".py",
   "mimetype": "text/x-python",
   "name": "python",
   "nbconvert_exporter": "python",
   "pygments_lexer": "ipython3",
   "version": "3.11.8"
  }
 },
 "nbformat": 4,
 "nbformat_minor": 5
}
