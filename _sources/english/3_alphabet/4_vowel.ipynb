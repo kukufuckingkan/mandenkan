{
 "cells": [
  {
   "cell_type": "code",
   "execution_count": null,
   "id": "bcbdc91c-a690-4ce2-a829-5c59df7c9c13",
   "metadata": {},
   "outputs": [],
   "source": [
    "import pandas as pd\n",
    "from IPython.display import HTML\n",
    "from package import audio\n",
    "\n",
    "df = pd.DataFrame({\n",
    "    'Vowel': ['ߊ',\n",
    "              'ߋ',\n",
    "              'ߌ',\n",
    "              'ߍ',\n",
    "              'ߎ',\n",
    "              'ߏ',\n",
    "              'ߐ',\n",
    "             ],\n",
    "    \n",
    "    'Sound': \n",
    "    [\n",
    "    audio.player('resource/asset/audio/1_kan.mp3',''),\n",
    "    audio.player('resource/asset/audio/1_kan.mp3',''),\n",
    "    audio.player('resource/asset/audio/1_kan.mp3',''),\n",
    "    audio.player('resource/asset/audio/1_kan.mp3',''),\n",
    "    audio.player('resource/asset/audio/1_kan.mp3',''),\n",
    "    audio.player('resource/asset/audio/1_kan.mp3',''),\n",
    "    audio.player('resource/asset/audio/1_kan.mp3',''),\n",
    "    ]\n",
    "})\n",
    "\n",
    "\n",
    "HTML(df.to_html(escape=False,index=False))"
   ]
  }
 ],
 "metadata": {
  "kernelspec": {
   "display_name": "Python 3 (ipykernel)",
   "language": "python",
   "name": "python3"
  },
  "language_info": {
   "codemirror_mode": {
    "name": "ipython",
    "version": 3
   },
   "file_extension": ".py",
   "mimetype": "text/x-python",
   "name": "python",
   "nbconvert_exporter": "python",
   "pygments_lexer": "ipython3",
   "version": "3.11.7"
  }
 },
 "nbformat": 4,
 "nbformat_minor": 5
}
