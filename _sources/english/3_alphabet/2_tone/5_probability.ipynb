{
 "cells": [
  {
   "cell_type": "markdown",
   "id": "bef3247b-a339-484c-9217-e23f9725880f",
   "metadata": {},
   "source": [
    "# Probablity"
   ]
  },
  {
   "cell_type": "code",
   "execution_count": 13,
   "id": "f49fe122-c755-4b11-9ac0-24369290a366",
   "metadata": {
    "tags": []
   },
   "outputs": [],
   "source": [
    "from itertools import permutations\n",
    "from math import factorial"
   ]
  },
  {
   "cell_type": "code",
   "execution_count": 55,
   "id": "5aa6e832-082f-45c1-b7d1-d4bb627ae05e",
   "metadata": {
    "tags": []
   },
   "outputs": [
    {
     "name": "stdout",
     "output_type": "stream",
     "text": [
      "A B C\n",
      "A B D\n",
      "A C B\n",
      "A C D\n",
      "A D B\n",
      "A D C\n",
      "B A C\n",
      "B A D\n",
      "B C A\n",
      "B C D\n",
      "B D A\n",
      "B D C\n",
      "C A B\n",
      "C A D\n",
      "C B A\n",
      "C B D\n",
      "C D A\n",
      "C D B\n",
      "D A B\n",
      "D A C\n",
      "D B A\n",
      "D B C\n",
      "D C A\n",
      "D C B\n"
     ]
    }
   ],
   "source": [
    "per = permutations('ABCD', 3)\n",
    "for val in per:\n",
    "    print(*val)"
   ]
  },
  {
   "cell_type": "code",
   "execution_count": 39,
   "id": "d17de840-bae7-49b5-883e-6c8940520bea",
   "metadata": {
    "tags": []
   },
   "outputs": [
    {
     "data": {
      "text/plain": [
       "array([ 720., 5040.])"
      ]
     },
     "execution_count": 39,
     "metadata": {},
     "output_type": "execute_result"
    }
   ],
   "source": [
    "import scipy\n",
    "import numpy as np\n",
    "from scipy.special import perm\n",
    "\n",
    "k = np.array([3, 4])\n",
    "n = np.array([10, 10])\n",
    "perm(n, k)"
   ]
  },
  {
   "cell_type": "code",
   "execution_count": 65,
   "id": "3379d2dd-145a-4a74-94a0-04e62d563462",
   "metadata": {
    "tags": []
   },
   "outputs": [
    {
     "data": {
      "text/plain": [
       "30"
      ]
     },
     "execution_count": 65,
     "metadata": {},
     "output_type": "execute_result"
    }
   ],
   "source": [
    "perm(6, 2, exact=True)"
   ]
  }
 ],
 "metadata": {
  "kernelspec": {
   "display_name": "Python 3 (ipykernel)",
   "language": "python",
   "name": "python3"
  },
  "language_info": {
   "codemirror_mode": {
    "name": "ipython",
    "version": 3
   },
   "file_extension": ".py",
   "mimetype": "text/x-python",
   "name": "python",
   "nbconvert_exporter": "python",
   "pygments_lexer": "ipython3",
   "version": "3.11.7"
  }
 },
 "nbformat": 4,
 "nbformat_minor": 5
}
