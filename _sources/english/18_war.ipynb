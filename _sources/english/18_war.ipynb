{
 "cells": [
  {
   "cell_type": "markdown",
   "id": "1f82a58f-7639-42a0-9f44-05b30eba1485",
   "metadata": {},
   "source": [
    "# War\n",
    "## ߞߍߟߍ"
   ]
  },
  {
   "cell_type": "code",
   "execution_count": 4,
   "id": "61d65186-3595-405f-a529-63226d11bd95",
   "metadata": {},
   "outputs": [
    {
     "data": {
      "text/html": [
       "<table border=\"1\" class=\"dataframe\">\n",
       "  <thead>\n",
       "    <tr style=\"text-align: right;\">\n",
       "      <th>ߖߊ</th>\n",
       "      <th>ߕߐ߮</th>\n",
       "      <th>ߞߊ߲</th>\n",
       "      <th>Name</th>\n",
       "      <th>Pronounciation</th>\n",
       "    </tr>\n",
       "  </thead>\n",
       "  <tbody>\n",
       "    <tr>\n",
       "      <td><img src=\"https://github.com/kukufuckingkan/mandenkan_media/raw/refs/heads/main/image/animal/1.jpg\" alt=\"ߞߍߟߍ\" width=\"150\" height=\"150\"></td>\n",
       "      <td>ߞߍߟߍ</td>\n",
       "      <td><audio controls style=\"width:150px\">\\n                    <source src=\"https://github.com/kukufuckingkan/mandenkan_media/raw/refs/heads/main/sound/vowel/1.mp3\" type=\"audio/mpeg\">\\n                </audio></td>\n",
       "      <td>War</td>\n",
       "      <td><audio controls style=\"width:150px\">\\n                    <source src=\"https://github.com/kukufuckingkan/mandenkan_media/raw/refs/heads/main/sound/vowel/1.mp3\" type=\"audio/mpeg\">\\n                </audio></td>\n",
       "    </tr>\n",
       "    <tr>\n",
       "      <td><img src=\"https://github.com/kukufuckingkan/mandenkan_media/raw/refs/heads/main/image/animal/1.jpg\" alt=\"ߡߏߙߌߝ\" width=\"150\" height=\"150\"></td>\n",
       "      <td>ߡߏߙߌߝ</td>\n",
       "      <td><audio controls style=\"width:150px\">\\n                    <source src=\"https://github.com/kukufuckingkan/mandenkan_media/raw/refs/heads/main/sound/vowel/1.mp3\" type=\"audio/mpeg\">\\n                </audio></td>\n",
       "      <td>Gun</td>\n",
       "      <td><audio controls style=\"width:150px\">\\n                    <source src=\"https://github.com/kukufuckingkan/mandenkan_media/raw/refs/heads/main/sound/vowel/1.mp3\" type=\"audio/mpeg\">\\n                </audio></td>\n",
       "    </tr>\n",
       "    <tr>\n",
       "      <td><img src=\"https://github.com/kukufuckingkan/mandenkan_media/raw/refs/heads/main/image/animal/1.jpg\" alt=\"ߝߊߙߊ\" width=\"150\" height=\"150\"></td>\n",
       "      <td>ߝߊߙߊ</td>\n",
       "      <td><audio controls style=\"width:150px\">\\n                    <source src=\"https://github.com/kukufuckingkan/mandenkan_media/raw/refs/heads/main/sound/vowel/1.mp3\" type=\"audio/mpeg\">\\n                </audio></td>\n",
       "      <td>xxx</td>\n",
       "      <td><audio controls style=\"width:150px\">\\n                    <source src=\"https://github.com/kukufuckingkan/mandenkan_media/raw/refs/heads/main/sound/vowel/1.mp3\" type=\"audio/mpeg\">\\n                </audio></td>\n",
       "    </tr>\n",
       "  </tbody>\n",
       "</table>"
      ],
      "text/plain": [
       "<IPython.core.display.HTML object>"
      ]
     },
     "execution_count": 4,
     "metadata": {},
     "output_type": "execute_result"
    }
   ],
   "source": [
    "# HIDDEN\n",
    "import kukukan\n",
    "import pandas as pd\n",
    "from IPython.display import HTML\n",
    "from kukukan import image,sound\n",
    "\n",
    "df = pd.DataFrame({\n",
    "   'ߖߊ': [\n",
    "            image.player(1,\"ߞߍߟߍ\",'animal'),\n",
    "            image.player(1,\"ߡߏߙߌߝ\",'animal'),\n",
    "            image.player(1,\"ߝߊߙߊ\",'animal'),\n",
    "       \n",
    "             ],\n",
    "    \n",
    "    'ߕߐ߮': [\n",
    "            'ߞߍߟߍ',\n",
    "            'ߡߏߙߌߝ',\n",
    "            'ߝߊߙߊ',\n",
    "             ],\n",
    "    \n",
    "    'ߞߊ߲': \n",
    "    [\n",
    "    sound.player(1,'vowel','vowel'),       \n",
    "    sound.player(1,'vowel','vowel'),\n",
    "    sound.player(1,'vowel','vowel'),\n",
    "    ],\n",
    "\n",
    "        'Name': [\n",
    "            'War',\n",
    "            'Gun',\n",
    "            'xxx',\n",
    "             ],\n",
    "    \n",
    "    'Pronounciation': \n",
    "    [\n",
    "    sound.player(1,'vowel','vowel'),\n",
    "    sound.player(1,'vowel','vowel'),\n",
    "    sound.player(1,'vowel','vowel'),  \n",
    "    ]\n",
    "})\n",
    "\n",
    "\n",
    "HTML(df.to_html(escape=False,index=False))"
   ]
  },
  {
   "cell_type": "code",
   "execution_count": null,
   "id": "ddb41256-9820-441a-a5db-754875b67120",
   "metadata": {},
   "outputs": [],
   "source": []
  }
 ],
 "metadata": {
  "kernelspec": {
   "display_name": "Python 3 (ipykernel)",
   "language": "python",
   "name": "python3"
  },
  "language_info": {
   "codemirror_mode": {
    "name": "ipython",
    "version": 3
   },
   "file_extension": ".py",
   "mimetype": "text/x-python",
   "name": "python",
   "nbconvert_exporter": "python",
   "pygments_lexer": "ipython3",
   "version": "3.11.8"
  }
 },
 "nbformat": 4,
 "nbformat_minor": 5
}
