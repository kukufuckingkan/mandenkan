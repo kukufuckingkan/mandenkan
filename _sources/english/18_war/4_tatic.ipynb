{
 "cells": [
  {
   "cell_type": "markdown",
   "id": "d8e0dccb-dc7c-443d-bbe5-cf81b5ad86d3",
   "metadata": {},
   "source": [
    "# tatic"
   ]
  },
  {
   "cell_type": "code",
   "execution_count": 12,
   "id": "ffce602a-f4f2-41b3-915e-0dc491fd3db5",
   "metadata": {},
   "outputs": [
    {
     "data": {
      "text/html": [
       "<table border=\"1\" class=\"dataframe\">\n",
       "  <thead>\n",
       "    <tr style=\"text-align: right;\">\n",
       "      <th></th>\n",
       "      <th>Image</th>\n",
       "      <th>nko</th>\n",
       "      <th>pronounciation</th>\n",
       "      <th>nko pronouncition</th>\n",
       "      <th>image</th>\n",
       "    </tr>\n",
       "  </thead>\n",
       "  <tbody>\n",
       "    <tr>\n",
       "      <th>0</th>\n",
       "      <td></td>\n",
       "      <td></td>\n",
       "      <td>Bull Horn</td>\n",
       "      <td></td>\n",
       "      <td></td>\n",
       "    </tr>\n",
       "  </tbody>\n",
       "</table>"
      ],
      "text/plain": [
       "<IPython.core.display.HTML object>"
      ]
     },
     "execution_count": 12,
     "metadata": {},
     "output_type": "execute_result"
    }
   ],
   "source": [
    "# HIDDEN\n",
    "import pandas as pd\n",
    "from IPython.display import HTML\n",
    "\n",
    "# Define headers and values (as lists)\n",
    "headers = ['Image', 'nko', 'pronounciation', 'nko pronouncition','image']\n",
    "values = [\n",
    "    ['', '', 'Bull Horn','','']  \n",
    "]\n",
    "\n",
    "# Create the DataFrame with headers and rows of values\n",
    "df = pd.DataFrame(values, columns=headers)\n",
    "\n",
    "HTML(df.to_html(escape=False))"
   ]
  },
  {
   "cell_type": "code",
   "execution_count": null,
   "id": "a7cea439-1dbb-43d2-89ac-ceeb1c12454a",
   "metadata": {},
   "outputs": [],
   "source": []
  }
 ],
 "metadata": {
  "kernelspec": {
   "display_name": "Python 3 (ipykernel)",
   "language": "python",
   "name": "python3"
  },
  "language_info": {
   "codemirror_mode": {
    "name": "ipython",
    "version": 3
   },
   "file_extension": ".py",
   "mimetype": "text/x-python",
   "name": "python",
   "nbconvert_exporter": "python",
   "pygments_lexer": "ipython3",
   "version": "3.11.8"
  }
 },
 "nbformat": 4,
 "nbformat_minor": 5
}
