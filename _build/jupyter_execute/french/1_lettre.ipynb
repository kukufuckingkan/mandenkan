{
 "cells": [
  {
   "cell_type": "code",
   "execution_count": null,
   "id": "0bf330fa-b08b-4b08-b9c3-bc0f0b061cd6",
   "metadata": {},
   "outputs": [],
   "source": [
    "# lettre"
   ]
  }
 ],
 "metadata": {
  "kernelspec": {
   "display_name": "Python 3 (ipykernel)",
   "language": "python",
   "name": "python3"
  },
  "language_info": {
   "codemirror_mode": {
    "name": "ipython",
    "version": 3
   },
   "file_extension": ".py",
   "mimetype": "text/x-python",
   "name": "python",
   "nbconvert_exporter": "python",
   "pygments_lexer": "ipython3",
   "version": "3.11.8"
  }
 },
 "nbformat": 4,
 "nbformat_minor": 5
}