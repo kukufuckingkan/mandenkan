{
 "cells": [
  {
   "cell_type": "markdown",
   "id": "c7b763f1-0a36-477e-9960-38ab4b09da64",
   "metadata": {},
   "source": [
    "# vowels"
   ]
  },
  {
   "cell_type": "markdown",
   "id": "dc926120-e0ef-4dd9-b9b7-8c5908d952d2",
   "metadata": {},
   "source": [
    "(francais_alphabet_table_vowel_extended)=\n",
    "```{table} nko vowels\n",
    ":name: my-table-ref\n",
    "|ߎ߳|ߋ߳\n",
    "|-|-|\n",
    "|E|U|\n",
    "```"
   ]
  }
 ],
 "metadata": {
  "kernelspec": {
   "display_name": "Python 3 (ipykernel)",
   "language": "python",
   "name": "python3"
  },
  "language_info": {
   "codemirror_mode": {
    "name": "ipython",
    "version": 3
   },
   "file_extension": ".py",
   "mimetype": "text/x-python",
   "name": "python",
   "nbconvert_exporter": "python",
   "pygments_lexer": "ipython3",
   "version": "3.11.8"
  }
 },
 "nbformat": 4,
 "nbformat_minor": 5
}