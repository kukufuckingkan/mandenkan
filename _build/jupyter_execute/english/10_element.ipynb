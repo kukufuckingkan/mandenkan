{
 "cells": [
  {
   "cell_type": "code",
   "execution_count": null,
   "id": "603c15f3-bb88-41eb-ae91-200f10eb3d09",
   "metadata": {},
   "outputs": [],
   "source": [
    "# element"
   ]
  },
  {
   "cell_type": "code",
   "execution_count": null,
   "id": "23702a45-5898-475e-813b-28fb06ef99d8",
   "metadata": {},
   "outputs": [],
   "source": [
    "import kukukan"
   ]
  }
 ],
 "metadata": {
  "kernelspec": {
   "display_name": "Python 3 (ipykernel)",
   "language": "python",
   "name": "python3"
  },
  "language_info": {
   "codemirror_mode": {
    "name": "ipython",
    "version": 3
   },
   "file_extension": ".py",
   "mimetype": "text/x-python",
   "name": "python",
   "nbconvert_exporter": "python",
   "pygments_lexer": "ipython3",
   "version": "3.11.8"
  }
 },
 "nbformat": 4,
 "nbformat_minor": 5
}