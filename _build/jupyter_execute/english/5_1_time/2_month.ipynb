{
 "cells": [
  {
   "cell_type": "markdown",
   "id": "c6c33141-9714-4eea-85a1-3ed1382c7d35",
   "metadata": {},
   "source": [
    "# month"
   ]
  },
  {
   "cell_type": "code",
   "execution_count": null,
   "id": "c06aec68-efc8-4009-85f6-1419f633a75f",
   "metadata": {},
   "outputs": [],
   "source": []
  },
  {
   "cell_type": "code",
   "execution_count": 1,
   "id": "ffb0e1d3-55f4-42dd-8bfe-3a333d5ccee3",
   "metadata": {},
   "outputs": [
    {
     "ename": "ImportError",
     "evalue": "cannot import name 'player' from 'kukukan' (/opt/anaconda3/lib/python3.11/site-packages/kukukan/__init__.py)",
     "output_type": "error",
     "traceback": [
      "\u001b[0;31m---------------------------------------------------------------------------\u001b[0m",
      "\u001b[0;31mImportError\u001b[0m                               Traceback (most recent call last)",
      "Cell \u001b[0;32mIn[1], line 5\u001b[0m\n\u001b[1;32m      3\u001b[0m \u001b[38;5;28;01mimport\u001b[39;00m \u001b[38;5;21;01mpandas\u001b[39;00m \u001b[38;5;28;01mas\u001b[39;00m \u001b[38;5;21;01mpd\u001b[39;00m\n\u001b[1;32m      4\u001b[0m \u001b[38;5;28;01mfrom\u001b[39;00m \u001b[38;5;21;01mIPython\u001b[39;00m\u001b[38;5;21;01m.\u001b[39;00m\u001b[38;5;21;01mdisplay\u001b[39;00m \u001b[38;5;28;01mimport\u001b[39;00m HTML\n\u001b[0;32m----> 5\u001b[0m \u001b[38;5;28;01mfrom\u001b[39;00m \u001b[38;5;21;01mkukukan\u001b[39;00m \u001b[38;5;28;01mimport\u001b[39;00m player\n\u001b[1;32m      7\u001b[0m df \u001b[38;5;241m=\u001b[39m pd\u001b[38;5;241m.\u001b[39mDataFrame({\n\u001b[1;32m      8\u001b[0m       \u001b[38;5;124m'\u001b[39m\u001b[38;5;124mkaro to\u001b[39m\u001b[38;5;124m'\u001b[39m : [\u001b[38;5;124m'\u001b[39m\u001b[38;5;124mߓߌߠߊߥߎߟ߲ߋ\u001b[39m\u001b[38;5;124m'\u001b[39m,\n\u001b[1;32m      9\u001b[0m               \u001b[38;5;124m'\u001b[39m\u001b[38;5;124mߤ߲ߏߤߏߜߍ\u001b[39m\u001b[38;5;124m'\u001b[39m,\n\u001b[0;32m   (...)\u001b[0m\n\u001b[1;32m     65\u001b[0m     ]\n\u001b[1;32m     66\u001b[0m })\n\u001b[1;32m     69\u001b[0m HTML(df\u001b[38;5;241m.\u001b[39mto_html(escape\u001b[38;5;241m=\u001b[39m\u001b[38;5;28;01mFalse\u001b[39;00m,index\u001b[38;5;241m=\u001b[39m\u001b[38;5;28;01mFalse\u001b[39;00m))\n",
      "\u001b[0;31mImportError\u001b[0m: cannot import name 'player' from 'kukukan' (/opt/anaconda3/lib/python3.11/site-packages/kukukan/__init__.py)"
     ]
    }
   ],
   "source": [
    "# HIDDEN\n",
    "import kukukan\n",
    "import pandas as pd\n",
    "from IPython.display import HTML\n",
    "from kukukan import player\n",
    "\n",
    "df = pd.DataFrame({\n",
    "      'karo to' : ['ߓߌߠߊߥߎߟ߲ߋ',\n",
    "              'ߤ߲ߏߤߏߜߍ',\n",
    "              'ߕߊߙߊߓߊ',\n",
    "              'ߤ߲ߏߤߏߘߌߓߌ',\n",
    "              'ߘߊߓߊߕߊ',\n",
    "              'ߥ߬ߊߛߌߥ߬ߊߙߊ',\n",
    "              'ߤ߬ߊߙ߬ߌߝߐ',\n",
    "              'ߘߊߓ߬ߊߓߌߟߊ',\n",
    "             'ߕߎߟߊߝ߲ߌ',\n",
    "                   'ߤ߲ߏߓߌߕ߮ߌ',\n",
    "                   'ߣߍߣߍߓߊ',\n",
    "                   'ߤߏߟ߲ߌߤߏߟ߲ߌ'\n",
    "             ],\n",
    "    'nko sound': \n",
    "    [\n",
    "    player.play('https://github.com/kukufuckingkan/mandenkan_media/raw/refs/heads/main/vowel/2.mp3','DEV'),\n",
    "    player.play('https://github.com/kukufuckingkan/mandenkan_media/blob/main/vowel/1.mp3','DEV'),        \n",
    "    player.play('resource/asset/audio/1_kan.mp3','DEV'),\n",
    "    player.play('resource/asset/audio/1_kan.mp3','DEV'),\n",
    "    player.play('resource/asset/audio/1_kan.mp3','DEV'),\n",
    "    player.play('resource/asset/audio/1_kan.mp3','DEV'),\n",
    "    player.play('resource/asset/audio/1_kan.mp3','DEV'),\n",
    "    player.play('resource/asset/audio/1_kan.mp3','DEV'),\n",
    "    player.play('resource/asset/audio/1_kan.mp3','DEV'),        \n",
    "    player.play('resource/asset/audio/1_kan.mp3','DEV'),\n",
    "    player.play('resource/asset/audio/1_kan.mp3','DEV'),\n",
    "    player.play('resource/asset/audio/1_kan.mp3','DEV'),\n",
    "    ],\n",
    "    \n",
    "    'month name': ['January',\n",
    "              'February',\n",
    "              'March',\n",
    "              'April',\n",
    "              'May',\n",
    "              'June',\n",
    "            'July',\n",
    "              'August',\n",
    "              'September',\n",
    "              'October',\n",
    "              'November',\n",
    "              'December',\n",
    "             ],\n",
    "    \n",
    "    'month Sound': \n",
    "    [\n",
    "    player.play('resource/asset/audio/1_kan.mp3','DEV'),\n",
    "    player.play('resource/asset/audio/1_kan.mp3','DEV'),        \n",
    "    player.play('resource/asset/audio/1_kan.mp3','DEV'),\n",
    "    player.play('resource/asset/audio/1_kan.mp3','DEV'),\n",
    "    player.play('resource/asset/audio/1_kan.mp3','DEV'),\n",
    "    player.play('resource/asset/audio/1_kan.mp3','DEV'),\n",
    "    player.play('resource/asset/audio/1_kan.mp3','DEV'),\n",
    "    player.play('resource/asset/audio/1_kan.mp3','DEV'),\n",
    "    player.play('resource/asset/audio/1_kan.mp3','DEV'),        \n",
    "    player.play('resource/asset/audio/1_kan.mp3','DEV'),\n",
    "    player.play('resource/asset/audio/1_kan.mp3','DEV'),\n",
    "    player.play('resource/asset/audio/1_kan.mp3','DEV')\n",
    "    ]\n",
    "})\n",
    "\n",
    "\n",
    "HTML(df.to_html(escape=False,index=False))"
   ]
  },
  {
   "cell_type": "code",
   "execution_count": null,
   "id": "f6b4e7ad-b8f0-4664-b556-0a8117272342",
   "metadata": {},
   "outputs": [],
   "source": []
  },
  {
   "cell_type": "code",
   "execution_count": null,
   "id": "0f48d2d6-8c62-4852-bcf5-149bf1b1b5e1",
   "metadata": {},
   "outputs": [],
   "source": []
  }
 ],
 "metadata": {
  "kernelspec": {
   "display_name": "Python 3 (ipykernel)",
   "language": "python",
   "name": "python3"
  },
  "language_info": {
   "codemirror_mode": {
    "name": "ipython",
    "version": 3
   },
   "file_extension": ".py",
   "mimetype": "text/x-python",
   "name": "python",
   "nbconvert_exporter": "python",
   "pygments_lexer": "ipython3",
   "version": "3.11.8"
  }
 },
 "nbformat": 4,
 "nbformat_minor": 5
}