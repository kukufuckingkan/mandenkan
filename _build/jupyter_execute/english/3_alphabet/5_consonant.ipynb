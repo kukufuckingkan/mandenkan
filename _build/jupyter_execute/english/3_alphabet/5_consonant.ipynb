{
 "cells": [
  {
   "cell_type": "markdown",
   "id": "ff90e7c6-7428-4039-9994-d4acfb24a609",
   "metadata": {},
   "source": [
    "(english_alphabet_consonant)=\n",
    "# Consonant"
   ]
  },
  {
   "cell_type": "markdown",
   "id": "0710a62a-f192-4d1a-86d3-20b4daab1094",
   "metadata": {},
   "source": [
    "A consonant is a type of speech sound that is produced by obstructing or constricting the airflow in some way\n",
    "through the vocal tract. This obstruction can occur at various places in the mouth, such as the lips, teeth, or the\n",
    "roof of the mouth. Consonants contrast with vowels, which are produced with an open vocal tract and without\n",
    "significant obstruction.\n"
   ]
  },
  {
   "cell_type": "markdown",
   "id": "67d7a047-3bb0-4ad0-ab99-be0001b56320",
   "metadata": {},
   "source": [
    "(english_alphabet_table_consonant)=\n",
    "```{table} nko consonant\n",
    ":name: my-table-ref22\n",
    "\n",
    "|ߓ|ߔ|ߕ|ߖ|ߗ|ߘ|ߙ|ߚ|ߛ|ߜ|ߝ|ߞ|ߟ|ߡ|ߢ|ߣ|ߤ|ߥ|ߦ|\n",
    "|-|-|-|-|-|-|-|-|-|-|-|-|-|-|-|-|-|-|-|\n",
    "```"
   ]
  },
  {
   "cell_type": "code",
   "execution_count": 1,
   "id": "cd35e4c5-9ef5-4ff9-85a9-250e80c18a7b",
   "metadata": {},
   "outputs": [
    {
     "ename": "ImportError",
     "evalue": "cannot import name 'player' from 'kukukan' (/opt/anaconda3/lib/python3.11/site-packages/kukukan/__init__.py)",
     "output_type": "error",
     "traceback": [
      "\u001b[0;31m---------------------------------------------------------------------------\u001b[0m",
      "\u001b[0;31mImportError\u001b[0m                               Traceback (most recent call last)",
      "Cell \u001b[0;32mIn[1], line 5\u001b[0m\n\u001b[1;32m      3\u001b[0m \u001b[38;5;28;01mimport\u001b[39;00m \u001b[38;5;21;01mpandas\u001b[39;00m \u001b[38;5;28;01mas\u001b[39;00m \u001b[38;5;21;01mpd\u001b[39;00m\n\u001b[1;32m      4\u001b[0m \u001b[38;5;28;01mfrom\u001b[39;00m \u001b[38;5;21;01mIPython\u001b[39;00m\u001b[38;5;21;01m.\u001b[39;00m\u001b[38;5;21;01mdisplay\u001b[39;00m \u001b[38;5;28;01mimport\u001b[39;00m HTML\n\u001b[0;32m----> 5\u001b[0m \u001b[38;5;28;01mfrom\u001b[39;00m \u001b[38;5;21;01mkukukan\u001b[39;00m \u001b[38;5;28;01mimport\u001b[39;00m player\n\u001b[1;32m      7\u001b[0m df \u001b[38;5;241m=\u001b[39m pd\u001b[38;5;241m.\u001b[39mDataFrame({\n\u001b[1;32m      8\u001b[0m     \u001b[38;5;124m'\u001b[39m\u001b[38;5;124mVowel\u001b[39m\u001b[38;5;124m'\u001b[39m: [\u001b[38;5;124m'\u001b[39m\u001b[38;5;124mߓ\u001b[39m\u001b[38;5;124m'\u001b[39m,\n\u001b[1;32m      9\u001b[0m               \u001b[38;5;124m'\u001b[39m\u001b[38;5;124mߔ\u001b[39m\u001b[38;5;124m'\u001b[39m,\n\u001b[0;32m   (...)\u001b[0m\n\u001b[1;32m     50\u001b[0m     ]\n\u001b[1;32m     51\u001b[0m })\n\u001b[1;32m     54\u001b[0m HTML(df\u001b[38;5;241m.\u001b[39mto_html(escape\u001b[38;5;241m=\u001b[39m\u001b[38;5;28;01mFalse\u001b[39;00m,index\u001b[38;5;241m=\u001b[39m\u001b[38;5;28;01mFalse\u001b[39;00m))\n",
      "\u001b[0;31mImportError\u001b[0m: cannot import name 'player' from 'kukukan' (/opt/anaconda3/lib/python3.11/site-packages/kukukan/__init__.py)"
     ]
    }
   ],
   "source": [
    "# HIDDEN\n",
    "import kukukan\n",
    "import pandas as pd\n",
    "from IPython.display import HTML\n",
    "from kukukan import player\n",
    "\n",
    "df = pd.DataFrame({\n",
    "    'Vowel': ['ߓ',\n",
    "              'ߔ',\n",
    "              'ߕ',\n",
    "              'ߖ',\n",
    "              'ߗ',\n",
    "              'ߘ',\n",
    "              'ߙ',\n",
    "              'ߚ',\n",
    "              'ߛ',\n",
    "              'ߜ',\n",
    "              'ߝ',\n",
    "              'ߞ',\n",
    "              'ߟ',\n",
    "              'ߡ',\n",
    "              'ߢ',\n",
    "              'ߣ',\n",
    "              'ߤ',\n",
    "              'ߥ',\n",
    "              'ߦ'\n",
    "             ],\n",
    "    \n",
    "    'Sound': \n",
    "    [\n",
    "    player.playFromGitt('CONSONANT',1),\n",
    "    player.playFromGitt('CONSONANT',2),       \n",
    "    player.playFromGitt('CONSONANT',3),\n",
    "    player.playFromGitt('CONSONANT',4),\n",
    "    player.playFromGitt('CONSONANT',5),\n",
    "    player.playFromGitt('CONSONANT',6),\n",
    "    player.playFromGitt('CONSONANT',7),\n",
    "    player.playFromGitt('CONSONANT',8),\n",
    "    player.playFromGitt('CONSONANT',9),       \n",
    "    player.playFromGitt('CONSONANT',10),\n",
    "    player.playFromGitt('CONSONANT',11),\n",
    "    player.playFromGitt('CONSONANT',12),\n",
    "    player.playFromGitt('CONSONANT',13),\n",
    "    player.playFromGitt('CONSONANT',14),\n",
    "    player.playFromGitt('CONSONANT',15),\n",
    "    player.playFromGitt('CONSONANT',16),\n",
    "    player.playFromGitt('CONSONANT',17),\n",
    "    player.playFromGitt('CONSONANT',18),\n",
    "    player.playFromGitt('CONSONANT',19),\n",
    "    ]\n",
    "})\n",
    "\n",
    "\n",
    "HTML(df.to_html(escape=False,index=False))"
   ]
  },
  {
   "cell_type": "code",
   "execution_count": null,
   "id": "3b3bf9e4-a716-4c82-ae39-fd1aa19e1239",
   "metadata": {},
   "outputs": [],
   "source": [
    "## Extended Characters"
   ]
  },
  {
   "cell_type": "markdown",
   "id": "7adfaffb-8a0b-4247-a975-9fee428093f5",
   "metadata": {},
   "source": [
    "(english_alphabet_table_consonant߃)=\n",
    "```{table} nko consonant2\n",
    ":name: my-table-ref22߅߅\n",
    "\n",
    "|G|Z|V|KH|\n",
    "|-|-|-|-|\n",
    "|ߞ߭|ߝ߭|ߖ߭|ߜ߭|\n",
    "```"
   ]
  },
  {
   "cell_type": "markdown",
   "id": "6be7471c-3c8f-45f6-87dc-0b502570c727",
   "metadata": {},
   "source": []
  },
  {
   "cell_type": "code",
   "execution_count": null,
   "id": "28b38ee9-8165-4114-b102-52741dd9977a",
   "metadata": {},
   "outputs": [],
   "source": []
  }
 ],
 "metadata": {
  "kernelspec": {
   "display_name": "Python 3 (ipykernel)",
   "language": "python",
   "name": "python3"
  },
  "language_info": {
   "codemirror_mode": {
    "name": "ipython",
    "version": 3
   },
   "file_extension": ".py",
   "mimetype": "text/x-python",
   "name": "python",
   "nbconvert_exporter": "python",
   "pygments_lexer": "ipython3",
   "version": "3.11.8"
  }
 },
 "nbformat": 4,
 "nbformat_minor": 5
}