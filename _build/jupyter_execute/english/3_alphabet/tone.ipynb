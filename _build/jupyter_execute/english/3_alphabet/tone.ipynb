{
 "cells": [
  {
   "cell_type": "code",
   "execution_count": 6,
   "id": "f1bde867-30e9-428c-b33b-a4fc4c912aaf",
   "metadata": {},
   "outputs": [
    {
     "ename": "ModuleNotFoundError",
     "evalue": "No module named 'kukufuckingkan'",
     "output_type": "error",
     "traceback": [
      "\u001b[0;31m---------------------------------------------------------------------------\u001b[0m",
      "\u001b[0;31mModuleNotFoundError\u001b[0m                       Traceback (most recent call last)",
      "Cell \u001b[0;32mIn[6], line 3\u001b[0m\n\u001b[1;32m      1\u001b[0m \u001b[38;5;28;01mimport\u001b[39;00m \u001b[38;5;21;01mpandas\u001b[39;00m \u001b[38;5;28;01mas\u001b[39;00m \u001b[38;5;21;01mpd\u001b[39;00m\n\u001b[1;32m      2\u001b[0m \u001b[38;5;28;01mfrom\u001b[39;00m \u001b[38;5;21;01mIPython\u001b[39;00m\u001b[38;5;21;01m.\u001b[39;00m\u001b[38;5;21;01mdisplay\u001b[39;00m \u001b[38;5;28;01mimport\u001b[39;00m HTML\n\u001b[0;32m----> 3\u001b[0m \u001b[38;5;28;01mimport\u001b[39;00m \u001b[38;5;21;01mkukufuckingkan\u001b[39;00m\n\u001b[1;32m      5\u001b[0m df \u001b[38;5;241m=\u001b[39m pd\u001b[38;5;241m.\u001b[39mDataFrame({\n\u001b[1;32m      6\u001b[0m     \u001b[38;5;124m'\u001b[39m\u001b[38;5;124mVowel\u001b[39m\u001b[38;5;124m'\u001b[39m: [\u001b[38;5;124m'\u001b[39m\u001b[38;5;124mߊ\u001b[39m\u001b[38;5;124m'\u001b[39m,\n\u001b[1;32m      7\u001b[0m               \u001b[38;5;124m'\u001b[39m\u001b[38;5;124mߋ\u001b[39m\u001b[38;5;124m'\u001b[39m,\n\u001b[0;32m   (...)\u001b[0m\n\u001b[1;32m     24\u001b[0m     ]\n\u001b[1;32m     25\u001b[0m })\n\u001b[1;32m     28\u001b[0m HTML(df\u001b[38;5;241m.\u001b[39mto_html(escape\u001b[38;5;241m=\u001b[39m\u001b[38;5;28;01mFalse\u001b[39;00m,index\u001b[38;5;241m=\u001b[39m\u001b[38;5;28;01mFalse\u001b[39;00m))\n",
      "\u001b[0;31mModuleNotFoundError\u001b[0m: No module named 'kukufuckingkan'"
     ]
    }
   ],
   "source": [
    "import pandas as pd\n",
    "from IPython.display import HTML\n",
    "import kukufuckingkan\n",
    "\n",
    "df = pd.DataFrame({\n",
    "    'Vowel': ['ߊ',\n",
    "              'ߋ',\n",
    "              'ߌ',\n",
    "              'ߍ',\n",
    "              'ߎ',\n",
    "              'ߏ',\n",
    "              'ߐ',\n",
    "             ],\n",
    "    \n",
    "    'Sound': \n",
    "    [\n",
    "    audio.player('resource/asset/audio/1_kan.mp3','DEV'),\n",
    "    audio.player('resource/asset/audio/1_kan.mp3','DEV'),        \n",
    "    audio.player('resource/asset/audio/1_kan.mp3','DEV'),\n",
    "    audio.player('resource/asset/audio/1_kan.mp3','DEV'),\n",
    "    audio.player('resource/asset/audio/1_kan.mp3','DEV'),\n",
    "    audio.player('resource/asset/audio/1_kan.mp3','DEV'),\n",
    "    audio.player('resource/asset/audio/1_kan.mp3','DEV'),\n",
    "    ]\n",
    "})\n",
    "\n",
    "\n",
    "HTML(df.to_html(escape=False,index=False))"
   ]
  },
  {
   "cell_type": "code",
   "execution_count": null,
   "id": "fe22d6c6-46ef-48af-a71c-1ee6cae4c062",
   "metadata": {},
   "outputs": [],
   "source": []
  }
 ],
 "metadata": {
  "kernelspec": {
   "display_name": "Python 3 (ipykernel)",
   "language": "python",
   "name": "python3"
  },
  "language_info": {
   "codemirror_mode": {
    "name": "ipython",
    "version": 3
   },
   "file_extension": ".py",
   "mimetype": "text/x-python",
   "name": "python",
   "nbconvert_exporter": "python",
   "pygments_lexer": "ipython3",
   "version": "3.11.8"
  }
 },
 "nbformat": 4,
 "nbformat_minor": 5
}