{
 "cells": [
  {
   "cell_type": "markdown",
   "id": "9d5b8e90-33a9-416f-b174-43fcd9d9428f",
   "metadata": {},
   "source": [
    "# Formulas"
   ]
  },
  {
   "cell_type": "markdown",
   "id": "b1f4ba75-56ee-49a6-b20a-460f95b7f9b2",
   "metadata": {},
   "source": [
    "## Mathematics"
   ]
  },
  {
   "cell_type": "markdown",
   "id": "cd61db20-f0ef-4734-9931-5eac8ff76346",
   "metadata": {},
   "source": [
    "### Probability & Statistics"
   ]
  },
  {
   "cell_type": "markdown",
   "id": "d68d236a-039c-451c-9893-cb3bcaf8972e",
   "metadata": {},
   "source": [
    "#### Permutation"
   ]
  },
  {
   "cell_type": "markdown",
   "id": "ae5b1ea3-5a47-449f-a3d4-a72d4e95e396",
   "metadata": {},
   "source": [
    "##### Permutation without repetition"
   ]
  },
  {
   "cell_type": "markdown",
   "id": "78112c65-5561-4e9b-9b85-7e1de31fb2a2",
   "metadata": {},
   "source": [
    "$$ _{n}p_{r} = \\frac {n!}{(n-r)!}$$"
   ]
  },
  {
   "cell_type": "markdown",
   "id": "23a413b6-ae57-4e33-91aa-655c44a4a190",
   "metadata": {},
   "source": [
    "##### Permutation with repetition"
   ]
  },
  {
   "cell_type": "markdown",
   "id": "193e2aa1-dba9-41cc-969b-9cfa2078c4ae",
   "metadata": {},
   "source": [
    "$$ _{n}p_{r} = \\frac {n!}{(n-r)!}$$"
   ]
  },
  {
   "cell_type": "markdown",
   "id": "76f47135-24b3-4ccf-b90c-c267536f4723",
   "metadata": {},
   "source": [
    "##Chemistry"
   ]
  },
  {
   "cell_type": "markdown",
   "id": "6546f85e-dd89-4003-ab8d-710791733b84",
   "metadata": {},
   "source": [
    "##Physics"
   ]
  },
  {
   "cell_type": "code",
   "execution_count": null,
   "id": "ce94556b-337d-41a3-b04d-108309c64493",
   "metadata": {},
   "outputs": [],
   "source": []
  },
  {
   "cell_type": "code",
   "execution_count": null,
   "id": "97ba859a-b605-45f2-9b0d-23cbce3fefc4",
   "metadata": {},
   "outputs": [],
   "source": []
  }
 ],
 "metadata": {
  "kernelspec": {
   "display_name": "Python 3 (ipykernel)",
   "language": "python",
   "name": "python3"
  },
  "language_info": {
   "codemirror_mode": {
    "name": "ipython",
    "version": 3
   },
   "file_extension": ".py",
   "mimetype": "text/x-python",
   "name": "python",
   "nbconvert_exporter": "python",
   "pygments_lexer": "ipython3",
   "version": "3.11.7"
  }
 },
 "nbformat": 4,
 "nbformat_minor": 5
}