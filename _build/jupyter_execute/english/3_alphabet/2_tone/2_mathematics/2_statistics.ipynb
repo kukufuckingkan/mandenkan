{
 "cells": [
  {
   "cell_type": "markdown",
   "id": "c52a8fca-3a2b-4c7a-80b8-c5303469b16d",
   "metadata": {},
   "source": [
    "# Statistics"
   ]
  },
  {
   "cell_type": "markdown",
   "id": "5eed0b88-b31a-435c-bd03-5d30db6b025d",
   "metadata": {},
   "source": [
    "https://www.tutorialspoint.com/how-can-scipy-be-used-to-calculate-the-permutations-and-combination-values-in-python"
   ]
  },
  {
   "cell_type": "markdown",
   "id": "c167d641-3e0d-4abd-a3b7-74a311741269",
   "metadata": {},
   "source": [
    "https://docs.scipy.org/doc/scipy/reference/generated/scipy.stats.permutation_test.html"
   ]
  },
  {
   "cell_type": "markdown",
   "id": "51c83547-1cf5-4bb2-a121-f06f04b6b905",
   "metadata": {},
   "source": [
    "https://docs.scipy.org/doc/scipy/reference/generated/scipy.special.perm.html"
   ]
  },
  {
   "cell_type": "markdown",
   "id": "0b16343e-4025-4a09-8e2b-066f6bb6b91f",
   "metadata": {},
   "source": [
    "https://github.com/Probability-Statistics-Jupyter-Notebook/probability-statistics-notebook"
   ]
  }
 ],
 "metadata": {
  "kernelspec": {
   "display_name": "Python 3 (ipykernel)",
   "language": "python",
   "name": "python3"
  },
  "language_info": {
   "codemirror_mode": {
    "name": "ipython",
    "version": 3
   },
   "file_extension": ".py",
   "mimetype": "text/x-python",
   "name": "python",
   "nbconvert_exporter": "python",
   "pygments_lexer": "ipython3",
   "version": "3.11.7"
  }
 },
 "nbformat": 4,
 "nbformat_minor": 5
}