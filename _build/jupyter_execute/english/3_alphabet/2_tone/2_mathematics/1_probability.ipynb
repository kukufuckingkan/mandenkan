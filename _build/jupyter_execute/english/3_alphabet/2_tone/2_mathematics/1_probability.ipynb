{
 "cells": [
  {
   "cell_type": "markdown",
   "id": "bef3247b-a339-484c-9217-e23f9725880f",
   "metadata": {},
   "source": [
    "# Probablity"
   ]
  },
  {
   "cell_type": "code",
   "execution_count": 1,
   "id": "f49fe122-c755-4b11-9ac0-24369290a366",
   "metadata": {
    "tags": []
   },
   "outputs": [],
   "source": [
    "from itertools import permutations\n",
    "from math import factorial"
   ]
  },
  {
   "cell_type": "code",
   "execution_count": 2,
   "id": "5aa6e832-082f-45c1-b7d1-d4bb627ae05e",
   "metadata": {
    "tags": []
   },
   "outputs": [
    {
     "name": "stdout",
     "output_type": "stream",
     "text": [
      "A B C\n",
      "A B D\n",
      "A C B\n",
      "A C D\n",
      "A D B\n",
      "A D C\n",
      "B A C\n",
      "B A D\n",
      "B C A\n",
      "B C D\n",
      "B D A\n",
      "B D C\n",
      "C A B\n",
      "C A D\n",
      "C B A\n",
      "C B D\n",
      "C D A\n",
      "C D B\n",
      "D A B\n",
      "D A C\n",
      "D B A\n",
      "D B C\n",
      "D C A\n",
      "D C B\n"
     ]
    }
   ],
   "source": [
    "per = permutations('ABCD', 3)\n",
    "for val in per:\n",
    "    print(*val)"
   ]
  },
  {
   "cell_type": "code",
   "execution_count": 3,
   "id": "d17de840-bae7-49b5-883e-6c8940520bea",
   "metadata": {
    "tags": []
   },
   "outputs": [
    {
     "data": {
      "text/plain": [
       "array([ 720., 5040.])"
      ]
     },
     "execution_count": 3,
     "metadata": {},
     "output_type": "execute_result"
    }
   ],
   "source": [
    "import scipy\n",
    "import numpy as np\n",
    "from scipy.special import perm\n",
    "\n",
    "k = np.array([3, 4])\n",
    "n = np.array([10, 10])\n",
    "perm(n, k)"
   ]
  },
  {
   "cell_type": "code",
   "execution_count": 4,
   "id": "3379d2dd-145a-4a74-94a0-04e62d563462",
   "metadata": {
    "tags": []
   },
   "outputs": [
    {
     "data": {
      "text/plain": [
       "30"
      ]
     },
     "execution_count": 4,
     "metadata": {},
     "output_type": "execute_result"
    }
   ],
   "source": [
    "perm(6, 2, exact=True)"
   ]
  },
  {
   "cell_type": "code",
   "execution_count": 5,
   "id": "8d283298-8f66-468b-ad1f-0021a0ce9433",
   "metadata": {
    "tags": []
   },
   "outputs": [],
   "source": [
    "from sympy import *\n",
    "x, y, z = symbols(\"x y z\")"
   ]
  },
  {
   "cell_type": "code",
   "execution_count": 6,
   "id": "6ea43f90-3707-4f0f-83c0-8a2270633bd1",
   "metadata": {
    "tags": []
   },
   "outputs": [
    {
     "data": {
      "text/latex": [
       "$\\displaystyle \\cos{\\left(y \\right)} + 1$"
      ],
      "text/plain": [
       "cos(y) + 1"
      ]
     },
     "execution_count": 6,
     "metadata": {},
     "output_type": "execute_result"
    }
   ],
   "source": [
    "expr = cos(x) + 1\n",
    "expr.subs(x, y)"
   ]
  },
  {
   "cell_type": "code",
   "execution_count": null,
   "id": "5c92f49d-9100-47bf-9ad4-a62b3bdd09ed",
   "metadata": {},
   "outputs": [],
   "source": []
  },
  {
   "cell_type": "markdown",
   "id": "b819ac0c-ef94-464d-a335-04f5f8f92d00",
   "metadata": {},
   "source": [
    "Given that tone can be either either high or low, Where high referes to the absolute maximum and low referes to the absolute minimum. Assume that low and high intonations do not varies. that is to say, if x1,x2 respectively refer to the intensity of low and high tone, x1 and x2 are constant. that is we can speak in either a continous high tone or at a continuois low tone.\n",
    "Therefore to mix the tone requires a combination. "
   ]
  },
  {
   "cell_type": "code",
   "execution_count": 7,
   "id": "3181d961-3d92-487f-bf2d-3ec7d57ec4b5",
   "metadata": {},
   "outputs": [],
   "source": [
    "#Permutation without repetion"
   ]
  },
  {
   "cell_type": "code",
   "execution_count": null,
   "id": "83df15bf-57be-45a1-9e32-6e5ac49437bc",
   "metadata": {},
   "outputs": [],
   "source": []
  },
  {
   "cell_type": "markdown",
   "id": "d99e0bd3-1434-4a9c-a21b-473dddfb639f",
   "metadata": {},
   "source": [
    "# Permutation without repetion"
   ]
  },
  {
   "cell_type": "markdown",
   "id": "b08be16e-a962-4f21-bc53-24b7bc088655",
   "metadata": {},
   "source": [
    "The permutations without repetion of tones high, low and wavy along with elongated ,descending, and ascending gives using formula."
   ]
  },
  {
   "cell_type": "markdown",
   "id": "34764388-5f58-4109-9984-efb0ff90cca9",
   "metadata": {
    "tags": []
   },
   "source": [
    "$ y = a + b x $"
   ]
  },
  {
   "cell_type": "markdown",
   "id": "69fc5349-5b08-4d5d-b694-c52ba9a90135",
   "metadata": {},
   "source": [
    "$$ _{n}p_{r} = \\frac {n!}{(n-r)!}$$"
   ]
  },
  {
   "cell_type": "code",
   "execution_count": 8,
   "id": "5cf27afa-ea25-45fa-ac94-ffab4281444c",
   "metadata": {
    "tags": []
   },
   "outputs": [
    {
     "data": {
      "text/plain": [
       "6"
      ]
     },
     "execution_count": 8,
     "metadata": {},
     "output_type": "execute_result"
    }
   ],
   "source": [
    "import scipy\n",
    "import numpy as np\n",
    "from scipy.special import perm\n",
    "\n",
    "perm(3, 2,exact = True)"
   ]
  },
  {
   "cell_type": "code",
   "execution_count": 9,
   "id": "9b1f569b-a0d7-4b57-810a-b842b575ff7f",
   "metadata": {},
   "outputs": [
    {
     "ename": "SyntaxError",
     "evalue": "invalid syntax (1009154886.py, line 1)",
     "output_type": "error",
     "traceback": [
      "\u001b[0;36m  Cell \u001b[0;32mIn[9], line 1\u001b[0;36m\u001b[0m\n\u001b[0;31m    This results in six unique intonations.\u001b[0m\n\u001b[0m         ^\u001b[0m\n\u001b[0;31mSyntaxError\u001b[0m\u001b[0;31m:\u001b[0m invalid syntax\n"
     ]
    }
   ],
   "source": [
    "This results in six unique intonations."
   ]
  },
  {
   "cell_type": "code",
   "execution_count": null,
   "id": "913fb82f-ee48-4ea6-ae21-8b779d292aae",
   "metadata": {},
   "outputs": [],
   "source": []
  },
  {
   "cell_type": "markdown",
   "id": "464035ae-2a87-4b7c-8041-734a5fb1c910",
   "metadata": {},
   "source": [
    "The permutation with repetition gives:"
   ]
  },
  {
   "cell_type": "code",
   "execution_count": 113,
   "id": "5d6f53bd-579c-496b-96b3-c5e114fc2b46",
   "metadata": {
    "tags": []
   },
   "outputs": [
    {
     "data": {
      "text/plain": [
       "0.0"
      ]
     },
     "execution_count": 113,
     "metadata": {},
     "output_type": "execute_result"
    }
   ],
   "source": [
    "import scipy\n",
    "import numpy as np\n",
    "from scipy.special import perm\n",
    "perm(2, 3)"
   ]
  },
  {
   "cell_type": "markdown",
   "id": "66c4c582-b189-4d5b-b4d6-210bf7d32908",
   "metadata": {},
   "source": [
    "# The combination gives"
   ]
  },
  {
   "cell_type": "code",
   "execution_count": 120,
   "id": "2fcc657f-4b77-48c7-8656-1fd3f9c85926",
   "metadata": {
    "tags": []
   },
   "outputs": [
    {
     "name": "stdout",
     "output_type": "stream",
     "text": [
      "The combination of 6 and 2 is \n",
      "15\n"
     ]
    }
   ],
   "source": [
    "from scipy.special import comb\n",
    "my_comb = comb(6, 2, exact = True)\n",
    "print(\"The combination of 6 and 2 is \")\n",
    "print(my_comb)"
   ]
  },
  {
   "cell_type": "code",
   "execution_count": null,
   "id": "208071b5-b047-49d1-813a-a8b98bbaf190",
   "metadata": {},
   "outputs": [],
   "source": []
  }
 ],
 "metadata": {
  "kernelspec": {
   "display_name": "Python 3 (ipykernel)",
   "language": "python",
   "name": "python3"
  },
  "language_info": {
   "codemirror_mode": {
    "name": "ipython",
    "version": 3
   },
   "file_extension": ".py",
   "mimetype": "text/x-python",
   "name": "python",
   "nbconvert_exporter": "python",
   "pygments_lexer": "ipython3",
   "version": "3.11.8"
  }
 },
 "nbformat": 4,
 "nbformat_minor": 5
}