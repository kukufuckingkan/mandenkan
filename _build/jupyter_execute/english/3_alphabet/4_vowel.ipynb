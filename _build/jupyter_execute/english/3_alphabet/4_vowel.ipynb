{
 "cells": [
  {
   "cell_type": "markdown",
   "id": "d412486d-220e-4fef-ae30-f4ebd5b5664f",
   "metadata": {},
   "source": [
    "(english_alphabet_vowel)=\n",
    "# vowel\n",
    "## ߛߌߙߊߟߊ߲\n",
    "\n",
    "Enko alphabet , called ߦߌߙߌߥߊ (yiriwa) , has seven vowels. This sounds are the universal vowels sounds, the\n",
    "sound of the rain, the drum and of all that is.\n",
    "A vowel is a sound of the speech produced without any constriction of the vocal tract. Such a sound is produced\n",
    "by the free flow of air from the stomach to the open mouth. The tongue remains suspended in the mouth while\n",
    "producing such a sound. That is to say: a vowel is produced by allowing the free flow of sound waves, which are\n",
    "produced by air, from the stomach to the mouth. The nasopharynx remains unconstricted with little resistance\n",
    "in the throat. These are the sweetest sounds of nature.\n",
    "Some languages distinguishes between short and long vowels. This differentiation is due to the duration of the\n",
    "air producing the vowel’s sound in the during enunciation\n",
    "\n",
    "\n",
    "(english_alphabet_table_vowel)=\n",
    "```{table} nko vowels\n",
    ":name: my-table-ref\n",
    "|ߊ|ߋ|ߌ|ߍ|ߎ|ߏ|ߐ|\n",
    "|-|-|-|-|-|-|-|\n",
    "```"
   ]
  },
  {
   "cell_type": "code",
   "execution_count": 1,
   "id": "bcbdc91c-a690-4ce2-a829-5c59df7c9c13",
   "metadata": {
    "tags": []
   },
   "outputs": [
    {
     "ename": "ImportError",
     "evalue": "cannot import name 'player' from 'kukukan' (/opt/anaconda3/lib/python3.11/site-packages/kukukan/__init__.py)",
     "output_type": "error",
     "traceback": [
      "\u001b[0;31m---------------------------------------------------------------------------\u001b[0m",
      "\u001b[0;31mImportError\u001b[0m                               Traceback (most recent call last)",
      "Cell \u001b[0;32mIn[1], line 5\u001b[0m\n\u001b[1;32m      3\u001b[0m \u001b[38;5;28;01mimport\u001b[39;00m \u001b[38;5;21;01mpandas\u001b[39;00m \u001b[38;5;28;01mas\u001b[39;00m \u001b[38;5;21;01mpd\u001b[39;00m\n\u001b[1;32m      4\u001b[0m \u001b[38;5;28;01mfrom\u001b[39;00m \u001b[38;5;21;01mIPython\u001b[39;00m\u001b[38;5;21;01m.\u001b[39;00m\u001b[38;5;21;01mdisplay\u001b[39;00m \u001b[38;5;28;01mimport\u001b[39;00m HTML\n\u001b[0;32m----> 5\u001b[0m \u001b[38;5;28;01mfrom\u001b[39;00m \u001b[38;5;21;01mkukukan\u001b[39;00m \u001b[38;5;28;01mimport\u001b[39;00m player\n\u001b[1;32m      7\u001b[0m df \u001b[38;5;241m=\u001b[39m pd\u001b[38;5;241m.\u001b[39mDataFrame({\n\u001b[1;32m      8\u001b[0m     \u001b[38;5;124m'\u001b[39m\u001b[38;5;124mVowel\u001b[39m\u001b[38;5;124m'\u001b[39m: [\u001b[38;5;124m'\u001b[39m\u001b[38;5;124mߊ\u001b[39m\u001b[38;5;124m'\u001b[39m,\n\u001b[1;32m      9\u001b[0m               \u001b[38;5;124m'\u001b[39m\u001b[38;5;124mߋ\u001b[39m\u001b[38;5;124m'\u001b[39m,\n\u001b[0;32m   (...)\u001b[0m\n\u001b[1;32m     26\u001b[0m     ]\n\u001b[1;32m     27\u001b[0m })\n\u001b[1;32m     29\u001b[0m \u001b[38;5;66;03m# df = df.style.set_table_styles(\u001b[39;00m\n\u001b[1;32m     30\u001b[0m \u001b[38;5;66;03m#     [{'selector': 'td', 'props': [('text-align', 'center')]}]\u001b[39;00m\n\u001b[1;32m     31\u001b[0m \u001b[38;5;66;03m# )\u001b[39;00m\n",
      "\u001b[0;31mImportError\u001b[0m: cannot import name 'player' from 'kukukan' (/opt/anaconda3/lib/python3.11/site-packages/kukukan/__init__.py)"
     ]
    }
   ],
   "source": [
    "# HIDDEN\n",
    "import kukukan\n",
    "import pandas as pd\n",
    "from IPython.display import HTML\n",
    "from kukukan import player\n",
    "\n",
    "df = pd.DataFrame({\n",
    "    'Vowel': ['ߊ',\n",
    "              'ߋ',\n",
    "              'ߌ',\n",
    "              'ߍ',\n",
    "              'ߎ',\n",
    "              'ߏ',\n",
    "              'ߐ',\n",
    "             ],\n",
    "    \n",
    "    'Sound': \n",
    "    [\n",
    "    player.playFromGitt('VOWEL',1),\n",
    "    player.playFromGitt('VOWEL',2),        \n",
    "    player.playFromGitt('VOWEL',3),\n",
    "    player.playFromGitt('VOWEL',4),\n",
    "    player.playFromGitt('VOWEL',5),\n",
    "    player.playFromGitt('VOWEL',6),\n",
    "    player.playFromGitt('VOWEL',7),\n",
    "    ]\n",
    "})\n",
    "\n",
    "# df = df.style.set_table_styles(\n",
    "#     [{'selector': 'td', 'props': [('text-align', 'center')]}]\n",
    "# )\n",
    "\n",
    "HTML(df.to_html(escape=False,index=False))"
   ]
  },
  {
   "cell_type": "code",
   "execution_count": null,
   "id": "6fcad3df-335b-4d21-8253-244536f39747",
   "metadata": {},
   "outputs": [],
   "source": []
  },
  {
   "cell_type": "code",
   "execution_count": null,
   "id": "39586869-991b-4725-8609-ab35ee0fbe40",
   "metadata": {},
   "outputs": [],
   "source": []
  },
  {
   "cell_type": "code",
   "execution_count": null,
   "id": "6db8edbf-3704-4d37-8ba9-7caed998a871",
   "metadata": {},
   "outputs": [],
   "source": []
  }
 ],
 "metadata": {
  "kernelspec": {
   "display_name": "Python 3 (ipykernel)",
   "language": "python",
   "name": "python3"
  },
  "language_info": {
   "codemirror_mode": {
    "name": "ipython",
    "version": 3
   },
   "file_extension": ".py",
   "mimetype": "text/x-python",
   "name": "python",
   "nbconvert_exporter": "python",
   "pygments_lexer": "ipython3",
   "version": "3.11.8"
  }
 },
 "nbformat": 4,
 "nbformat_minor": 5
}