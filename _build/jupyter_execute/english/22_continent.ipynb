{
 "cells": [
  {
   "cell_type": "markdown",
   "id": "f8d23b3a-6c16-4d20-8bf0-9bc5a57af093",
   "metadata": {},
   "source": [
    "# Land"
   ]
  },
  {
   "cell_type": "code",
   "execution_count": 1,
   "id": "ac94e6b9-a7f9-45f2-9825-4d934658970f",
   "metadata": {},
   "outputs": [
    {
     "data": {
      "text/html": [
       "<table border=\"1\" class=\"dataframe\">\n",
       "  <thead>\n",
       "    <tr style=\"text-align: right;\">\n",
       "      <th></th>\n",
       "      <th>Image</th>\n",
       "      <th>nko</th>\n",
       "      <th>pronounciation</th>\n",
       "      <th>nko pronouncition</th>\n",
       "      <th>image</th>\n",
       "    </tr>\n",
       "  </thead>\n",
       "  <tbody>\n",
       "    <tr>\n",
       "      <th>0</th>\n",
       "      <td></td>\n",
       "      <td></td>\n",
       "      <td>Africa</td>\n",
       "      <td>dja</td>\n",
       "      <td></td>\n",
       "    </tr>\n",
       "    <tr>\n",
       "      <th>1</th>\n",
       "      <td></td>\n",
       "      <td></td>\n",
       "      <td>America</td>\n",
       "      <td>dja</td>\n",
       "      <td></td>\n",
       "    </tr>\n",
       "    <tr>\n",
       "      <th>2</th>\n",
       "      <td></td>\n",
       "      <td></td>\n",
       "      <td>Oceania</td>\n",
       "      <td></td>\n",
       "      <td></td>\n",
       "    </tr>\n",
       "    <tr>\n",
       "      <th>3</th>\n",
       "      <td></td>\n",
       "      <td></td>\n",
       "      <td>America</td>\n",
       "      <td></td>\n",
       "      <td></td>\n",
       "    </tr>\n",
       "    <tr>\n",
       "      <th>4</th>\n",
       "      <td></td>\n",
       "      <td></td>\n",
       "      <td>Asia</td>\n",
       "      <td></td>\n",
       "      <td></td>\n",
       "    </tr>\n",
       "  </tbody>\n",
       "</table>"
      ],
      "text/plain": [
       "<IPython.core.display.HTML object>"
      ]
     },
     "execution_count": 1,
     "metadata": {},
     "output_type": "execute_result"
    }
   ],
   "source": [
    "# HIDDEN\n",
    "import pandas as pd\n",
    "from IPython.display import HTML\n",
    "\n",
    "# Define headers and values (as lists)\n",
    "headers = ['Image', 'nko', 'pronounciation', 'nko pronouncition','image']\n",
    "values = [\n",
    "    ['', '', 'Africa','dja',''],\n",
    "    ['', '', 'America','dja',''],\n",
    "    ['', '', 'Oceania','',''],\n",
    "    ['', '', 'America','',''], \n",
    "    ['', '', 'Asia','',''],\n",
    "    \n",
    "    \n",
    "    \n",
    "  \n",
    "]\n",
    "\n",
    "# Create the DataFrame with headers and rows of values\n",
    "df = pd.DataFrame(values, columns=headers)\n",
    "\n",
    "HTML(df.to_html(escape=False))"
   ]
  }
 ],
 "metadata": {
  "kernelspec": {
   "display_name": "Python 3 (ipykernel)",
   "language": "python",
   "name": "python3"
  },
  "language_info": {
   "codemirror_mode": {
    "name": "ipython",
    "version": 3
   },
   "file_extension": ".py",
   "mimetype": "text/x-python",
   "name": "python",
   "nbconvert_exporter": "python",
   "pygments_lexer": "ipython3",
   "version": "3.11.8"
  }
 },
 "nbformat": 4,
 "nbformat_minor": 5
}