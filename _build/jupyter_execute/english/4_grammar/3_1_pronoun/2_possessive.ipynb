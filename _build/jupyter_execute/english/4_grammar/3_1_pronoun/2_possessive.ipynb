{
 "cells": [
  {
   "cell_type": "markdown",
   "id": "e8a6e3b1-1138-45d9-8147-219f54c53961",
   "metadata": {},
   "source": [
    "# Possessive"
   ]
  },
  {
   "cell_type": "markdown",
   "id": "cd42c6a8-a5c1-4105-a5c1-4b1c46a2aa4c",
   "metadata": {},
   "source": [
    "The suffix ߕߊ indicates physical possession. it is equivalent to ߕ."
   ]
  },
  {
   "cell_type": "markdown",
   "id": "d5e50b72-4a56-4944-ab9e-dc76b5c5b94c",
   "metadata": {},
   "source": [
    " ߟߎ߫ indicates the plural."
   ]
  },
  {
   "cell_type": "markdown",
   "id": "ae10d910-9ce2-4600-9d28-93234bb43907",
   "metadata": {},
   "source": [
    "(english_grammar.pronoun_possessive)=\n",
    "```{table} nko vowels\n",
    ":name: my-table-ref\n",
    "|ߒߕ|ߌߕ|ߊߕ|ߏߕ|\n",
    "|-|-|-|-|\n",
    "```"
   ]
  }
 ],
 "metadata": {
  "kernelspec": {
   "display_name": "Python 3 (ipykernel)",
   "language": "python",
   "name": "python3"
  },
  "language_info": {
   "codemirror_mode": {
    "name": "ipython",
    "version": 3
   },
   "file_extension": ".py",
   "mimetype": "text/x-python",
   "name": "python",
   "nbconvert_exporter": "python",
   "pygments_lexer": "ipython3",
   "version": "3.11.8"
  }
 },
 "nbformat": 4,
 "nbformat_minor": 5
}