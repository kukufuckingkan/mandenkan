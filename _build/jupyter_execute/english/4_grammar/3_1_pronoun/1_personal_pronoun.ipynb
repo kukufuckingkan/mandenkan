{
 "cells": [
  {
   "cell_type": "markdown",
   "id": "74b19a50-9e51-40d1-8158-a91e1f57c894",
   "metadata": {},
   "source": [
    "(english_pronoun.personal_pronoun)=\n",
    "# personal\n",
    "\n",
    "this is the page for personal pronoun"
   ]
  }
 ],
 "metadata": {
  "kernelspec": {
   "display_name": "Python 3 (ipykernel)",
   "language": "python",
   "name": "python3"
  },
  "language_info": {
   "codemirror_mode": {
    "name": "ipython",
    "version": 3
   },
   "file_extension": ".py",
   "mimetype": "text/x-python",
   "name": "python",
   "nbconvert_exporter": "python",
   "pygments_lexer": "ipython3",
   "version": "3.11.8"
  }
 },
 "nbformat": 4,
 "nbformat_minor": 5
}