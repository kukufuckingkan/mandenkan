{
 "cells": [
  {
   "cell_type": "markdown",
   "id": "66bab2c9-449b-4773-9138-72fccba59c32",
   "metadata": {},
   "source": [
    "# Summary"
   ]
  },
  {
   "cell_type": "code",
   "execution_count": 1,
   "id": "ed3efb0b-853f-4e2d-bede-4b08c1b3cc85",
   "metadata": {},
   "outputs": [
    {
     "ename": "ImportError",
     "evalue": "cannot import name 'player' from 'kukukan' (/opt/anaconda3/lib/python3.11/site-packages/kukukan/__init__.py)",
     "output_type": "error",
     "traceback": [
      "\u001b[0;31m---------------------------------------------------------------------------\u001b[0m",
      "\u001b[0;31mImportError\u001b[0m                               Traceback (most recent call last)",
      "Cell \u001b[0;32mIn[1], line 5\u001b[0m\n\u001b[1;32m      3\u001b[0m \u001b[38;5;28;01mimport\u001b[39;00m \u001b[38;5;21;01mpandas\u001b[39;00m \u001b[38;5;28;01mas\u001b[39;00m \u001b[38;5;21;01mpd\u001b[39;00m\n\u001b[1;32m      4\u001b[0m \u001b[38;5;28;01mfrom\u001b[39;00m \u001b[38;5;21;01mIPython\u001b[39;00m\u001b[38;5;21;01m.\u001b[39;00m\u001b[38;5;21;01mdisplay\u001b[39;00m \u001b[38;5;28;01mimport\u001b[39;00m HTML\n\u001b[0;32m----> 5\u001b[0m \u001b[38;5;28;01mfrom\u001b[39;00m \u001b[38;5;21;01mkukukan\u001b[39;00m \u001b[38;5;28;01mimport\u001b[39;00m player\n\u001b[1;32m      7\u001b[0m df \u001b[38;5;241m=\u001b[39m pd\u001b[38;5;241m.\u001b[39mDataFrame({\n\u001b[1;32m      8\u001b[0m     \u001b[38;5;124m'\u001b[39m\u001b[38;5;124mVowel\u001b[39m\u001b[38;5;124m'\u001b[39m: [\n\u001b[1;32m      9\u001b[0m             \u001b[38;5;124m'\u001b[39m\u001b[38;5;124mUp\u001b[39m\u001b[38;5;124m'\u001b[39m,\n\u001b[0;32m   (...)\u001b[0m\n\u001b[1;32m     27\u001b[0m     ]\n\u001b[1;32m     28\u001b[0m })\n\u001b[1;32m     30\u001b[0m \u001b[38;5;66;03m# df = df.style.set_table_styles(\u001b[39;00m\n\u001b[1;32m     31\u001b[0m \u001b[38;5;66;03m#     [{'selector': 'td', 'props': [('text-align', 'center')]}]\u001b[39;00m\n\u001b[1;32m     32\u001b[0m \u001b[38;5;66;03m# )\u001b[39;00m\n",
      "\u001b[0;31mImportError\u001b[0m: cannot import name 'player' from 'kukukan' (/opt/anaconda3/lib/python3.11/site-packages/kukukan/__init__.py)"
     ]
    }
   ],
   "source": [
    "# HIDDEN\n",
    "import kukukan\n",
    "import pandas as pd\n",
    "from IPython.display import HTML\n",
    "from kukukan import player\n",
    "\n",
    "df = pd.DataFrame({\n",
    "    'Vowel': [\n",
    "            'Up',\n",
    "              'Down',\n",
    "              'Up',\n",
    "              'Right',\n",
    "              'Left',\n",
    "              'Left',\n",
    "              'on',\n",
    "             ],\n",
    "    \n",
    "    'Sound': \n",
    "    [\n",
    "    player.playFromGitt('VOWEL',1),\n",
    "    player.playFromGitt('VOWEL',2),        \n",
    "    player.playFromGitt('VOWEL',3),\n",
    "    player.playFromGitt('VOWEL',4),\n",
    "    player.playFromGitt('VOWEL',5),\n",
    "    player.playFromGitt('VOWEL',6),\n",
    "    player.playFromGitt('VOWEL',7),\n",
    "    ]\n",
    "})\n",
    "\n",
    "# df = df.style.set_table_styles(\n",
    "#     [{'selector': 'td', 'props': [('text-align', 'center')]}]\n",
    "# )\n",
    "\n",
    "HTML(df.to_html(escape=False,index=False))"
   ]
  },
  {
   "cell_type": "code",
   "execution_count": null,
   "id": "0184c931-c895-4634-a47c-782c968e1452",
   "metadata": {},
   "outputs": [],
   "source": []
  }
 ],
 "metadata": {
  "kernelspec": {
   "display_name": "Python 3 (ipykernel)",
   "language": "python",
   "name": "python3"
  },
  "language_info": {
   "codemirror_mode": {
    "name": "ipython",
    "version": 3
   },
   "file_extension": ".py",
   "mimetype": "text/x-python",
   "name": "python",
   "nbconvert_exporter": "python",
   "pygments_lexer": "ipython3",
   "version": "3.11.8"
  }
 },
 "nbformat": 4,
 "nbformat_minor": 5
}