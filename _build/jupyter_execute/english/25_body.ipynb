{
 "cells": [
  {
   "cell_type": "markdown",
   "id": "fa6b3e20-9e8d-46d4-9362-9862f2eb3f96",
   "metadata": {},
   "source": [
    "# Body"
   ]
  },
  {
   "cell_type": "code",
   "execution_count": 1,
   "id": "8419db72-c26c-4f30-aac8-5f7ee13e6f6c",
   "metadata": {},
   "outputs": [
    {
     "ename": "ImportError",
     "evalue": "cannot import name 'player' from 'kukukan' (/opt/anaconda3/lib/python3.11/site-packages/kukukan/__init__.py)",
     "output_type": "error",
     "traceback": [
      "\u001b[0;31m---------------------------------------------------------------------------\u001b[0m",
      "\u001b[0;31mImportError\u001b[0m                               Traceback (most recent call last)",
      "Cell \u001b[0;32mIn[1], line 5\u001b[0m\n\u001b[1;32m      3\u001b[0m \u001b[38;5;28;01mimport\u001b[39;00m \u001b[38;5;21;01mpandas\u001b[39;00m \u001b[38;5;28;01mas\u001b[39;00m \u001b[38;5;21;01mpd\u001b[39;00m\n\u001b[1;32m      4\u001b[0m \u001b[38;5;28;01mfrom\u001b[39;00m \u001b[38;5;21;01mIPython\u001b[39;00m\u001b[38;5;21;01m.\u001b[39;00m\u001b[38;5;21;01mdisplay\u001b[39;00m \u001b[38;5;28;01mimport\u001b[39;00m HTML\n\u001b[0;32m----> 5\u001b[0m \u001b[38;5;28;01mfrom\u001b[39;00m \u001b[38;5;21;01mkukukan\u001b[39;00m \u001b[38;5;28;01mimport\u001b[39;00m player, image\n\u001b[1;32m      7\u001b[0m df \u001b[38;5;241m=\u001b[39m pd\u001b[38;5;241m.\u001b[39mDataFrame({\n\u001b[1;32m      8\u001b[0m    \u001b[38;5;124m'\u001b[39m\u001b[38;5;124mߖߊ\u001b[39m\u001b[38;5;124m'\u001b[39m: [\n\u001b[1;32m      9\u001b[0m             image\u001b[38;5;241m.\u001b[39mshowHtml(\u001b[38;5;241m1\u001b[39m,\u001b[38;5;124m\"\u001b[39m\u001b[38;5;124mߊ߲ߞߌߟߌ\u001b[39m\u001b[38;5;124m\"\u001b[39m),\n\u001b[0;32m   (...)\u001b[0m\n\u001b[1;32m     32\u001b[0m     ]\n\u001b[1;32m     33\u001b[0m })\n\u001b[1;32m     36\u001b[0m HTML(df\u001b[38;5;241m.\u001b[39mto_html(escape\u001b[38;5;241m=\u001b[39m\u001b[38;5;28;01mFalse\u001b[39;00m,index\u001b[38;5;241m=\u001b[39m\u001b[38;5;28;01mFalse\u001b[39;00m))\n",
      "\u001b[0;31mImportError\u001b[0m: cannot import name 'player' from 'kukukan' (/opt/anaconda3/lib/python3.11/site-packages/kukukan/__init__.py)"
     ]
    }
   ],
   "source": [
    "# HIDDEN\n",
    "import kukukan\n",
    "import pandas as pd\n",
    "from IPython.display import HTML\n",
    "from kukukan import player, image\n",
    "\n",
    "df = pd.DataFrame({\n",
    "   'ߖߊ': [\n",
    "            image.showHtml(1,\"ߊ߲ߞߌߟߌ\"),\n",
    "             ],\n",
    "    \n",
    "    'ߕߐ߮': [\n",
    "            'ߊ߲ߞߌߟߌ',\n",
    "             ],\n",
    "    \n",
    "    'ߞߊ߲': \n",
    "    [\n",
    "    player.playFromGitt('VOWEL',1),       \n",
    "    ],\n",
    "\n",
    "        'Name': [\n",
    "            'Mind',\n",
    "             ],\n",
    "\n",
    "        'Meaning': [\n",
    "            'Call upon us',\n",
    "             ],\n",
    "    \n",
    "    'Pronounciation': \n",
    "    [\n",
    "    player.playFromGitt('VOWEL',1),        \n",
    "    ]\n",
    "})\n",
    "\n",
    "\n",
    "HTML(df.to_html(escape=False,index=False))"
   ]
  },
  {
   "cell_type": "code",
   "execution_count": null,
   "id": "680fb375-6aa6-4113-a653-0e271167dbbd",
   "metadata": {},
   "outputs": [],
   "source": []
  }
 ],
 "metadata": {
  "kernelspec": {
   "display_name": "Python 3 (ipykernel)",
   "language": "python",
   "name": "python3"
  },
  "language_info": {
   "codemirror_mode": {
    "name": "ipython",
    "version": 3
   },
   "file_extension": ".py",
   "mimetype": "text/x-python",
   "name": "python",
   "nbconvert_exporter": "python",
   "pygments_lexer": "ipython3",
   "version": "3.11.8"
  }
 },
 "nbformat": 4,
 "nbformat_minor": 5
}