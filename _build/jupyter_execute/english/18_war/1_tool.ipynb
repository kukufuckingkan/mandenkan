{
 "cells": [
  {
   "cell_type": "markdown",
   "id": "bd6dfc54-466e-4774-920f-6b349b163b3b",
   "metadata": {},
   "source": [
    "# tool"
   ]
  },
  {
   "cell_type": "code",
   "execution_count": 1,
   "id": "1aa231d5-afca-43a2-a564-f175d85143d0",
   "metadata": {},
   "outputs": [
    {
     "data": {
      "text/html": [
       "<table border=\"1\" class=\"dataframe\">\n",
       "  <thead>\n",
       "    <tr style=\"text-align: right;\">\n",
       "      <th></th>\n",
       "      <th>Image</th>\n",
       "      <th>nko</th>\n",
       "      <th>pronounciation</th>\n",
       "      <th>nko pronouncition</th>\n",
       "      <th>image</th>\n",
       "    </tr>\n",
       "  </thead>\n",
       "  <tbody>\n",
       "    <tr>\n",
       "      <th>0</th>\n",
       "      <td></td>\n",
       "      <td></td>\n",
       "      <td>Sword</td>\n",
       "      <td>dja</td>\n",
       "      <td></td>\n",
       "    </tr>\n",
       "    <tr>\n",
       "      <th>1</th>\n",
       "      <td></td>\n",
       "      <td></td>\n",
       "      <td>Gun</td>\n",
       "      <td>dja</td>\n",
       "      <td></td>\n",
       "    </tr>\n",
       "    <tr>\n",
       "      <th>2</th>\n",
       "      <td></td>\n",
       "      <td></td>\n",
       "      <td>Lance</td>\n",
       "      <td></td>\n",
       "      <td></td>\n",
       "    </tr>\n",
       "    <tr>\n",
       "      <th>3</th>\n",
       "      <td></td>\n",
       "      <td></td>\n",
       "      <td>Bow</td>\n",
       "      <td></td>\n",
       "      <td></td>\n",
       "    </tr>\n",
       "    <tr>\n",
       "      <th>4</th>\n",
       "      <td></td>\n",
       "      <td></td>\n",
       "      <td>Shield</td>\n",
       "      <td></td>\n",
       "      <td></td>\n",
       "    </tr>\n",
       "    <tr>\n",
       "      <th>5</th>\n",
       "      <td></td>\n",
       "      <td></td>\n",
       "      <td>Lance pierre</td>\n",
       "      <td></td>\n",
       "      <td></td>\n",
       "    </tr>\n",
       "  </tbody>\n",
       "</table>"
      ],
      "text/plain": [
       "<IPython.core.display.HTML object>"
      ]
     },
     "execution_count": 1,
     "metadata": {},
     "output_type": "execute_result"
    }
   ],
   "source": [
    "# HIDDEN\n",
    "import pandas as pd\n",
    "from IPython.display import HTML\n",
    "\n",
    "# Define headers and values (as lists)\n",
    "headers = ['Image', 'nko', 'pronounciation', 'nko pronouncition','image']\n",
    "values = [\n",
    "    ['', '', 'Sword','dja',''],\n",
    "    ['', '', 'Gun','dja',''],\n",
    "    ['', '', 'Lance','',''],\n",
    "    ['', '', 'Bow','',''],\n",
    "    ['', '', 'Shield','',''], \n",
    "        ['', '', 'Lance pierre','',''], \n",
    "    \n",
    "    \n",
    "    \n",
    "  \n",
    "]\n",
    "\n",
    "# Create the DataFrame with headers and rows of values\n",
    "df = pd.DataFrame(values, columns=headers)\n",
    "\n",
    "HTML(df.to_html(escape=False))"
   ]
  }
 ],
 "metadata": {
  "kernelspec": {
   "display_name": "Python 3 (ipykernel)",
   "language": "python",
   "name": "python3"
  },
  "language_info": {
   "codemirror_mode": {
    "name": "ipython",
    "version": 3
   },
   "file_extension": ".py",
   "mimetype": "text/x-python",
   "name": "python",
   "nbconvert_exporter": "python",
   "pygments_lexer": "ipython3",
   "version": "3.11.8"
  }
 },
 "nbformat": 4,
 "nbformat_minor": 5
}