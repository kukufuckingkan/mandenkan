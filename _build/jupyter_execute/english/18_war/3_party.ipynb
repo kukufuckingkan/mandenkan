{
 "cells": [
  {
   "cell_type": "markdown",
   "id": "4ccd47f3-22b7-4e13-a9f4-d4b960c513ef",
   "metadata": {},
   "source": [
    "# Party"
   ]
  },
  {
   "cell_type": "code",
   "execution_count": 1,
   "id": "344ecf56-72b8-49ec-a35b-bfee08c22163",
   "metadata": {},
   "outputs": [
    {
     "ename": "ImportError",
     "evalue": "cannot import name 'player' from 'kukukan' (/opt/anaconda3/lib/python3.11/site-packages/kukukan/__init__.py)",
     "output_type": "error",
     "traceback": [
      "\u001b[0;31m---------------------------------------------------------------------------\u001b[0m",
      "\u001b[0;31mImportError\u001b[0m                               Traceback (most recent call last)",
      "Cell \u001b[0;32mIn[1], line 5\u001b[0m\n\u001b[1;32m      3\u001b[0m \u001b[38;5;28;01mimport\u001b[39;00m \u001b[38;5;21;01mpandas\u001b[39;00m \u001b[38;5;28;01mas\u001b[39;00m \u001b[38;5;21;01mpd\u001b[39;00m\n\u001b[1;32m      4\u001b[0m \u001b[38;5;28;01mfrom\u001b[39;00m \u001b[38;5;21;01mIPython\u001b[39;00m\u001b[38;5;21;01m.\u001b[39;00m\u001b[38;5;21;01mdisplay\u001b[39;00m \u001b[38;5;28;01mimport\u001b[39;00m HTML\n\u001b[0;32m----> 5\u001b[0m \u001b[38;5;28;01mfrom\u001b[39;00m \u001b[38;5;21;01mkukukan\u001b[39;00m \u001b[38;5;28;01mimport\u001b[39;00m player, image\n\u001b[1;32m      7\u001b[0m df \u001b[38;5;241m=\u001b[39m pd\u001b[38;5;241m.\u001b[39mDataFrame({\n\u001b[1;32m      8\u001b[0m    \u001b[38;5;124m'\u001b[39m\u001b[38;5;124mߖߊ\u001b[39m\u001b[38;5;124m'\u001b[39m: [\n\u001b[1;32m      9\u001b[0m             image\u001b[38;5;241m.\u001b[39mshowHtml(\u001b[38;5;241m1\u001b[39m,\u001b[38;5;124m\"\u001b[39m\u001b[38;5;124mߞߍߟߍߟߊ\u001b[39m\u001b[38;5;124m\"\u001b[39m),\n\u001b[0;32m   (...)\u001b[0m\n\u001b[1;32m     43\u001b[0m     ]\n\u001b[1;32m     44\u001b[0m })\n\u001b[1;32m     47\u001b[0m HTML(df\u001b[38;5;241m.\u001b[39mto_html(escape\u001b[38;5;241m=\u001b[39m\u001b[38;5;28;01mFalse\u001b[39;00m,index\u001b[38;5;241m=\u001b[39m\u001b[38;5;28;01mFalse\u001b[39;00m))\n",
      "\u001b[0;31mImportError\u001b[0m: cannot import name 'player' from 'kukukan' (/opt/anaconda3/lib/python3.11/site-packages/kukukan/__init__.py)"
     ]
    }
   ],
   "source": [
    "# HIDDEN\n",
    "import kukukan\n",
    "import pandas as pd\n",
    "from IPython.display import HTML\n",
    "from kukukan import player, image\n",
    "\n",
    "df = pd.DataFrame({\n",
    "   'ߖߊ': [\n",
    "            image.showHtml(1,\"ߞߍߟߍߟߊ\"),\n",
    "            image.showHtml(1,\"ߞߍߟߍߞߍߟߊ\"),\n",
    "           image.showHtml(1,\"ߞߍߟߍߕߌߜߍ\"),\n",
    "            image.showHtml(1,\"ߞߍߟߍߕߌߜߍߟߊ\"),\n",
    "             ],\n",
    "    \n",
    "    'ߕߐ߮': [\n",
    "            'ߞߍߟߍߟߊ',\n",
    "            'ߞߍߟߍߞߍߟߊ',\n",
    "            'ߞߍߟߍߕߌߜߍ',\n",
    "             'ߞߍߟߍߕߌߜߍߟߊ',\n",
    "             ],\n",
    "    \n",
    "    'ߞߊ߲': \n",
    "    [\n",
    "    player.playFromGitt('VOWEL',1),       \n",
    "    player.playFromGitt('VOWEL',2),\n",
    "    player.playFromGitt('VOWEL',2),\n",
    "    player.playFromGitt('VOWEL',2),\n",
    "    ],\n",
    "\n",
    "        'Name': [\n",
    "            'warrior',\n",
    "            'Provocator',\n",
    "            'xxx',\n",
    "            'xxxx'\n",
    "             ],\n",
    "    \n",
    "    'Pronounciation': \n",
    "    [\n",
    "    player.playFromGitt('VOWEL',1),\n",
    "    player.playFromGitt('VOWEL',2),\n",
    "    player.playFromGitt('VOWEL',3),  \n",
    "    player.playFromGitt('VOWEL',3),        \n",
    "    ]\n",
    "})\n",
    "\n",
    "\n",
    "HTML(df.to_html(escape=False,index=False))"
   ]
  },
  {
   "cell_type": "code",
   "execution_count": null,
   "id": "9a056edb-4f5b-4871-81e0-28d8e1b9070a",
   "metadata": {},
   "outputs": [],
   "source": []
  }
 ],
 "metadata": {
  "kernelspec": {
   "display_name": "Python 3 (ipykernel)",
   "language": "python",
   "name": "python3"
  },
  "language_info": {
   "codemirror_mode": {
    "name": "ipython",
    "version": 3
   },
   "file_extension": ".py",
   "mimetype": "text/x-python",
   "name": "python",
   "nbconvert_exporter": "python",
   "pygments_lexer": "ipython3",
   "version": "3.11.8"
  }
 },
 "nbformat": 4,
 "nbformat_minor": 5
}