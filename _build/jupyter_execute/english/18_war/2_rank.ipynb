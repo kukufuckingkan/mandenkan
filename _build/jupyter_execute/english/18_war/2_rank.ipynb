{
 "cells": [
  {
   "cell_type": "markdown",
   "id": "7112cae8-10e2-46a0-aeb9-ac46b26db9d6",
   "metadata": {},
   "source": [
    "# Rank"
   ]
  },
  {
   "cell_type": "code",
   "execution_count": 1,
   "id": "3bcef19e-f6f6-4ad6-b1ad-378d1f800ce8",
   "metadata": {},
   "outputs": [
    {
     "data": {
      "text/html": [
       "<table border=\"1\" class=\"dataframe\">\n",
       "  <thead>\n",
       "    <tr style=\"text-align: right;\">\n",
       "      <th>ߖߊ</th>\n",
       "      <th>ߕߐ߮</th>\n",
       "      <th>ߞߊ߲</th>\n",
       "      <th>Name</th>\n",
       "      <th>Pronounciation</th>\n",
       "    </tr>\n",
       "  </thead>\n",
       "  <tbody>\n",
       "    <tr>\n",
       "      <td><img src=\"https://github.com/kukufuckingkan/mandenkan_media/raw/refs/heads/main/image/war/1.jpg\" alt=\"ߡߊ߲ߛߊ\" width=\"150\" height=\"150\"></td>\n",
       "      <td>ߡߊ߲ߛߊ</td>\n",
       "      <td><audio controls style=\"width:150px\">\\n                    <source src=\"https://github.com/kukufuckingkan/mandenkan_media/raw/refs/heads/main/sound/vowel/1.mp3\" type=\"audio/mpeg\">\\n                </audio></td>\n",
       "      <td>High King</td>\n",
       "      <td><audio controls style=\"width:150px\">\\n                    <source src=\"https://github.com/kukufuckingkan/mandenkan_media/raw/refs/heads/main/sound/vowel/1.mp3\" type=\"audio/mpeg\">\\n                </audio></td>\n",
       "    </tr>\n",
       "    <tr>\n",
       "      <td><img src=\"https://github.com/kukufuckingkan/mandenkan_media/raw/refs/heads/main/image/war/2.jpg\" alt=\"ߡߊߙߌ\" width=\"150\" height=\"150\"></td>\n",
       "      <td>ߡߊߙߌ</td>\n",
       "      <td><audio controls style=\"width:150px\">\\n                    <source src=\"https://github.com/kukufuckingkan/mandenkan_media/raw/refs/heads/main/sound/vowel/1.mp3\" type=\"audio/mpeg\">\\n                </audio></td>\n",
       "      <td>Commander</td>\n",
       "      <td><audio controls style=\"width:150px\">\\n                    <source src=\"https://github.com/kukufuckingkan/mandenkan_media/raw/refs/heads/main/sound/vowel/1.mp3\" type=\"audio/mpeg\">\\n                </audio></td>\n",
       "    </tr>\n",
       "    <tr>\n",
       "      <td><img src=\"https://github.com/kukufuckingkan/mandenkan_media/raw/refs/heads/main/image/war/3.jpg\" alt=\"ߕߏ߲ߕߌߜߌ\" width=\"150\" height=\"150\"></td>\n",
       "      <td>ߕߏ߲ߕߌߜߌ</td>\n",
       "      <td><audio controls style=\"width:150px\">\\n                    <source src=\"https://github.com/kukufuckingkan/mandenkan_media/raw/refs/heads/main/sound/vowel/1.mp3\" type=\"audio/mpeg\">\\n                </audio></td>\n",
       "      <td>Clan Leager</td>\n",
       "      <td><audio controls style=\"width:150px\">\\n                    <source src=\"https://github.com/kukufuckingkan/mandenkan_media/raw/refs/heads/main/sound/vowel/1.mp3\" type=\"audio/mpeg\">\\n                </audio></td>\n",
       "    </tr>\n",
       "    <tr>\n",
       "      <td><img src=\"https://github.com/kukufuckingkan/mandenkan_media/raw/refs/heads/main/image/war/4.jpg\" alt=\"ߞߍߟߍߞߎ߲\" width=\"150\" height=\"150\"></td>\n",
       "      <td>ߞߍߟߍߞߎ߲</td>\n",
       "      <td><audio controls style=\"width:150px\">\\n                    <source src=\"https://github.com/kukufuckingkan/mandenkan_media/raw/refs/heads/main/sound/vowel/1.mp3\" type=\"audio/mpeg\">\\n                </audio></td>\n",
       "      <td>Warhead</td>\n",
       "      <td><audio controls style=\"width:150px\">\\n                    <source src=\"https://github.com/kukufuckingkan/mandenkan_media/raw/refs/heads/main/sound/vowel/1.mp3\" type=\"audio/mpeg\">\\n                </audio></td>\n",
       "    </tr>\n",
       "    <tr>\n",
       "      <td><img src=\"https://github.com/kukufuckingkan/mandenkan_media/raw/refs/heads/main/image/war/5.jpg\" alt=\"ߞߍߟߍߓߏߟߏ\" width=\"150\" height=\"150\"></td>\n",
       "      <td>ߞߍߟߍߓߏߟߏ</td>\n",
       "      <td><audio controls style=\"width:150px\">\\n                    <source src=\"https://github.com/kukufuckingkan/mandenkan_media/raw/refs/heads/main/sound/vowel/1.mp3\" type=\"audio/mpeg\">\\n                </audio></td>\n",
       "      <td>War Arm</td>\n",
       "      <td><audio controls style=\"width:150px\">\\n                    <source src=\"https://github.com/kukufuckingkan/mandenkan_media/raw/refs/heads/main/sound/vowel/1.mp3\" type=\"audio/mpeg\">\\n                </audio></td>\n",
       "    </tr>\n",
       "  </tbody>\n",
       "</table>"
      ],
      "text/plain": [
       "<IPython.core.display.HTML object>"
      ]
     },
     "execution_count": 1,
     "metadata": {},
     "output_type": "execute_result"
    }
   ],
   "source": [
    "# HIDDEN\n",
    "import kukukan\n",
    "import pandas as pd\n",
    "from IPython.display import HTML\n",
    "from kukukan import image,sound\n",
    "\n",
    "df = pd.DataFrame({\n",
    "   'ߖߊ': [\n",
    "            image.player(1,\"ߡߊ߲ߛߊ\",'war'),\n",
    "            image.player(2,\"ߡߊߙߌ\",'war'),\n",
    "           image.player(3,\"ߕߏ߲ߕߌߜߌ\",'war'),\n",
    "           image.player(4,\"ߞߍߟߍߞߎ߲\",'war'),\n",
    "            image.player(5,\"ߞߍߟߍߓߏߟߏ\",'war'),\n",
    "             ],\n",
    "    \n",
    "    'ߕߐ߮': [\n",
    "            'ߡߊ߲ߛߊ',\n",
    "            'ߡߊߙߌ',\n",
    "            'ߕߏ߲ߕߌߜߌ',\n",
    "            'ߞߍߟߍߞߎ߲',\n",
    "             'ߞߍߟߍߓߏߟߏ',\n",
    "             ],\n",
    "    \n",
    "    'ߞߊ߲': \n",
    "    [\n",
    "     sound.player(1,'vowel','vowel'),      \n",
    "    sound.player(1,'vowel','vowel'),\n",
    "    sound.player(1,'vowel','vowel'),\n",
    "    sound.player(1,'vowel','vowel'),\n",
    "    sound.player(1,'vowel','vowel'),   \n",
    "    ],\n",
    "\n",
    "        'Name': [\n",
    "            'High King',\n",
    "            'Commander',\n",
    "            'Clan Leager',\n",
    "            'Warhead',\n",
    "            'War Arm'\n",
    "             ],\n",
    "    \n",
    "    'Pronounciation': \n",
    "    [\n",
    "        sound.player(1,'vowel','vowel'),\n",
    "        sound.player(1,'vowel','vowel'),\n",
    "       sound.player(1,'vowel','vowel'),  \n",
    "        sound.player(1,'vowel','vowel'),\n",
    "        sound.player(1,'vowel','vowel'),\n",
    "        \n",
    "    ]\n",
    "})\n",
    "\n",
    "\n",
    "HTML(df.to_html(escape=False,index=False))"
   ]
  },
  {
   "cell_type": "code",
   "execution_count": null,
   "id": "13e5ab37-5826-409a-8020-b8337e337362",
   "metadata": {},
   "outputs": [],
   "source": []
  }
 ],
 "metadata": {
  "kernelspec": {
   "display_name": "Python 3 (ipykernel)",
   "language": "python",
   "name": "python3"
  },
  "language_info": {
   "codemirror_mode": {
    "name": "ipython",
    "version": 3
   },
   "file_extension": ".py",
   "mimetype": "text/x-python",
   "name": "python",
   "nbconvert_exporter": "python",
   "pygments_lexer": "ipython3",
   "version": "3.11.8"
  }
 },
 "nbformat": 4,
 "nbformat_minor": 5
}