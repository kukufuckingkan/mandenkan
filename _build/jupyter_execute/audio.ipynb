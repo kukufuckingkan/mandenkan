{
 "cells": [
  {
   "cell_type": "markdown",
   "id": "65ff7c19-8780-4195-9551-6999a275fabd",
   "metadata": {},
   "source": [
    "# audio visual"
   ]
  },
  {
   "cell_type": "code",
   "execution_count": 1,
   "id": "6a119860-f18e-459f-9d28-102a4e8d20e5",
   "metadata": {
    "tags": []
   },
   "outputs": [
    {
     "data": {
      "text/html": [
       "<table border=\"1\" class=\"dataframe\">\n",
       "  <thead>\n",
       "    <tr style=\"text-align: right;\">\n",
       "      <th>Vowel</th>\n",
       "      <th>Sound</th>\n",
       "    </tr>\n",
       "  </thead>\n",
       "  <tbody>\n",
       "    <tr>\n",
       "      <td>ߊ</td>\n",
       "      <td><audio controls style=\"width:150px\">\\n                      <source src=\"resource/asset/audio/1_kan.mp3\" type=\"audio/mpeg\">\\n                      Your browser does not support the audio element.\\n                    </audio></td>\n",
       "    </tr>\n",
       "    <tr>\n",
       "      <td>ߋ</td>\n",
       "      <td><audio controls style=\"width:150px\">\\n                      <source src=\"resource/asset/audio/1_kan.mp3\" type=\"audio/mpeg\">\\n                      Your browser does not support the audio element.\\n                    </audio></td>\n",
       "    </tr>\n",
       "    <tr>\n",
       "      <td>ߌ</td>\n",
       "      <td><audio controls style=\"width:150px\">\\n                      <source src=\"resource/asset/audio/1_kan.mp3\" type=\"audio/mpeg\">\\n                      Your browser does not support the audio element.\\n                    </audio></td>\n",
       "    </tr>\n",
       "    <tr>\n",
       "      <td>ߍ</td>\n",
       "      <td><audio controls style=\"width:150px\">\\n                      <source src=\"resource/asset/audio/1_kan.mp3\" type=\"audio/mpeg\">\\n                      Your browser does not support the audio element.\\n                    </audio></td>\n",
       "    </tr>\n",
       "    <tr>\n",
       "      <td>ߎ</td>\n",
       "      <td><audio controls style=\"width:150px\">\\n                      <source src=\"resource/asset/audio/1_kan.mp3\" type=\"audio/mpeg\">\\n                      Your browser does not support the audio element.\\n                    </audio></td>\n",
       "    </tr>\n",
       "    <tr>\n",
       "      <td>ߏ</td>\n",
       "      <td><audio controls style=\"width:150px\">\\n                      <source src=\"resource/asset/audio/1_kan.mp3\" type=\"audio/mpeg\">\\n                      Your browser does not support the audio element.\\n                    </audio></td>\n",
       "    </tr>\n",
       "    <tr>\n",
       "      <td>ߐ</td>\n",
       "      <td><audio controls style=\"width:150px\">\\n                      <source src=\"resource/asset/audio/1_kan.mp3\" type=\"audio/mpeg\">\\n                      Your browser does not support the audio element.\\n                    </audio></td>\n",
       "    </tr>\n",
       "  </tbody>\n",
       "</table>"
      ],
      "text/plain": [
       "<IPython.core.display.HTML object>"
      ]
     },
     "execution_count": 1,
     "metadata": {},
     "output_type": "execute_result"
    }
   ],
   "source": [
    "import pandas as pd\n",
    "from IPython.display import HTML\n",
    "from package import audio\n",
    "\n",
    "df = pd.DataFrame({\n",
    "    'Vowel': ['ߊ',\n",
    "              'ߋ',\n",
    "              'ߌ',\n",
    "              'ߍ',\n",
    "              'ߎ',\n",
    "              'ߏ',\n",
    "              'ߐ',\n",
    "             ],\n",
    "    \n",
    "    'Sound': \n",
    "    [\n",
    "    audio.player('resource/asset/audio/1_kan.mp3',''),\n",
    "    audio.player('resource/asset/audio/1_kan.mp3',''),\n",
    "    audio.player('resource/asset/audio/1_kan.mp3',''),\n",
    "    audio.player('resource/asset/audio/1_kan.mp3',''),\n",
    "    audio.player('resource/asset/audio/1_kan.mp3',''),\n",
    "    audio.player('resource/asset/audio/1_kan.mp3',''),\n",
    "    audio.player('resource/asset/audio/1_kan.mp3',''),\n",
    "    ]\n",
    "})\n",
    "\n",
    "\n",
    "HTML(df.to_html(escape=False,index=False))"
   ]
  },
  {
   "cell_type": "code",
   "execution_count": 2,
   "id": "2dd7fe4f-3a3b-4161-8408-ed9f3d241ed8",
   "metadata": {
    "tags": []
   },
   "outputs": [
    {
     "data": {
      "text/html": [
       "<style type=\"text/css\">\n",
       "#T_f4657_row0_col0, #T_f4657_row0_col1, #T_f4657_row0_col2, #T_f4657_row1_col0, #T_f4657_row1_col1, #T_f4657_row1_col2, #T_f4657_row2_col0, #T_f4657_row2_col1, #T_f4657_row2_col2 {\n",
       "  text-align: center;\n",
       "}\n",
       "</style>\n",
       "<table id=\"T_f4657\">\n",
       "  <thead>\n",
       "    <tr>\n",
       "      <th class=\"blank level0\" >&nbsp;</th>\n",
       "      <th id=\"T_f4657_level0_col0\" class=\"col_heading level0 col0\" >Name</th>\n",
       "      <th id=\"T_f4657_level0_col1\" class=\"col_heading level0 col1\" >Age</th>\n",
       "      <th id=\"T_f4657_level0_col2\" class=\"col_heading level0 col2\" >City</th>\n",
       "    </tr>\n",
       "  </thead>\n",
       "  <tbody>\n",
       "    <tr>\n",
       "      <th id=\"T_f4657_level0_row0\" class=\"row_heading level0 row0\" >0</th>\n",
       "      <td id=\"T_f4657_row0_col0\" class=\"data row0 col0\" >Alice</td>\n",
       "      <td id=\"T_f4657_row0_col1\" class=\"data row0 col1\" >25</td>\n",
       "      <td id=\"T_f4657_row0_col2\" class=\"data row0 col2\" >New York</td>\n",
       "    </tr>\n",
       "    <tr>\n",
       "      <th id=\"T_f4657_level0_row1\" class=\"row_heading level0 row1\" >1</th>\n",
       "      <td id=\"T_f4657_row1_col0\" class=\"data row1 col0\" >Bob</td>\n",
       "      <td id=\"T_f4657_row1_col1\" class=\"data row1 col1\" >30</td>\n",
       "      <td id=\"T_f4657_row1_col2\" class=\"data row1 col2\" >San Francisco</td>\n",
       "    </tr>\n",
       "    <tr>\n",
       "      <th id=\"T_f4657_level0_row2\" class=\"row_heading level0 row2\" >2</th>\n",
       "      <td id=\"T_f4657_row2_col0\" class=\"data row2 col0\" >Charlie</td>\n",
       "      <td id=\"T_f4657_row2_col1\" class=\"data row2 col1\" >35</td>\n",
       "      <td id=\"T_f4657_row2_col2\" class=\"data row2 col2\" >Chicago</td>\n",
       "    </tr>\n",
       "  </tbody>\n",
       "</table>\n"
      ],
      "text/plain": [
       "<pandas.io.formats.style.Styler at 0x1268cf8d0>"
      ]
     },
     "execution_count": 2,
     "metadata": {},
     "output_type": "execute_result"
    }
   ],
   "source": [
    "import pandas as pd\n",
    "\n",
    "# Sample DataFrame\n",
    "data = {'Name': ['Alice', 'Bob', 'Charlie'],\n",
    "        'Age': [25, 30, 35],\n",
    "        'City': ['New York', 'San Francisco', 'Chicago']}\n",
    "\n",
    "df = pd.DataFrame(data)\n",
    "\n",
    "# Center-align all the cells\n",
    "df_styled = df.style.set_properties(**{'text-align': 'center'})\n",
    "\n",
    "# Display the DataFrame\n",
    "df_styled\n"
   ]
  },
  {
   "cell_type": "code",
   "execution_count": null,
   "id": "a88d0f68-b2e7-44d7-a38f-6d7311cbf087",
   "metadata": {},
   "outputs": [],
   "source": []
  },
  {
   "cell_type": "code",
   "execution_count": null,
   "id": "bdd7e05c-eda8-471e-b271-261714faa5ae",
   "metadata": {},
   "outputs": [],
   "source": []
  },
  {
   "cell_type": "code",
   "execution_count": null,
   "id": "106c3284-3cb3-4cc0-816a-1bf466af600d",
   "metadata": {},
   "outputs": [],
   "source": []
  }
 ],
 "metadata": {
  "kernelspec": {
   "display_name": "Python 3 (ipykernel)",
   "language": "python",
   "name": "python3"
  },
  "language_info": {
   "codemirror_mode": {
    "name": "ipython",
    "version": 3
   },
   "file_extension": ".py",
   "mimetype": "text/x-python",
   "name": "python",
   "nbconvert_exporter": "python",
   "pygments_lexer": "ipython3",
   "version": "3.11.7"
  }
 },
 "nbformat": 4,
 "nbformat_minor": 5
}