{
 "cells": [
  {
   "cell_type": "markdown",
   "id": "65ff7c19-8780-4195-9551-6999a275fabd",
   "metadata": {
    "editable": true,
    "slideshow": {
     "slide_type": ""
    },
    "tags": []
   },
   "source": [
    "# audio visual"
   ]
  },
  {
   "cell_type": "code",
   "execution_count": 54,
   "id": "d70afa60-7806-467e-8afe-6fb1c71cd40d",
   "metadata": {
    "editable": true,
    "slideshow": {
     "slide_type": ""
    },
    "tags": []
   },
   "outputs": [
    {
     "data": {
      "text/html": [
       "<table border=\"1\" class=\"dataframe\">\n",
       "  <thead>\n",
       "    <tr style=\"text-align: right;\">\n",
       "      <th>Vowel</th>\n",
       "      <th>Sound</th>\n",
       "    </tr>\n",
       "  </thead>\n",
       "  <tbody>\n",
       "    <tr>\n",
       "      <td>ߊ</td>\n",
       "      <td><audio controls style=\"width:150px\">\\n                      <source src=\"asset/audio/1_kan.mp3\" type=\"audio/mpeg\">\\n                      Your browser does not support the audio element.\\n                    </audio></td>\n",
       "    </tr>\n",
       "    <tr>\n",
       "      <td>ߋ</td>\n",
       "      <td><audio controls style=\"width:150px\">\\n                      <source src=\"asset/audio/1_kan.mp3\" type=\"audio/mpeg\">\\n                      Your browser does not support the audio element.\\n                    </audio></td>\n",
       "    </tr>\n",
       "    <tr>\n",
       "      <td>ߌ</td>\n",
       "      <td><audio controls style=\"width:150px\">\\n                      <source src=\"asset/audio/1_kan.mp3\" type=\"audio/mpeg\">\\n                      Your browser does not support the audio element.\\n                    </audio></td>\n",
       "    </tr>\n",
       "    <tr>\n",
       "      <td>ߍ</td>\n",
       "      <td><audio controls style=\"width:150px\">\\n                      <source src=\"asset/audio/1_kan.mp3\" type=\"audio/mpeg\">\\n                      Your browser does not support the audio element.\\n                    </audio></td>\n",
       "    </tr>\n",
       "    <tr>\n",
       "      <td>ߎ</td>\n",
       "      <td><audio controls style=\"width:150px\">\\n                      <source src=\"asset/audio/1_kan.mp3\" type=\"audio/mpeg\">\\n                      Your browser does not support the audio element.\\n                    </audio></td>\n",
       "    </tr>\n",
       "    <tr>\n",
       "      <td>ߏ</td>\n",
       "      <td><audio controls style=\"width:150px\">\\n                      <source src=\"asset/audio/1_kan.mp3\" type=\"audio/mpeg\">\\n                      Your browser does not support the audio element.\\n                    </audio></td>\n",
       "    </tr>\n",
       "    <tr>\n",
       "      <td>ߐ</td>\n",
       "      <td><audio controls style=\"width:150px\">\\n                      <source src=\"asset/audio/1_kan.mp3\" type=\"audio/mpeg\">\\n                      Your browser does not support the audio element.\\n                    </audio></td>\n",
       "    </tr>\n",
       "  </tbody>\n",
       "</table>"
      ],
      "text/plain": [
       "<IPython.core.display.HTML object>"
      ]
     },
     "execution_count": 54,
     "metadata": {},
     "output_type": "execute_result"
    }
   ],
   "source": [
    "# HIDDEN\n",
    "import kukukan\n",
    "import pandas as pd\n",
    "from IPython.display import HTML\n",
    "from kukukan import player\n",
    "\n",
    "df = pd.DataFrame({\n",
    "    'Vowel': ['ߊ',\n",
    "              'ߋ',\n",
    "              'ߌ',\n",
    "              'ߍ',\n",
    "              'ߎ',\n",
    "              'ߏ',\n",
    "              'ߐ',\n",
    "             ],\n",
    "    \n",
    "    'Sound': \n",
    "    [\n",
    "    player.play('resource/asset/audio/1_kan.mp3','DEV'),\n",
    "    player.play('resource/asset/audio/1_kan.mp3','DEV'),        \n",
    "    player.play('resource/asset/audio/1_kan.mp3','DEV'),\n",
    "    player.play('resource/asset/audio/1_kan.mp3','DEV'),\n",
    "    player.play('resource/asset/audio/1_kan.mp3','DEV'),\n",
    "    player.play('resource/asset/audio/1_kan.mp3','DEV'),\n",
    "    player.play('resource/asset/audio/1_kan.mp3','DEV'),\n",
    "    ]\n",
    "})\n",
    "\n",
    "\n",
    "HTML(df.to_html(escape=False,index=False))"
   ]
  },
  {
   "cell_type": "code",
   "execution_count": null,
   "id": "0d3d61d7-8d79-4164-8b25-7b90de34688c",
   "metadata": {},
   "outputs": [],
   "source": []
  }
 ],
 "metadata": {
  "kernelspec": {
   "display_name": "Python 3 (ipykernel)",
   "language": "python",
   "name": "python3"
  },
  "language_info": {
   "codemirror_mode": {
    "name": "ipython",
    "version": 3
   },
   "file_extension": ".py",
   "mimetype": "text/x-python",
   "name": "python",
   "nbconvert_exporter": "python",
   "pygments_lexer": "ipython3",
   "version": "3.11.8"
  }
 },
 "nbformat": 4,
 "nbformat_minor": 5
}