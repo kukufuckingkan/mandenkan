{
 "cells": [
  {
   "cell_type": "markdown",
   "id": "65ff7c19-8780-4195-9551-6999a275fabd",
   "metadata": {},
   "source": [
    "# audio visual"
   ]
  },
  {
   "cell_type": "code",
   "execution_count": 1,
   "id": "6a119860-f18e-459f-9d28-102a4e8d20e5",
   "metadata": {
    "tags": []
   },
   "outputs": [
    {
     "data": {
      "text/html": [
       "<table border=\"1\" class=\"dataframe\">\n",
       "  <thead>\n",
       "    <tr style=\"text-align: right;\">\n",
       "      <th>Vowel</th>\n",
       "      <th>Sound</th>\n",
       "    </tr>\n",
       "  </thead>\n",
       "  <tbody>\n",
       "    <tr>\n",
       "      <td>ߊ</td>\n",
       "      <td><audio controls style=\"width:150px\">\\n                      <source src=\"resource/asset/audio/1_kan.mp3\" type=\"audio/mpeg\">\\n                      Your browser does not support the audio element.\\n                    </audio></td>\n",
       "    </tr>\n",
       "    <tr>\n",
       "      <td>ߋ</td>\n",
       "      <td><audio controls style=\"width:150px\">\\n                      <source src=\"resource/asset/audio/1_kan.mp3\" type=\"audio/mpeg\">\\n                      Your browser does not support the audio element.\\n                    </audio></td>\n",
       "    </tr>\n",
       "    <tr>\n",
       "      <td>ߌ</td>\n",
       "      <td><audio controls style=\"width:150px\">\\n                      <source src=\"resource/asset/audio/1_kan.mp3\" type=\"audio/mpeg\">\\n                      Your browser does not support the audio element.\\n                    </audio></td>\n",
       "    </tr>\n",
       "    <tr>\n",
       "      <td>ߍ</td>\n",
       "      <td><audio controls style=\"width:150px\">\\n                      <source src=\"resource/asset/audio/1_kan.mp3\" type=\"audio/mpeg\">\\n                      Your browser does not support the audio element.\\n                    </audio></td>\n",
       "    </tr>\n",
       "    <tr>\n",
       "      <td>ߎ</td>\n",
       "      <td><audio controls style=\"width:150px\">\\n                      <source src=\"resource/asset/audio/1_kan.mp3\" type=\"audio/mpeg\">\\n                      Your browser does not support the audio element.\\n                    </audio></td>\n",
       "    </tr>\n",
       "    <tr>\n",
       "      <td>ߏ</td>\n",
       "      <td><audio controls style=\"width:150px\">\\n                      <source src=\"resource/asset/audio/1_kan.mp3\" type=\"audio/mpeg\">\\n                      Your browser does not support the audio element.\\n                    </audio></td>\n",
       "    </tr>\n",
       "    <tr>\n",
       "      <td>ߐ</td>\n",
       "      <td><audio controls style=\"width:150px\">\\n                      <source src=\"resource/asset/audio/1_kan.mp3\" type=\"audio/mpeg\">\\n                      Your browser does not support the audio element.\\n                    </audio></td>\n",
       "    </tr>\n",
       "  </tbody>\n",
       "</table>"
      ],
      "text/plain": [
       "<IPython.core.display.HTML object>"
      ]
     },
     "execution_count": 1,
     "metadata": {},
     "output_type": "execute_result"
    }
   ],
   "source": [
    "import pandas as pd\n",
    "from IPython.display import HTML\n",
    "from package import audio\n",
    "\n",
    "df = pd.DataFrame({\n",
    "    'Vowel': ['ߊ',\n",
    "              'ߋ',\n",
    "              'ߌ',\n",
    "              'ߍ',\n",
    "              'ߎ',\n",
    "              'ߏ',\n",
    "              'ߐ',\n",
    "             ],\n",
    "    \n",
    "    'Sound': \n",
    "    [\n",
    "    audio.player('resource/asset/audio/1_kan.mp3','DEV'),\n",
    "    audio.player('resource/asset/audio/1_kan.mp3','DEV'),\n",
    "    audio.player('resource/asset/audio/1_kan.mp3',''),\n",
    "    audio.player('resource/asset/audio/1_kan.mp3',''),\n",
    "    audio.player('resource/asset/audio/1_kan.mp3',''),\n",
    "    audio.player('resource/asset/audio/1_kan.mp3',''),\n",
    "    audio.player('resource/asset/audio/1_kan.mp3','DEV'),\n",
    "    ]\n",
    "})\n",
    "\n",
    "\n",
    "HTML(df.to_html(escape=False,index=False))"
   ]
  },
  {
   "cell_type": "code",
   "execution_count": null,
   "id": "d9ec3f94-55eb-4706-8dd3-4f178bd3a09c",
   "metadata": {},
   "outputs": [],
   "source": []
  }
 ],
 "metadata": {
  "kernelspec": {
   "display_name": "Python 3 (ipykernel)",
   "language": "python",
   "name": "python3"
  },
  "language_info": {
   "codemirror_mode": {
    "name": "ipython",
    "version": 3
   },
   "file_extension": ".py",
   "mimetype": "text/x-python",
   "name": "python",
   "nbconvert_exporter": "python",
   "pygments_lexer": "ipython3",
   "version": "3.11.7"
  }
 },
 "nbformat": 4,
 "nbformat_minor": 5
}