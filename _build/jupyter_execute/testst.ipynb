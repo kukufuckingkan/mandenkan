{
 "cells": [
  {
   "cell_type": "markdown",
   "id": "c9781878-e310-4bd1-90c0-dcf2e7f771c0",
   "metadata": {},
   "source": [
    "sample(x, size, replace = FALSE, prob = NULL)\n",
    "sample.int(n, size = n, replace = FALSE, prob = NULL,\n",
    "           useHash = (!replace && is.null(prob) && size <= 2=\"\" n=\"\" &&=\"\"> 1e7))"
   ]
  },
  {
   "cell_type": "code",
   "execution_count": 1,
   "id": "0224dd8f-ade6-41b8-a750-67d2096be4d1",
   "metadata": {},
   "outputs": [
    {
     "data": {
      "application/javascript": [
       "console.log(\"Hello, World!\");\n"
      ],
      "text/plain": [
       "<IPython.core.display.Javascript object>"
      ]
     },
     "metadata": {},
     "output_type": "display_data"
    }
   ],
   "source": [
    "%%javascript\n",
    "console.log(\"Hello, World!\");"
   ]
  },
  {
   "cell_type": "markdown",
   "id": "4eaab28a-0551-4541-987d-6414248c136f",
   "metadata": {},
   "source": [
    "%%bash\n",
    "echo \"Hello, World!\""
   ]
  },
  {
   "cell_type": "code",
   "execution_count": 2,
   "id": "73bc7ab9-ac88-4854-b70f-4d593d4c57a4",
   "metadata": {},
   "outputs": [],
   "source": [
    "%load_ext rpy2.ipython"
   ]
  },
  {
   "cell_type": "code",
   "execution_count": null,
   "id": "06d78b38-84ab-4adf-b2e5-cfedf1b6e4b4",
   "metadata": {},
   "outputs": [],
   "source": []
  },
  {
   "cell_type": "raw",
   "id": "24cedd55-d908-4f25-9442-091db96bb5eb",
   "metadata": {},
   "source": []
  },
  {
   "cell_type": "code",
   "execution_count": null,
   "id": "c4cefda8-9c12-4fac-a140-5eefe9acb86c",
   "metadata": {},
   "outputs": [],
   "source": []
  }
 ],
 "metadata": {
  "kernelspec": {
   "display_name": "Python 3 (ipykernel)",
   "language": "python",
   "name": "python3"
  },
  "language_info": {
   "codemirror_mode": {
    "name": "ipython",
    "version": 3
   },
   "file_extension": ".py",
   "mimetype": "text/x-python",
   "name": "python",
   "nbconvert_exporter": "python",
   "pygments_lexer": "ipython3",
   "version": "3.11.8"
  }
 },
 "nbformat": 4,
 "nbformat_minor": 5
}