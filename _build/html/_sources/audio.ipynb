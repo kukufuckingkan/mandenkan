{
 "cells": [
  {
   "cell_type": "markdown",
   "id": "65ff7c19-8780-4195-9551-6999a275fabd",
   "metadata": {},
   "source": [
    "# audio visual"
   ]
  },
  {
   "cell_type": "code",
   "execution_count": 3,
   "id": "d6e0205f-5bb5-4668-ba5c-940cfad10f49",
   "metadata": {
    "tags": []
   },
   "outputs": [],
   "source": [
    "# wavPlayer('../asset/audio/1_kan.mp3')"
   ]
  },
  {
   "cell_type": "code",
   "execution_count": 4,
   "id": "11c12aa2-b30d-4a4b-9ff2-674ec8ef7ca3",
   "metadata": {},
   "outputs": [],
   "source": [
    "import package\n",
    "from package import audio"
   ]
  },
  {
   "cell_type": "code",
   "execution_count": 5,
   "id": "62f0db1e-1cc1-4baa-bc6f-8dc4ead8f216",
   "metadata": {},
   "outputs": [
    {
     "name": "stdout",
     "output_type": "stream",
     "text": [
      "../resource/asset/audio/1_kan.mp3\n"
     ]
    },
    {
     "data": {
      "text/html": [
       "\n",
       "    <head>\n",
       "    <meta http-equiv=\"Content-Type\" content=\"text/html; charset=utf-8\">\n",
       "    <title>Simple Test</title>\n",
       "    </head>\n",
       "    \n",
       "    <body>\n",
       "    <audio controls=\"controls\" style=\"width:250px\" >\n",
       "      <source src=\"files/../resource/asset/audio/1_kan.mp3\" type=\"audio/wav\" />\n",
       "      Your browser does not support the audio element.\n",
       "    </audio>\n",
       "    </body>\n",
       "    "
      ],
      "text/plain": [
       "<IPython.core.display.HTML object>"
      ]
     },
     "metadata": {},
     "output_type": "display_data"
    }
   ],
   "source": [
    "audio.player(\"../resource/asset/audio/1_kan.mp3\",'LOCAL')"
   ]
  },
  {
   "cell_type": "code",
   "execution_count": null,
   "id": "d52499f0-5f81-4234-8f9d-8dd3633c71c0",
   "metadata": {},
   "outputs": [],
   "source": []
  },
  {
   "cell_type": "code",
   "execution_count": null,
   "id": "12f1556e-e491-45c0-8fc4-51540e785d3f",
   "metadata": {},
   "outputs": [],
   "source": []
  },
  {
   "cell_type": "code",
   "execution_count": null,
   "id": "bf798a1e-99a8-42f7-925e-1f916d12bece",
   "metadata": {},
   "outputs": [],
   "source": []
  }
 ],
 "metadata": {
  "kernelspec": {
   "display_name": "Python 3 (ipykernel)",
   "language": "python",
   "name": "python3"
  },
  "language_info": {
   "codemirror_mode": {
    "name": "ipython",
    "version": 3
   },
   "file_extension": ".py",
   "mimetype": "text/x-python",
   "name": "python",
   "nbconvert_exporter": "python",
   "pygments_lexer": "ipython3",
   "version": "3.11.7"
  }
 },
 "nbformat": 4,
 "nbformat_minor": 5
}
