{
 "cells": [
  {
   "cell_type": "markdown",
   "id": "d412486d-220e-4fef-ae30-f4ebd5b5664f",
   "metadata": {},
   "source": [
    "(english_alphabet_vowel)=\n",
    "# vowel\n",
    "## ߛߌߙߊߟߊ߲\n",
    "\n",
    "Enko alphabet , called ߦߌߙߌߥߊ (yiriwa) , has seven vowels. This sounds are the universal vowels sounds, the\n",
    "sound of the rain, the drum and of all that is.\n",
    "A vowel is a sound of the speech produced without any constriction of the vocal tract. Such a sound is produced\n",
    "by the free flow of air from the stomach to the open mouth. The tongue remains suspended in the mouth while\n",
    "producing such a sound. That is to say: a vowel is produced by allowing the free flow of sound waves, which are\n",
    "produced by air, from the stomach to the mouth. The nasopharynx remains unconstricted with little resistance\n",
    "in the throat. These are the sweetest sounds of nature.\n",
    "Some languages distinguishes between short and long vowels. This differentiation is due to the duration of the\n",
    "air producing the vowel’s sound in the during enunciation\n",
    "\n",
    "\n",
    "(english_alphabet_table_vowel)=\n",
    "```{table} nko vowels\n",
    ":name: my-table-ref\n",
    "|ߊ|ߋ|ߌ|ߍ|ߎ|ߏ|ߐ|\n",
    "|-|-|-|-|-|-|-|\n",
    "```"
   ]
  },
  {
   "cell_type": "code",
   "execution_count": 2,
   "id": "bcbdc91c-a690-4ce2-a829-5c59df7c9c13",
   "metadata": {
    "tags": []
   },
   "outputs": [
    {
     "data": {
      "text/html": [
       "<table border=\"1\" class=\"dataframe\">\n",
       "  <thead>\n",
       "    <tr style=\"text-align: right;\">\n",
       "      <th>Vowel</th>\n",
       "      <th>Sound</th>\n",
       "    </tr>\n",
       "  </thead>\n",
       "  <tbody>\n",
       "    <tr>\n",
       "      <td>ߊ</td>\n",
       "      <td><audio controls style=\"width:150px\">\\n                      <source src=\"asset/audio/1_kan.mp3\" type=\"audio/mpeg\">\\n                      Your browser does not support the audio element.\\n                    </audio></td>\n",
       "    </tr>\n",
       "    <tr>\n",
       "      <td>ߋ</td>\n",
       "      <td><audio controls style=\"width:150px\">\\n                      <source src=\"asset/audio/1_kan.mp3\" type=\"audio/mpeg\">\\n                      Your browser does not support the audio element.\\n                    </audio></td>\n",
       "    </tr>\n",
       "    <tr>\n",
       "      <td>ߌ</td>\n",
       "      <td><audio controls style=\"width:150px\">\\n                      <source src=\"asset/audio/1_kan.mp3\" type=\"audio/mpeg\">\\n                      Your browser does not support the audio element.\\n                    </audio></td>\n",
       "    </tr>\n",
       "    <tr>\n",
       "      <td>ߍ</td>\n",
       "      <td><audio controls style=\"width:150px\">\\n                      <source src=\"asset/audio/1_kan.mp3\" type=\"audio/mpeg\">\\n                      Your browser does not support the audio element.\\n                    </audio></td>\n",
       "    </tr>\n",
       "    <tr>\n",
       "      <td>ߎ</td>\n",
       "      <td><audio controls style=\"width:150px\">\\n                      <source src=\"asset/audio/1_kan.mp3\" type=\"audio/mpeg\">\\n                      Your browser does not support the audio element.\\n                    </audio></td>\n",
       "    </tr>\n",
       "    <tr>\n",
       "      <td>ߏ</td>\n",
       "      <td><audio controls style=\"width:150px\">\\n                      <source src=\"asset/audio/1_kan.mp3\" type=\"audio/mpeg\">\\n                      Your browser does not support the audio element.\\n                    </audio></td>\n",
       "    </tr>\n",
       "    <tr>\n",
       "      <td>ߐ</td>\n",
       "      <td><audio controls style=\"width:150px\">\\n                      <source src=\"asset/audio/1_kan.mp3\" type=\"audio/mpeg\">\\n                      Your browser does not support the audio element.\\n                    </audio></td>\n",
       "    </tr>\n",
       "  </tbody>\n",
       "</table>"
      ],
      "text/plain": [
       "<IPython.core.display.HTML object>"
      ]
     },
     "execution_count": 2,
     "metadata": {},
     "output_type": "execute_result"
    }
   ],
   "source": [
    "# HIDDEN\n",
    "import kukukan\n",
    "import pandas as pd\n",
    "from IPython.display import HTML\n",
    "from kukukan import player\n",
    "\n",
    "df = pd.DataFrame({\n",
    "    'Vowel': ['ߊ',\n",
    "              'ߋ',\n",
    "              'ߌ',\n",
    "              'ߍ',\n",
    "              'ߎ',\n",
    "              'ߏ',\n",
    "              'ߐ',\n",
    "             ],\n",
    "    \n",
    "    'Sound': \n",
    "    [\n",
    "    player.play('resource/asset/audio/1_kan.mp3','DEV'),\n",
    "    player.play('resource/asset/audio/1_kan.mp3','DEV'),        \n",
    "    player.play('resource/asset/audio/1_kan.mp3','DEV'),\n",
    "    player.play('resource/asset/audio/1_kan.mp3','DEV'),\n",
    "    player.play('resource/asset/audio/1_kan.mp3','DEV'),\n",
    "    player.play('resource/asset/audio/1_kan.mp3','DEV'),\n",
    "    player.play('resource/asset/audio/1_kan.mp3','DEV'),\n",
    "    ]\n",
    "})\n",
    "\n",
    "\n",
    "HTML(df.to_html(escape=False,index=False))"
   ]
  },
  {
   "cell_type": "code",
   "execution_count": null,
   "id": "6fcad3df-335b-4d21-8253-244536f39747",
   "metadata": {},
   "outputs": [],
   "source": []
  },
  {
   "cell_type": "code",
   "execution_count": null,
   "id": "39586869-991b-4725-8609-ab35ee0fbe40",
   "metadata": {},
   "outputs": [],
   "source": []
  },
  {
   "cell_type": "code",
   "execution_count": null,
   "id": "6db8edbf-3704-4d37-8ba9-7caed998a871",
   "metadata": {},
   "outputs": [],
   "source": []
  }
 ],
 "metadata": {
  "kernelspec": {
   "display_name": "Python 3 (ipykernel)",
   "language": "python",
   "name": "python3"
  },
  "language_info": {
   "codemirror_mode": {
    "name": "ipython",
    "version": 3
   },
   "file_extension": ".py",
   "mimetype": "text/x-python",
   "name": "python",
   "nbconvert_exporter": "python",
   "pygments_lexer": "ipython3",
   "version": "3.11.8"
  }
 },
 "nbformat": 4,
 "nbformat_minor": 5
}
