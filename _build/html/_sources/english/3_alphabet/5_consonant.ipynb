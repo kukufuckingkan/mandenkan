{
 "cells": [
  {
   "cell_type": "markdown",
   "id": "ff90e7c6-7428-4039-9994-d4acfb24a609",
   "metadata": {},
   "source": [
    "(english_alphabet_consonant)=\n",
    "# Consonant"
   ]
  },
  {
   "cell_type": "markdown",
   "id": "0710a62a-f192-4d1a-86d3-20b4daab1094",
   "metadata": {},
   "source": [
    "A consonant is a type of speech sound that is produced by obstructing or constricting the airflow in some way\n",
    "through the vocal tract. This obstruction can occur at various places in the mouth, such as the lips, teeth, or the\n",
    "roof of the mouth. Consonants contrast with vowels, which are produced with an open vocal tract and without\n",
    "significant obstruction.\n"
   ]
  },
  {
   "cell_type": "markdown",
   "id": "67d7a047-3bb0-4ad0-ab99-be0001b56320",
   "metadata": {},
   "source": [
    "(english_alphabet_table_consonant)=\n",
    "```{table} nko consonant\n",
    ":name: my-table-ref22\n",
    "\n",
    "|ߓ|ߔ|ߕ|ߖ|ߗ|ߘ|ߙ|ߚ|ߛ|ߜ|ߝ|ߞ|ߟ|ߡ|ߢ|ߣ|ߤ|ߥ|ߦ|\n",
    "|-|-|-|-|-|-|-|-|-|-|-|-|-|-|-|-|-|-|-|\n",
    "```"
   ]
  },
  {
   "cell_type": "code",
   "execution_count": 17,
   "id": "cd35e4c5-9ef5-4ff9-85a9-250e80c18a7b",
   "metadata": {},
   "outputs": [
    {
     "data": {
      "text/html": [
       "<table border=\"1\" class=\"dataframe\">\n",
       "  <thead>\n",
       "    <tr style=\"text-align: right;\">\n",
       "      <th>Vowel</th>\n",
       "      <th>Sound</th>\n",
       "    </tr>\n",
       "  </thead>\n",
       "  <tbody>\n",
       "    <tr>\n",
       "      <td>ߊ</td>\n",
       "      <td><audio controls style=\"width:150px\">\\n                      <source src=\".../../resource/asset/audio/consonant/1.mp3\" type=\"audio/mpeg\">\\n                      Your browser does not support the audio element.\\n                    </audio></td>\n",
       "    </tr>\n",
       "    <tr>\n",
       "      <td>ߋ</td>\n",
       "      <td><audio controls style=\"width:150px\">\\n                      <source src=\"asset/audio/1_kan.mp3\" type=\"audio/mpeg\">\\n                      Your browser does not support the audio element.\\n                    </audio></td>\n",
       "    </tr>\n",
       "    <tr>\n",
       "      <td>ߌ</td>\n",
       "      <td><audio controls style=\"width:150px\">\\n                      <source src=\"asset/audio/1_kan.mp3\" type=\"audio/mpeg\">\\n                      Your browser does not support the audio element.\\n                    </audio></td>\n",
       "    </tr>\n",
       "    <tr>\n",
       "      <td>ߍ</td>\n",
       "      <td><audio controls style=\"width:150px\">\\n                      <source src=\"asset/audio/1_kan.mp3\" type=\"audio/mpeg\">\\n                      Your browser does not support the audio element.\\n                    </audio></td>\n",
       "    </tr>\n",
       "    <tr>\n",
       "      <td>ߎ</td>\n",
       "      <td><audio controls style=\"width:150px\">\\n                      <source src=\"asset/audio/1_kan.mp3\" type=\"audio/mpeg\">\\n                      Your browser does not support the audio element.\\n                    </audio></td>\n",
       "    </tr>\n",
       "    <tr>\n",
       "      <td>ߏ</td>\n",
       "      <td><audio controls style=\"width:150px\">\\n                      <source src=\"asset/audio/1_kan.mp3\" type=\"audio/mpeg\">\\n                      Your browser does not support the audio element.\\n                    </audio></td>\n",
       "    </tr>\n",
       "    <tr>\n",
       "      <td>ߐ</td>\n",
       "      <td><audio controls style=\"width:150px\">\\n                      <source src=\"asset/audio/1_kan.mp3\" type=\"audio/mpeg\">\\n                      Your browser does not support the audio element.\\n                    </audio></td>\n",
       "    </tr>\n",
       "  </tbody>\n",
       "</table>"
      ],
      "text/plain": [
       "<IPython.core.display.HTML object>"
      ]
     },
     "execution_count": 17,
     "metadata": {},
     "output_type": "execute_result"
    }
   ],
   "source": [
    "# HIDDEN\n",
    "import kukukan\n",
    "import pandas as pd\n",
    "from IPython.display import HTML\n",
    "from kukukan import player\n",
    "\n",
    "df = pd.DataFrame({\n",
    "    'Vowel': ['ߊ',\n",
    "              'ߋ',\n",
    "              'ߌ',\n",
    "              'ߍ',\n",
    "              'ߎ',\n",
    "              'ߏ',\n",
    "              'ߐ',\n",
    "             ],\n",
    "    \n",
    "    'Sound': \n",
    "    [\n",
    "    player.play('.../../resource/asset/audio/consonant/1.mp3','local'),\n",
    "    player.play('resource/asset/audio/1_kan.mp3','DEV'),        \n",
    "    player.play('resource/asset/audio/1_kan.mp3','DEV'),\n",
    "    player.play('resource/asset/audio/1_kan.mp3','DEV'),\n",
    "    player.play('resource/asset/audio/1_kan.mp3','DEV'),\n",
    "    player.play('resource/asset/audio/1_kan.mp3','DEV'),\n",
    "    player.play('resource/asset/audio/1_kan.mp3','DEV'),\n",
    "    ]\n",
    "})\n",
    "\n",
    "\n",
    "HTML(df.to_html(escape=False,index=False)"
   ]
  },
  {
   "cell_type": "code",
   "execution_count": null,
   "id": "3b3bf9e4-a716-4c82-ae39-fd1aa19e1239",
   "metadata": {},
   "outputs": [],
   "source": [
    "## Extended Characters"
   ]
  },
  {
   "cell_type": "markdown",
   "id": "7adfaffb-8a0b-4247-a975-9fee428093f5",
   "metadata": {},
   "source": [
    "(english_alphabet_table_consonant߃)=\n",
    "```{table} nko consonant2\n",
    ":name: my-table-ref22߅߅\n",
    "\n",
    "|G|Z|V|KH|\n",
    "|-|-|-|-|\n",
    "|ߞ߭|ߝ߭|ߖ߭|ߜ߭|\n",
    "```"
   ]
  },
  {
   "cell_type": "markdown",
   "id": "6be7471c-3c8f-45f6-87dc-0b502570c727",
   "metadata": {},
   "source": []
  },
  {
   "cell_type": "code",
   "execution_count": null,
   "id": "28b38ee9-8165-4114-b102-52741dd9977a",
   "metadata": {},
   "outputs": [],
   "source": []
  }
 ],
 "metadata": {
  "kernelspec": {
   "display_name": "Python 3 (ipykernel)",
   "language": "python",
   "name": "python3"
  },
  "language_info": {
   "codemirror_mode": {
    "name": "ipython",
    "version": 3
   },
   "file_extension": ".py",
   "mimetype": "text/x-python",
   "name": "python",
   "nbconvert_exporter": "python",
   "pygments_lexer": "ipython3",
   "version": "3.11.8"
  }
 },
 "nbformat": 4,
 "nbformat_minor": 5
}
