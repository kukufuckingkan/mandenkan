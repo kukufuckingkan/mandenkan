{
 "cells": [
  {
   "cell_type": "markdown",
   "id": "5d0310dd-65d8-49d2-ae5a-d23c9d095247",
   "metadata": {},
   "source": [
    "# Prefix"
   ]
  },
  {
   "cell_type": "code",
   "execution_count": null,
   "id": "2999e7d2-621f-4912-9382-49bd8c41d738",
   "metadata": {},
   "outputs": [],
   "source": [
    "# HIDDEN\n",
    "import pandas as pd\n",
    "from IPython.display import HTML\n",
    "\n",
    "# Define headers and values (as lists)\n",
    "headers = ['name', 'nko', 'pronounciation', 'nko pronouncition']\n",
    "values = [\n",
    "    ['tun', 'Connect', '',''],\n",
    "    ['tunli', '', '',''],\n",
    "    ['tunni', 'Connection', '',''],    \n",
    "    ['tunta', 'Connectable', '',''],\n",
    "    ['tunna', '', '',''],\n",
    "    ['tunma', 'Connector (person)', '',''],\n",
    "    ['tunnen', '', '',''],\n",
    "    ['tuntoh', '', '',''], \n",
    "    ['tunra', '', '',''],\n",
    "    ['tundi', '', '',''],\n",
    "    ['faa', '', '',''],  \n",
    "]\n",
    "\n",
    "# Create the DataFrame with headers and rows of values\n",
    "df = pd.DataFrame(values, columns=headers)\n",
    "\n",
    "HTML(df.to_html(escape=False))"
   ]
  }
 ],
 "metadata": {
  "kernelspec": {
   "display_name": "Python 3 (ipykernel)",
   "language": "python",
   "name": "python3"
  },
  "language_info": {
   "codemirror_mode": {
    "name": "ipython",
    "version": 3
   },
   "file_extension": ".py",
   "mimetype": "text/x-python",
   "name": "python",
   "nbconvert_exporter": "python",
   "pygments_lexer": "ipython3",
   "version": "3.11.8"
  }
 },
 "nbformat": 4,
 "nbformat_minor": 5
}
