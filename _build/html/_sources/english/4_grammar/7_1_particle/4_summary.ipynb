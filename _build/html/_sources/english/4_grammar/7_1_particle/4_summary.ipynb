{
 "cells": [
  {
   "cell_type": "markdown",
   "id": "66bab2c9-449b-4773-9138-72fccba59c32",
   "metadata": {},
   "source": [
    "# Summary"
   ]
  },
  {
   "cell_type": "code",
   "execution_count": 18,
   "id": "ed3efb0b-853f-4e2d-bede-4b08c1b3cc85",
   "metadata": {},
   "outputs": [
    {
     "data": {
      "text/html": [
       "<table border=\"1\" class=\"dataframe\">\n",
       "  <thead>\n",
       "    <tr style=\"text-align: right;\">\n",
       "      <th>Vowel</th>\n",
       "      <th>Sound</th>\n",
       "    </tr>\n",
       "  </thead>\n",
       "  <tbody>\n",
       "    <tr>\n",
       "      <td>Up</td>\n",
       "      <td><audio controls style=\"width:150px\">\\n                    <source src=\"https://github.com/kukufuckingkan/mandenkan_media/raw/refs/heads/main/vowel/1.mp3\" type=\"audio/mpeg\">\\n                    Your browser does not support the audio element.\\n                </audio></td>\n",
       "    </tr>\n",
       "    <tr>\n",
       "      <td>Down</td>\n",
       "      <td><audio controls style=\"width:150px\">\\n                    <source src=\"https://github.com/kukufuckingkan/mandenkan_media/raw/refs/heads/main/vowel/2.mp3\" type=\"audio/mpeg\">\\n                    Your browser does not support the audio element.\\n                </audio></td>\n",
       "    </tr>\n",
       "    <tr>\n",
       "      <td>Up</td>\n",
       "      <td><audio controls style=\"width:150px\">\\n                    <source src=\"https://github.com/kukufuckingkan/mandenkan_media/raw/refs/heads/main/vowel/3.mp3\" type=\"audio/mpeg\">\\n                    Your browser does not support the audio element.\\n                </audio></td>\n",
       "    </tr>\n",
       "    <tr>\n",
       "      <td>Right</td>\n",
       "      <td><audio controls style=\"width:150px\">\\n                    <source src=\"https://github.com/kukufuckingkan/mandenkan_media/raw/refs/heads/main/vowel/4.mp3\" type=\"audio/mpeg\">\\n                    Your browser does not support the audio element.\\n                </audio></td>\n",
       "    </tr>\n",
       "    <tr>\n",
       "      <td>Left</td>\n",
       "      <td><audio controls style=\"width:150px\">\\n                    <source src=\"https://github.com/kukufuckingkan/mandenkan_media/raw/refs/heads/main/vowel/5.mp3\" type=\"audio/mpeg\">\\n                    Your browser does not support the audio element.\\n                </audio></td>\n",
       "    </tr>\n",
       "    <tr>\n",
       "      <td>Left</td>\n",
       "      <td><audio controls style=\"width:150px\">\\n                    <source src=\"https://github.com/kukufuckingkan/mandenkan_media/raw/refs/heads/main/vowel/6.mp3\" type=\"audio/mpeg\">\\n                    Your browser does not support the audio element.\\n                </audio></td>\n",
       "    </tr>\n",
       "    <tr>\n",
       "      <td>on</td>\n",
       "      <td><audio controls style=\"width:150px\">\\n                    <source src=\"https://github.com/kukufuckingkan/mandenkan_media/raw/refs/heads/main/vowel/7.mp3\" type=\"audio/mpeg\">\\n                    Your browser does not support the audio element.\\n                </audio></td>\n",
       "    </tr>\n",
       "  </tbody>\n",
       "</table>"
      ],
      "text/plain": [
       "<IPython.core.display.HTML object>"
      ]
     },
     "execution_count": 18,
     "metadata": {},
     "output_type": "execute_result"
    }
   ],
   "source": [
    "# HIDDEN\n",
    "import kukukan\n",
    "import pandas as pd\n",
    "from IPython.display import HTML\n",
    "from kukukan import player\n",
    "\n",
    "df = pd.DataFrame({\n",
    "    'Vowel': [\n",
    "            'Up',\n",
    "              'Down',\n",
    "              'Up',\n",
    "              'Right',\n",
    "              'Left',\n",
    "              'Left',\n",
    "              'on',\n",
    "             ],\n",
    "    \n",
    "    'Sound': \n",
    "    [\n",
    "    player.playFromGitt('VOWEL',1),\n",
    "    player.playFromGitt('VOWEL',2),        \n",
    "    player.playFromGitt('VOWEL',3),\n",
    "    player.playFromGitt('VOWEL',4),\n",
    "    player.playFromGitt('VOWEL',5),\n",
    "    player.playFromGitt('VOWEL',6),\n",
    "    player.playFromGitt('VOWEL',7),\n",
    "    ]\n",
    "})\n",
    "\n",
    "# df = df.style.set_table_styles(\n",
    "#     [{'selector': 'td', 'props': [('text-align', 'center')]}]\n",
    "# )\n",
    "\n",
    "HTML(df.to_html(escape=False,index=False))"
   ]
  },
  {
   "cell_type": "code",
   "execution_count": null,
   "id": "0184c931-c895-4634-a47c-782c968e1452",
   "metadata": {},
   "outputs": [],
   "source": []
  }
 ],
 "metadata": {
  "kernelspec": {
   "display_name": "Python 3 (ipykernel)",
   "language": "python",
   "name": "python3"
  },
  "language_info": {
   "codemirror_mode": {
    "name": "ipython",
    "version": 3
   },
   "file_extension": ".py",
   "mimetype": "text/x-python",
   "name": "python",
   "nbconvert_exporter": "python",
   "pygments_lexer": "ipython3",
   "version": "3.11.8"
  }
 },
 "nbformat": 4,
 "nbformat_minor": 5
}
