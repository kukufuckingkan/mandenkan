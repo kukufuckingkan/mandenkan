{
 "cells": [
  {
   "cell_type": "markdown",
   "id": "d05e0628-b604-4fca-86dc-e016466f2ce2",
   "metadata": {},
   "source": [
    "# Common noun"
   ]
  },
  {
   "cell_type": "markdown",
   "id": "7470c631-42e6-4787-8c23-9fa9cf029a42",
   "metadata": {},
   "source": [
    "A common noun refers to a general thing."
   ]
  }
 ],
 "metadata": {
  "kernelspec": {
   "display_name": "Python 3 (ipykernel)",
   "language": "python",
   "name": "python3"
  },
  "language_info": {
   "codemirror_mode": {
    "name": "ipython",
    "version": 3
   },
   "file_extension": ".py",
   "mimetype": "text/x-python",
   "name": "python",
   "nbconvert_exporter": "python",
   "pygments_lexer": "ipython3",
   "version": "3.11.8"
  }
 },
 "nbformat": 4,
 "nbformat_minor": 5
}
