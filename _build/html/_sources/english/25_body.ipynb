{
 "cells": [
  {
   "cell_type": "markdown",
   "id": "fa6b3e20-9e8d-46d4-9362-9862f2eb3f96",
   "metadata": {},
   "source": [
    "# Body"
   ]
  },
  {
   "cell_type": "code",
   "execution_count": 2,
   "id": "8419db72-c26c-4f30-aac8-5f7ee13e6f6c",
   "metadata": {},
   "outputs": [
    {
     "data": {
      "text/html": [
       "<table border=\"1\" class=\"dataframe\">\n",
       "  <thead>\n",
       "    <tr style=\"text-align: right;\">\n",
       "      <th>ߖߊ</th>\n",
       "      <th>ߕߐ߮</th>\n",
       "      <th>ߞߊ߲</th>\n",
       "      <th>Name</th>\n",
       "      <th>Meaning</th>\n",
       "      <th>Pronounciation</th>\n",
       "    </tr>\n",
       "  </thead>\n",
       "  <tbody>\n",
       "    <tr>\n",
       "      <td><img src=\"https://github.com/kukufuckingkan/mandenkan_media/raw/refs/heads/main/image/1.jpg\" alt=\"ߊ߲ߞߌߟߌ\" width=\"150\" height=\"150\"></td>\n",
       "      <td>ߊ߲ߞߌߟߌ</td>\n",
       "      <td><audio controls style=\"width:150px\">\\n                    <source src=\"https://github.com/kukufuckingkan/mandenkan_media/raw/refs/heads/main/vowel/1.mp3\" type=\"audio/mpeg\">\\n                    Your browser does not support the audio element.\\n                </audio></td>\n",
       "      <td>Mind</td>\n",
       "      <td>Call upon us</td>\n",
       "      <td><audio controls style=\"width:150px\">\\n                    <source src=\"https://github.com/kukufuckingkan/mandenkan_media/raw/refs/heads/main/vowel/1.mp3\" type=\"audio/mpeg\">\\n                    Your browser does not support the audio element.\\n                </audio></td>\n",
       "    </tr>\n",
       "  </tbody>\n",
       "</table>"
      ],
      "text/plain": [
       "<IPython.core.display.HTML object>"
      ]
     },
     "execution_count": 2,
     "metadata": {},
     "output_type": "execute_result"
    }
   ],
   "source": [
    "# HIDDEN\n",
    "import kukukan\n",
    "import pandas as pd\n",
    "from IPython.display import HTML\n",
    "from kukukan import player, image\n",
    "\n",
    "df = pd.DataFrame({\n",
    "   'ߖߊ': [\n",
    "            image.showHtml(1,\"ߊ߲ߞߌߟߌ\"),\n",
    "             ],\n",
    "    \n",
    "    'ߕߐ߮': [\n",
    "            'ߊ߲ߞߌߟߌ',\n",
    "             ],\n",
    "    \n",
    "    'ߞߊ߲': \n",
    "    [\n",
    "    player.playFromGitt('VOWEL',1),       \n",
    "    ],\n",
    "\n",
    "        'Name': [\n",
    "            'Mind',\n",
    "             ],\n",
    "\n",
    "        'Meaning': [\n",
    "            'Call upon us',\n",
    "             ],\n",
    "    \n",
    "    'Pronounciation': \n",
    "    [\n",
    "    player.playFromGitt('VOWEL',1),        \n",
    "    ]\n",
    "})\n",
    "\n",
    "\n",
    "HTML(df.to_html(escape=False,index=False))"
   ]
  },
  {
   "cell_type": "code",
   "execution_count": null,
   "id": "680fb375-6aa6-4113-a653-0e271167dbbd",
   "metadata": {},
   "outputs": [],
   "source": []
  }
 ],
 "metadata": {
  "kernelspec": {
   "display_name": "Python 3 (ipykernel)",
   "language": "python",
   "name": "python3"
  },
  "language_info": {
   "codemirror_mode": {
    "name": "ipython",
    "version": 3
   },
   "file_extension": ".py",
   "mimetype": "text/x-python",
   "name": "python",
   "nbconvert_exporter": "python",
   "pygments_lexer": "ipython3",
   "version": "3.11.8"
  }
 },
 "nbformat": 4,
 "nbformat_minor": 5
}
