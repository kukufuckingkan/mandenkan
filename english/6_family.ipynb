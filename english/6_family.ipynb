{
 "cells": [
  {
   "cell_type": "code",
   "execution_count": null,
   "id": "8429837d-d154-42d2-962b-5189b598206a",
   "metadata": {},
   "outputs": [],
   "source": [
    "# familly"
   ]
  },
  {
   "cell_type": "code",
   "execution_count": 2,
   "id": "941ac7f7-7e7b-4021-a61f-a2d3f1ce34a5",
   "metadata": {},
   "outputs": [
    {
     "name": "stdout",
     "output_type": "stream",
     "text": [
      "/Users/moridjarakeita/Documents/Kukukan/kitab/mandenkan/kukukan/bin/python\n"
     ]
    }
   ],
   "source": [
    "import sys\n",
    "print(sys.executable)"
   ]
  },
  {
   "cell_type": "code",
   "execution_count": 19,
   "id": "cdf3c726-8143-4a08-8d8a-e0434bfe107c",
   "metadata": {},
   "outputs": [
    {
     "data": {
      "text/plain": [
       "'<audio controls style=\"width:150px\">\\n                      <source src=\"\" type=\"audio/mpeg\">\\n                      Your browser does not support the audio element.\\n                    </audio>'"
      ]
     },
     "execution_count": 19,
     "metadata": {},
     "output_type": "execute_result"
    }
   ],
   "source": []
  },
  {
   "cell_type": "code",
   "execution_count": null,
   "id": "e84b219f-8ee5-4ff7-85b2-20814df0c417",
   "metadata": {},
   "outputs": [],
   "source": []
  },
  {
   "cell_type": "code",
   "execution_count": null,
   "id": "bbc4f57e-dd0e-4baa-9447-c0d49c0a2e02",
   "metadata": {},
   "outputs": [],
   "source": []
  },
  {
   "cell_type": "code",
   "execution_count": null,
   "id": "aafe46e8-a3f6-4801-8652-921a749a109b",
   "metadata": {},
   "outputs": [],
   "source": []
  }
 ],
 "metadata": {
  "kernelspec": {
   "display_name": "Python (kukukan)",
   "language": "python",
   "name": "kukukan"
  },
  "language_info": {
   "codemirror_mode": {
    "name": "ipython",
    "version": 3
   },
   "file_extension": ".py",
   "mimetype": "text/x-python",
   "name": "python",
   "nbconvert_exporter": "python",
   "pygments_lexer": "ipython3",
   "version": "3.12.6"
  }
 },
 "nbformat": 4,
 "nbformat_minor": 5
}
