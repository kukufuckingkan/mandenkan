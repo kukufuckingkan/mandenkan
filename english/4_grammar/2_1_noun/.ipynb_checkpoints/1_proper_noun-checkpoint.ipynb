{
 "cells": [
  {
   "cell_type": "markdown",
   "id": "8fd4381e-1eed-409f-8524-1d1ba8d0a430",
   "metadata": {},
   "source": [
    "# Proper noun"
   ]
  },
  {
   "cell_type": "markdown",
   "id": "a467d780-ca3f-48bf-83c2-57c5f19c335b",
   "metadata": {},
   "source": [
    "A **proper noun** is the specific name of a person, place, organization, or sometimes a thing. It always starts with a capital letter, regardless of where it appears in a sentence. Proper nouns refer to unique entities, unlike common nouns, which refer to general things.\n",
    "\n",
    "Examples of proper nouns:\n",
    "- **Names**: Sarah, John, Michael\n",
    "- **Places**: Paris, Mount Everest, the Nile River\n",
    "- **Organizations**: Google, United Nations, Microsoft\n",
    "- **Titles**: The Great Gatsby, Time Magazine\n",
    "\n",
    "In contrast, **common nouns** are generic names (e.g., \"city,\" \"river,\" \"company\")."
   ]
  },
  {
   "cell_type": "markdown",
   "id": "39b84609-6b54-4fa5-bb5e-655d2287ccfe",
   "metadata": {},
   "source": [
    "A proper noun refers to a unque entity."
   ]
  }
 ],
 "metadata": {
  "kernelspec": {
   "display_name": "Python 3 (ipykernel)",
   "language": "python",
   "name": "python3"
  },
  "language_info": {
   "codemirror_mode": {
    "name": "ipython",
    "version": 3
   },
   "file_extension": ".py",
   "mimetype": "text/x-python",
   "name": "python",
   "nbconvert_exporter": "python",
   "pygments_lexer": "ipython3",
   "version": "3.11.8"
  }
 },
 "nbformat": 4,
 "nbformat_minor": 5
}
