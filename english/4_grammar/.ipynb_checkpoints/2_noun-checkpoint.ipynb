{
 "cells": [
  {
   "cell_type": "markdown",
   "id": "d57d2fc0-ef10-4592-a10c-096193938ba1",
   "metadata": {},
   "source": [
    "# Name"
   ]
  },
  {
   "cell_type": "markdown",
   "id": "f1bdc14c-ec0e-4b28-a6f0-1cd61a3da497",
   "metadata": {},
   "source": [
    "The name,ߕߐ߮, identifies an entity. Said entity maybe a person, a place or an element."
   ]
  },
  {
   "cell_type": "markdown",
   "id": "c267c4e3-1bf4-4215-a095-66192a9870ca",
   "metadata": {},
   "source": [
    "a given name maybe be proper or improper"
   ]
  },
  {
   "cell_type": "code",
   "execution_count": null,
   "id": "af6cf383-2b67-4226-be17-c514b82591dd",
   "metadata": {},
   "outputs": [],
   "source": []
  },
  {
   "cell_type": "code",
   "execution_count": null,
   "id": "03a9c209-16cd-4d2b-bb9a-7415e742a8a6",
   "metadata": {},
   "outputs": [],
   "source": []
  },
  {
   "cell_type": "code",
   "execution_count": null,
   "id": "02a0a7ce-e61d-4232-bba2-8b760066439a",
   "metadata": {},
   "outputs": [],
   "source": []
  },
  {
   "cell_type": "markdown",
   "id": "ead05f4d-8a7c-47a6-b385-f78b48aff045",
   "metadata": {},
   "source": [
    "There are two types of nouns: Proper,ߞߋߟߋ߲ߣߊ , and common, ߝߏߘߏߓߊ.\n",
    "\n",
    "In english,The proper nouns is preceded by the definite article \"The\". It refers to a known and unique entity.\n",
    "\n",
    "The common noun is precedeed by indefinite artciles a and an. It is a reference to a type of the common noun."
   ]
  },
  {
   "cell_type": "markdown",
   "id": "331fe6fe-901c-440e-9378-a759d4a5e34f",
   "metadata": {},
   "source": [
    "An individual is subset of an entity. It has either some or all of the attributes of referred entity.\n",
    "Examples: The God,The Sun,The Water,The EARTH"
   ]
  },
  {
   "cell_type": "markdown",
   "id": "8f23b605-9102-4870-88bd-142734e5e292",
   "metadata": {},
   "source": [
    "A common noun is a subset of a proper noun. It a represents a unspecified proper noun and its\n",
    "first letter is not capitalized. This implies that there are multiple person with varying attributes of\n",
    "said individual. Example: god,sun,moon,water,earth and heaven, a good, a moon, an oven an item an individual."
   ]
  },
  {
   "cell_type": "code",
   "execution_count": null,
   "id": "83860eef-570f-4edb-9c86-fe08dbadcffc",
   "metadata": {},
   "outputs": [],
   "source": []
  },
  {
   "cell_type": "code",
   "execution_count": 51,
   "id": "4486b040-1427-44c0-b491-826b835ee688",
   "metadata": {},
   "outputs": [
    {
     "data": {
      "text/html": [
       "<table border=\"1\" class=\"dataframe\">\n",
       "  <thead>\n",
       "    <tr style=\"text-align: right;\">\n",
       "      <th>Entity</th>\n",
       "    </tr>\n",
       "  </thead>\n",
       "  <tbody>\n",
       "    <tr>\n",
       "      <td><img src=\"https://github.com/kukufuckingkan/mandenkan_media/raw/refs/heads/main/image/general/1.jpg\" alt=\"entity\" width=\"900\" height=\"900\"></td>\n",
       "    </tr>\n",
       "  </tbody>\n",
       "</table>"
      ],
      "text/plain": [
       "<IPython.core.display.HTML object>"
      ]
     },
     "execution_count": 51,
     "metadata": {},
     "output_type": "execute_result"
    }
   ],
   "source": [
    "# HIDDEN\n",
    "import kukukan\n",
    "import pandas as pd\n",
    "from IPython.display import HTML\n",
    "from kukukan import image,sound\n",
    "\n",
    "df = pd.DataFrame({\n",
    "   'Entity': [\n",
    "            image.player(1,\"entity\",\"general\",900,900)\n",
    "             ],\n",
    "})\n",
    "\n",
    "HTML(df.to_html(escape=False,index=False))\n"
   ]
  },
  {
   "cell_type": "markdown",
   "id": "c2871d10-74a3-4f96-b1c7-c1e3525f0707",
   "metadata": {},
   "source": [
    "\n",
    "\n"
   ]
  },
  {
   "cell_type": "code",
   "execution_count": null,
   "id": "638cbc2c-15b1-491d-ba31-971d9e720c44",
   "metadata": {},
   "outputs": [],
   "source": []
  }
 ],
 "metadata": {
  "kernelspec": {
   "display_name": "Python 3 (ipykernel)",
   "language": "python",
   "name": "python3"
  },
  "language_info": {
   "codemirror_mode": {
    "name": "ipython",
    "version": 3
   },
   "file_extension": ".py",
   "mimetype": "text/x-python",
   "name": "python",
   "nbconvert_exporter": "python",
   "pygments_lexer": "ipython3",
   "version": "3.11.8"
  }
 },
 "nbformat": 4,
 "nbformat_minor": 5
}
