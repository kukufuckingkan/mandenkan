{
 "cells": [
  {
   "cell_type": "markdown",
   "id": "d7c3ce81-c79e-4378-ae4f-8a3f695eca62",
   "metadata": {},
   "source": [
    "# Interrogation"
   ]
  },
  {
   "cell_type": "code",
   "execution_count": null,
   "id": "7a8533a2-1c32-4930-8362-ae38be990926",
   "metadata": {},
   "outputs": [],
   "source": [
    "# HIDDEN\n",
    "import pandas as pd\n",
    "from IPython.display import HTML\n",
    "\n",
    "# Define headers and values (as lists)\n",
    "headers = ['name', 'nko', 'pronounciation', 'nko pronouncition']\n",
    "values = [\n",
    "    ['Who', '', '',''],\n",
    "    ['Whom', '', '',''],\n",
    "    ['Why', '', '',''],\n",
    "    ['Where', '', '',''],\n",
    "    ['Which', '', '',''],\n",
    "    ['How', '', '',''],\n",
    "    ['Is it not', '', '',''],\n",
    "    ['How Much', '', '',''], \n",
    "]\n",
    "\n",
    "# Create the DataFrame with headers and rows of values\n",
    "df = pd.DataFrame(values, columns=headers)\n",
    "\n",
    "HTML(df.to_html(escape=False))"
   ]
  }
 ],
 "metadata": {
  "kernelspec": {
   "display_name": "Python 3 (ipykernel)",
   "language": "python",
   "name": "python3"
  },
  "language_info": {
   "codemirror_mode": {
    "name": "ipython",
    "version": 3
   },
   "file_extension": ".py",
   "mimetype": "text/x-python",
   "name": "python",
   "nbconvert_exporter": "python",
   "pygments_lexer": "ipython3",
   "version": "3.11.8"
  }
 },
 "nbformat": 4,
 "nbformat_minor": 5
}
