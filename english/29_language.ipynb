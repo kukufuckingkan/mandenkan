{
 "cells": [
  {
   "cell_type": "markdown",
   "id": "f4d81ad8-500d-4515-a44f-e04476c24762",
   "metadata": {},
   "source": [
    "# Language"
   ]
  },
  {
   "cell_type": "code",
   "execution_count": null,
   "id": "2d283ba3-bb8e-4e5c-973f-f8c738b03cca",
   "metadata": {},
   "outputs": [],
   "source": [
    "# HIDDEN\n",
    "import pandas as pd\n",
    "from IPython.display import HTML\n",
    "\n",
    "# Define headers and values (as lists)\n",
    "headers = ['Image', 'nko', 'pronounciation', 'nko pronouncition','image']\n",
    "values = [\n",
    "    ['', '', 'Mandenkan','dja',''],\n",
    "    ['', '', 'KissiKan','dja',''], \n",
    "    \n",
    "    \n",
    "    \n",
    "  \n",
    "]\n",
    "\n",
    "# Create the DataFrame with headers and rows of values\n",
    "df = pd.DataFrame(values, columns=headers)\n",
    "\n",
    "HTML(df.to_html(escape=False))"
   ]
  }
 ],
 "metadata": {
  "kernelspec": {
   "display_name": "Python 3 (ipykernel)",
   "language": "python",
   "name": "python3"
  },
  "language_info": {
   "codemirror_mode": {
    "name": "ipython",
    "version": 3
   },
   "file_extension": ".py",
   "mimetype": "text/x-python",
   "name": "python",
   "nbconvert_exporter": "python",
   "pygments_lexer": "ipython3",
   "version": "3.11.8"
  }
 },
 "nbformat": 4,
 "nbformat_minor": 5
}
