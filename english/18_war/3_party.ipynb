{
 "cells": [
  {
   "cell_type": "markdown",
   "id": "4ccd47f3-22b7-4e13-a9f4-d4b960c513ef",
   "metadata": {},
   "source": [
    "# Party"
   ]
  },
  {
   "cell_type": "code",
   "execution_count": 3,
   "id": "344ecf56-72b8-49ec-a35b-bfee08c22163",
   "metadata": {},
   "outputs": [
    {
     "data": {
      "text/html": [
       "<table border=\"1\" class=\"dataframe\">\n",
       "  <thead>\n",
       "    <tr style=\"text-align: right;\">\n",
       "      <th>ߖߊ</th>\n",
       "      <th>ߕߐ߮</th>\n",
       "      <th>ߞߊ߲</th>\n",
       "      <th>Name</th>\n",
       "      <th>Pronounciation</th>\n",
       "    </tr>\n",
       "  </thead>\n",
       "  <tbody>\n",
       "    <tr>\n",
       "      <td><img src=\"https://github.com/kukufuckingkan/mandenkan_media/raw/refs/heads/main/image/1.jpg\" alt=\"ߞߍߟߍߟߊ\" width=\"150\" height=\"150\"></td>\n",
       "      <td>ߞߍߟߍߟߊ</td>\n",
       "      <td><audio controls style=\"width:150px\">\\n                    <source src=\"https://github.com/kukufuckingkan/mandenkan_media/raw/refs/heads/main/vowel/1.mp3\" type=\"audio/mpeg\">\\n                    Your browser does not support the audio element.\\n                </audio></td>\n",
       "      <td>warrior</td>\n",
       "      <td><audio controls style=\"width:150px\">\\n                    <source src=\"https://github.com/kukufuckingkan/mandenkan_media/raw/refs/heads/main/vowel/1.mp3\" type=\"audio/mpeg\">\\n                    Your browser does not support the audio element.\\n                </audio></td>\n",
       "    </tr>\n",
       "    <tr>\n",
       "      <td><img src=\"https://github.com/kukufuckingkan/mandenkan_media/raw/refs/heads/main/image/1.jpg\" alt=\"ߞߍߟߍߞߍߟߊ\" width=\"150\" height=\"150\"></td>\n",
       "      <td>ߞߍߟߍߞߍߟߊ</td>\n",
       "      <td><audio controls style=\"width:150px\">\\n                    <source src=\"https://github.com/kukufuckingkan/mandenkan_media/raw/refs/heads/main/vowel/2.mp3\" type=\"audio/mpeg\">\\n                    Your browser does not support the audio element.\\n                </audio></td>\n",
       "      <td>Provocator</td>\n",
       "      <td><audio controls style=\"width:150px\">\\n                    <source src=\"https://github.com/kukufuckingkan/mandenkan_media/raw/refs/heads/main/vowel/2.mp3\" type=\"audio/mpeg\">\\n                    Your browser does not support the audio element.\\n                </audio></td>\n",
       "    </tr>\n",
       "    <tr>\n",
       "      <td><img src=\"https://github.com/kukufuckingkan/mandenkan_media/raw/refs/heads/main/image/1.jpg\" alt=\"ߞߍߟߍߕߌߜߍ\" width=\"150\" height=\"150\"></td>\n",
       "      <td>ߞߍߟߍߕߌߜߍ</td>\n",
       "      <td><audio controls style=\"width:150px\">\\n                    <source src=\"https://github.com/kukufuckingkan/mandenkan_media/raw/refs/heads/main/vowel/2.mp3\" type=\"audio/mpeg\">\\n                    Your browser does not support the audio element.\\n                </audio></td>\n",
       "      <td>xxx</td>\n",
       "      <td><audio controls style=\"width:150px\">\\n                    <source src=\"https://github.com/kukufuckingkan/mandenkan_media/raw/refs/heads/main/vowel/3.mp3\" type=\"audio/mpeg\">\\n                    Your browser does not support the audio element.\\n                </audio></td>\n",
       "    </tr>\n",
       "    <tr>\n",
       "      <td><img src=\"https://github.com/kukufuckingkan/mandenkan_media/raw/refs/heads/main/image/1.jpg\" alt=\"ߞߍߟߍߕߌߜߍߟߊ\" width=\"150\" height=\"150\"></td>\n",
       "      <td>ߞߍߟߍߕߌߜߍߟߊ</td>\n",
       "      <td><audio controls style=\"width:150px\">\\n                    <source src=\"https://github.com/kukufuckingkan/mandenkan_media/raw/refs/heads/main/vowel/2.mp3\" type=\"audio/mpeg\">\\n                    Your browser does not support the audio element.\\n                </audio></td>\n",
       "      <td>xxxx</td>\n",
       "      <td><audio controls style=\"width:150px\">\\n                    <source src=\"https://github.com/kukufuckingkan/mandenkan_media/raw/refs/heads/main/vowel/3.mp3\" type=\"audio/mpeg\">\\n                    Your browser does not support the audio element.\\n                </audio></td>\n",
       "    </tr>\n",
       "  </tbody>\n",
       "</table>"
      ],
      "text/plain": [
       "<IPython.core.display.HTML object>"
      ]
     },
     "execution_count": 3,
     "metadata": {},
     "output_type": "execute_result"
    }
   ],
   "source": [
    "# HIDDEN\n",
    "import kukukan\n",
    "import pandas as pd\n",
    "from IPython.display import HTML\n",
    "from kukukan import player, image\n",
    "\n",
    "df = pd.DataFrame({\n",
    "   'ߖߊ': [\n",
    "            image.showHtml(1,\"ߞߍߟߍߟߊ\"),\n",
    "            image.showHtml(1,\"ߞߍߟߍߞߍߟߊ\"),\n",
    "           image.showHtml(1,\"ߞߍߟߍߕߌߜߍ\"),\n",
    "            image.showHtml(1,\"ߞߍߟߍߕߌߜߍߟߊ\"),\n",
    "             ],\n",
    "    \n",
    "    'ߕߐ߮': [\n",
    "            'ߞߍߟߍߟߊ',\n",
    "            'ߞߍߟߍߞߍߟߊ',\n",
    "            'ߞߍߟߍߕߌߜߍ',\n",
    "             'ߞߍߟߍߕߌߜߍߟߊ',\n",
    "             ],\n",
    "    \n",
    "    'ߞߊ߲': \n",
    "    [\n",
    "    player.playFromGitt('VOWEL',1),       \n",
    "    player.playFromGitt('VOWEL',2),\n",
    "    player.playFromGitt('VOWEL',2),\n",
    "    player.playFromGitt('VOWEL',2),\n",
    "    ],\n",
    "\n",
    "        'Name': [\n",
    "            'warrior',\n",
    "            'Provocator',\n",
    "            'xxx',\n",
    "            'xxxx'\n",
    "             ],\n",
    "    \n",
    "    'Pronounciation': \n",
    "    [\n",
    "    player.playFromGitt('VOWEL',1),\n",
    "    player.playFromGitt('VOWEL',2),\n",
    "    player.playFromGitt('VOWEL',3),  \n",
    "    player.playFromGitt('VOWEL',3),        \n",
    "    ]\n",
    "})\n",
    "\n",
    "\n",
    "HTML(df.to_html(escape=False,index=False))"
   ]
  },
  {
   "cell_type": "code",
   "execution_count": null,
   "id": "9a056edb-4f5b-4871-81e0-28d8e1b9070a",
   "metadata": {},
   "outputs": [],
   "source": []
  }
 ],
 "metadata": {
  "kernelspec": {
   "display_name": "Python 3 (ipykernel)",
   "language": "python",
   "name": "python3"
  },
  "language_info": {
   "codemirror_mode": {
    "name": "ipython",
    "version": 3
   },
   "file_extension": ".py",
   "mimetype": "text/x-python",
   "name": "python",
   "nbconvert_exporter": "python",
   "pygments_lexer": "ipython3",
   "version": "3.11.8"
  }
 },
 "nbformat": 4,
 "nbformat_minor": 5
}
