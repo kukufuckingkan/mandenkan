{
 "cells": [
  {
   "cell_type": "code",
   "execution_count": 10,
   "id": "89cbdd61-83f1-40e3-98b4-1efbb84ecd57",
   "metadata": {},
   "outputs": [],
   "source": [
    "from IPython.core.display import HTML\n",
    "from IPython.display import HTML\n",
    "\n",
    "BASE_PATH = \"https://github.com/kukufuckingkan/mandenkan_media/raw/refs/heads/main/sound/\"\n",
    "EXTENSION = \".mp3\"\n",
    "\n",
    "\n",
    "\n",
    "def player(numero: int, alt: str,folder: str) -> str:\n",
    "    path = BASE_PATH + folder + \"/\" + str(numero) + EXTENSION\n",
    "\n",
    "    return  '''<audio controls style=\"width:150px\">\n",
    "                    <source src=\"{}\" type=\"audio/mpeg\">\n",
    "                </audio>'''.format(path) "
   ]
  },
  {
   "cell_type": "code",
   "execution_count": 16,
   "id": "fe55e3e1-3118-440e-ae5d-7b27c197dd57",
   "metadata": {},
   "outputs": [
    {
     "data": {
      "text/html": [
       "<audio controls style=\"width:150px\">\n",
       "                    <source src=\"https://github.com/kukufuckingkan/mandenkan_media/raw/refs/heads/main/sound/consonant/1.mp3\" type=\"audio/mpeg\">\n",
       "                </audio>"
      ],
      "text/plain": [
       "<IPython.core.display.HTML object>"
      ]
     },
     "execution_count": 16,
     "metadata": {},
     "output_type": "execute_result"
    }
   ],
   "source": [
    "test = player(1,'','consonant')\n",
    "HTML (test)"
   ]
  },
  {
   "cell_type": "markdown",
   "id": "4ccd47f3-22b7-4e13-a9f4-d4b960c513ef",
   "metadata": {},
   "source": [
    "# Party"
   ]
  },
  {
   "cell_type": "code",
   "execution_count": 6,
   "id": "344ecf56-72b8-49ec-a35b-bfee08c22163",
   "metadata": {},
   "outputs": [
    {
     "data": {
      "text/html": [
       "<table border=\"1\" class=\"dataframe\">\n",
       "  <thead>\n",
       "    <tr style=\"text-align: right;\">\n",
       "      <th>ߖߊ</th>\n",
       "      <th>ߕߐ߮</th>\n",
       "      <th>ߞߊ߲</th>\n",
       "      <th>Name</th>\n",
       "      <th>Pronounciation</th>\n",
       "    </tr>\n",
       "  </thead>\n",
       "  <tbody>\n",
       "    <tr>\n",
       "      <td><img src=\"https://github.com/kukufuckingkan/mandenkan_media/raw/refs/heads/main/image/war/1.jpg\" alt=\"ߡߊ߲ߛߊ\" width=\"150\" height=\"150\"></td>\n",
       "      <td>ߡߊ߲ߛߊ</td>\n",
       "      <td><audio controls style=\"width:150px\">\\n                    <source src=\"https://github.com/kukufuckingkan/mandenkan_media/raw/refs/heads/main/sound/vowel/1.mp3\" type=\"audio/mpeg\">\\n                </audio></td>\n",
       "      <td>High King</td>\n",
       "      <td><audio controls style=\"width:150px\">\\n                    <source src=\"https://github.com/kukufuckingkan/mandenkan_media/raw/refs/heads/main/sound/vowel/1.mp3\" type=\"audio/mpeg\">\\n                </audio></td>\n",
       "    </tr>\n",
       "    <tr>\n",
       "      <td><img src=\"https://github.com/kukufuckingkan/mandenkan_media/raw/refs/heads/main/image/war/2.jpg\" alt=\"ߡߊߙߌ\" width=\"150\" height=\"150\"></td>\n",
       "      <td>ߡߊߙߌ</td>\n",
       "      <td><audio controls style=\"width:150px\">\\n                    <source src=\"https://github.com/kukufuckingkan/mandenkan_media/raw/refs/heads/main/sound/vowel/1.mp3\" type=\"audio/mpeg\">\\n                </audio></td>\n",
       "      <td>Commander</td>\n",
       "      <td><audio controls style=\"width:150px\">\\n                    <source src=\"https://github.com/kukufuckingkan/mandenkan_media/raw/refs/heads/main/sound/vowel/1.mp3\" type=\"audio/mpeg\">\\n                </audio></td>\n",
       "    </tr>\n",
       "    <tr>\n",
       "      <td><img src=\"https://github.com/kukufuckingkan/mandenkan_media/raw/refs/heads/main/image/war/3.jpg\" alt=\"ߕߏ߲ߕߌߜߌ\" width=\"150\" height=\"150\"></td>\n",
       "      <td>ߕߏ߲ߕߌߜߌ</td>\n",
       "      <td><audio controls style=\"width:150px\">\\n                    <source src=\"https://github.com/kukufuckingkan/mandenkan_media/raw/refs/heads/main/sound/vowel/1.mp3\" type=\"audio/mpeg\">\\n                </audio></td>\n",
       "      <td>Clan Leager</td>\n",
       "      <td><audio controls style=\"width:150px\">\\n                    <source src=\"https://github.com/kukufuckingkan/mandenkan_media/raw/refs/heads/main/sound/vowel/1.mp3\" type=\"audio/mpeg\">\\n                </audio></td>\n",
       "    </tr>\n",
       "    <tr>\n",
       "      <td><img src=\"https://github.com/kukufuckingkan/mandenkan_media/raw/refs/heads/main/image/war/4.jpg\" alt=\"ߞߍߟߍߞߎ߲\" width=\"150\" height=\"150\"></td>\n",
       "      <td>ߞߍߟߍߞߎ߲</td>\n",
       "      <td><audio controls style=\"width:150px\">\\n                    <source src=\"https://github.com/kukufuckingkan/mandenkan_media/raw/refs/heads/main/sound/vowel/1.mp3\" type=\"audio/mpeg\">\\n                </audio></td>\n",
       "      <td>Warhead</td>\n",
       "      <td><audio controls style=\"width:150px\">\\n                    <source src=\"https://github.com/kukufuckingkan/mandenkan_media/raw/refs/heads/main/sound/vowel/1.mp3\" type=\"audio/mpeg\">\\n                </audio></td>\n",
       "    </tr>\n",
       "    <tr>\n",
       "      <td><img src=\"https://github.com/kukufuckingkan/mandenkan_media/raw/refs/heads/main/image/war/5.jpg\" alt=\"ߞߍߟߍߓߏߟߏ\" width=\"150\" height=\"150\"></td>\n",
       "      <td>ߞߍߟߍߓߏߟߏ</td>\n",
       "      <td><audio controls style=\"width:150px\">\\n                    <source src=\"https://github.com/kukufuckingkan/mandenkan_media/raw/refs/heads/main/sound/vowel/1.mp3\" type=\"audio/mpeg\">\\n                </audio></td>\n",
       "      <td>War Arm</td>\n",
       "      <td><audio controls style=\"width:150px\">\\n                    <source src=\"https://github.com/kukufuckingkan/mandenkan_media/raw/refs/heads/main/sound/vowel/1.mp3\" type=\"audio/mpeg\">\\n                </audio></td>\n",
       "    </tr>\n",
       "  </tbody>\n",
       "</table>"
      ],
      "text/plain": [
       "<IPython.core.display.HTML object>"
      ]
     },
     "execution_count": 6,
     "metadata": {},
     "output_type": "execute_result"
    }
   ],
   "source": [
    "# HIDDEN\n",
    "import kukukan\n",
    "import pandas as pd\n",
    "from IPython.display import HTML\n",
    "from kukukan import image,sound\n",
    "\n",
    "df = pd.DataFrame({\n",
    "   'ߖߊ': [\n",
    "            image.player(1,\"ߡߊ߲ߛߊ\",'war'),\n",
    "            image.player(2,\"ߡߊߙߌ\",'war'),\n",
    "           image.player(3,\"ߕߏ߲ߕߌߜߌ\",'war'),\n",
    "           image.player(4,\"ߞߍߟߍߞߎ߲\",'war'),\n",
    "            image.player(5,\"ߞߍߟߍߓߏߟߏ\",'war'),\n",
    "             ],\n",
    "    \n",
    "    'ߕߐ߮': [\n",
    "            'ߡߊ߲ߛߊ',\n",
    "            'ߡߊߙߌ',\n",
    "            'ߕߏ߲ߕߌߜߌ',\n",
    "            'ߞߍߟߍߞߎ߲',\n",
    "             'ߞߍߟߍߓߏߟߏ',\n",
    "             ],\n",
    "    \n",
    "    'ߞߊ߲': \n",
    "    [\n",
    "     sound.player(1,'vowel','vowel'),      \n",
    "    sound.player(1,'vowel','vowel'),\n",
    "    sound.player(1,'vowel','vowel'),\n",
    "    sound.player(1,'vowel','vowel'),\n",
    "    sound.player(1,'vowel','vowel'),   \n",
    "    ],\n",
    "\n",
    "        'Name': [\n",
    "            'High King',\n",
    "            'Commander',\n",
    "            'Clan Leager',\n",
    "            'Warhead',\n",
    "            'War Arm'\n",
    "             ],\n",
    "    \n",
    "    'Pronounciation': \n",
    "    [\n",
    "        sound.player(1,'vowel','vowel'),\n",
    "        sound.player(1,'vowel','vowel'),\n",
    "       sound.player(1,'vowel','vowel'),  \n",
    "        sound.player(1,'vowel','vowel'),\n",
    "        sound.player(1,'vowel','vowel'),\n",
    "        \n",
    "    ]\n",
    "})\n",
    "\n",
    "\n",
    "HTML(df.to_html(escape=False,index=False))"
   ]
  },
  {
   "cell_type": "code",
   "execution_count": null,
   "id": "9a056edb-4f5b-4871-81e0-28d8e1b9070a",
   "metadata": {},
   "outputs": [],
   "source": []
  },
  {
   "cell_type": "code",
   "execution_count": null,
   "id": "30941c8b-fa2f-400f-8ce4-91bc734ad606",
   "metadata": {},
   "outputs": [],
   "source": []
  }
 ],
 "metadata": {
  "kernelspec": {
   "display_name": "Python 3 (ipykernel)",
   "language": "python",
   "name": "python3"
  },
  "language_info": {
   "codemirror_mode": {
    "name": "ipython",
    "version": 3
   },
   "file_extension": ".py",
   "mimetype": "text/x-python",
   "name": "python",
   "nbconvert_exporter": "python",
   "pygments_lexer": "ipython3",
   "version": "3.11.8"
  }
 },
 "nbformat": 4,
 "nbformat_minor": 5
}
