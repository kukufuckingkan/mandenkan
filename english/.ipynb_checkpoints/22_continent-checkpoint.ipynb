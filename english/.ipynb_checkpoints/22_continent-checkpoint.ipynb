{
 "cells": [
  {
   "cell_type": "markdown",
   "id": "f8d23b3a-6c16-4d20-8bf0-9bc5a57af093",
   "metadata": {},
   "source": [
    "# Land"
   ]
  },
  {
   "cell_type": "code",
   "execution_count": null,
   "id": "ac94e6b9-a7f9-45f2-9825-4d934658970f",
   "metadata": {},
   "outputs": [],
   "source": [
    "# HIDDEN\n",
    "import pandas as pd\n",
    "from IPython.display import HTML\n",
    "\n",
    "# Define headers and values (as lists)\n",
    "headers = ['Image', 'nko', 'pronounciation', 'nko pronouncition','image']\n",
    "values = [\n",
    "    ['', '', 'Africa','dja',''],\n",
    "    ['', '', 'America','dja',''],\n",
    "    ['', '', 'Oceania','',''],\n",
    "    ['', '', 'America','',''], \n",
    "    ['', '', 'Asia','',''],\n",
    "    \n",
    "    \n",
    "    \n",
    "  \n",
    "]\n",
    "\n",
    "# Create the DataFrame with headers and rows of values\n",
    "df = pd.DataFrame(values, columns=headers)\n",
    "\n",
    "HTML(df.to_html(escape=False))"
   ]
  }
 ],
 "metadata": {
  "kernelspec": {
   "display_name": "Python 3 (ipykernel)",
   "language": "python",
   "name": "python3"
  },
  "language_info": {
   "codemirror_mode": {
    "name": "ipython",
    "version": 3
   },
   "file_extension": ".py",
   "mimetype": "text/x-python",
   "name": "python",
   "nbconvert_exporter": "python",
   "pygments_lexer": "ipython3",
   "version": "3.11.8"
  }
 },
 "nbformat": 4,
 "nbformat_minor": 5
}
