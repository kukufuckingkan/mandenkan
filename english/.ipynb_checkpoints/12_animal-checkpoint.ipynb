{
 "cells": [
  {
   "cell_type": "markdown",
   "id": "5a482e05-3be6-48ee-8daf-77ddd378e0ce",
   "metadata": {},
   "source": [
    "# animal\n",
    "## ߓߌߦߊ߲"
   ]
  },
  {
   "cell_type": "code",
   "execution_count": 11,
   "id": "26d12421-2c33-414d-82b5-ec119fb29449",
   "metadata": {},
   "outputs": [],
   "source": [
    "from IPython.core.display import HTML\n",
    "from IPython.display import HTML\n",
    "\n",
    "BASE_PATH = \"https://github.com/kukufuckingkan/mandenkan_media/raw/refs/heads/main/image/\"\n",
    "EXTENSION = \".jpg\"\n",
    "\n",
    "\n",
    "\n",
    "def player(numero: int, alt: str,folder: str) -> str:\n",
    "    path = BASE_PATH + folder + \"/\" + str(numero) + EXTENSION\n",
    "    \n",
    "    return  '''<img src=\"{}\" alt=\"{}\" width=\"150\" height=\"150\">'''.format(path,alt)"
   ]
  },
  {
   "cell_type": "code",
   "execution_count": 13,
   "id": "0f9c421b-ffc9-4ee5-b932-e2765d20da1e",
   "metadata": {},
   "outputs": [
    {
     "data": {
      "text/html": [
       "<img src=\"https://github.com/kukufuckingkan/mandenkan_media/raw/refs/heads/main/image/animal/1.jpg\" alt=\"ttt\" width=\"150\" height=\"150\">"
      ],
      "text/plain": [
       "<IPython.core.display.HTML object>"
      ]
     },
     "execution_count": 13,
     "metadata": {},
     "output_type": "execute_result"
    }
   ],
   "source": [
    "HTML(player(1,'ttt','animal'))"
   ]
  },
  {
   "cell_type": "code",
   "execution_count": 2,
   "id": "631c9539-f2f5-49c2-b821-c91a9152db70",
   "metadata": {},
   "outputs": [
    {
     "ename": "AttributeError",
     "evalue": "module 'kukukan.image' has no attribute 'showHtml'",
     "output_type": "error",
     "traceback": [
      "\u001b[0;31m---------------------------------------------------------------------------\u001b[0m",
      "\u001b[0;31mAttributeError\u001b[0m                            Traceback (most recent call last)",
      "Cell \u001b[0;32mIn[2], line 10\u001b[0m\n\u001b[1;32m      4\u001b[0m \u001b[38;5;28;01mfrom\u001b[39;00m \u001b[38;5;21;01mIPython\u001b[39;00m\u001b[38;5;21;01m.\u001b[39;00m\u001b[38;5;21;01mdisplay\u001b[39;00m \u001b[38;5;28;01mimport\u001b[39;00m HTML\n\u001b[1;32m      5\u001b[0m \u001b[38;5;28;01mfrom\u001b[39;00m \u001b[38;5;21;01mkukukan\u001b[39;00m \u001b[38;5;28;01mimport\u001b[39;00m image,sound\n\u001b[1;32m      7\u001b[0m df \u001b[38;5;241m=\u001b[39m pd\u001b[38;5;241m.\u001b[39mDataFrame({\n\u001b[1;32m      8\u001b[0m    \u001b[38;5;124m'\u001b[39m\u001b[38;5;124mߖߊ\u001b[39m\u001b[38;5;124m'\u001b[39m: [\n\u001b[1;32m      9\u001b[0m             image\u001b[38;5;241m.\u001b[39mplayer(\u001b[38;5;241m1\u001b[39m,\u001b[38;5;124m\"\u001b[39m\u001b[38;5;124mߛߏߛߏ߮\u001b[39m\u001b[38;5;124m\"\u001b[39m,\u001b[38;5;124m'\u001b[39m\u001b[38;5;124manimal\u001b[39m\u001b[38;5;124m'\u001b[39m),\n\u001b[0;32m---> 10\u001b[0m             image\u001b[38;5;241m.\u001b[39mshowHtml(\u001b[38;5;241m2\u001b[39m,\u001b[38;5;124m\"\u001b[39m\u001b[38;5;124mxxx\u001b[39m\u001b[38;5;124m\"\u001b[39m),\n\u001b[1;32m     11\u001b[0m             image\u001b[38;5;241m.\u001b[39mshowHtml(\u001b[38;5;241m3\u001b[39m,\u001b[38;5;124m\"\u001b[39m\u001b[38;5;124mxxx\u001b[39m\u001b[38;5;124m\"\u001b[39m),\n\u001b[1;32m     12\u001b[0m             image\u001b[38;5;241m.\u001b[39mshowHtml(\u001b[38;5;241m4\u001b[39m,\u001b[38;5;124m\"\u001b[39m\u001b[38;5;124mߕߏߕߏ\u001b[39m\u001b[38;5;124m\"\u001b[39m),\n\u001b[1;32m     13\u001b[0m             image\u001b[38;5;241m.\u001b[39mshowHtml(\u001b[38;5;241m5\u001b[39m,\u001b[38;5;124m\"\u001b[39m\u001b[38;5;124mߦߌߣߍ߮\u001b[39m\u001b[38;5;124m\"\u001b[39m),\n\u001b[1;32m     14\u001b[0m             image\u001b[38;5;241m.\u001b[39mshowHtml(\u001b[38;5;241m6\u001b[39m,\u001b[38;5;124m\"\u001b[39m\u001b[38;5;124mߛߊߡߊ߮\u001b[39m\u001b[38;5;124m\"\u001b[39m),\n\u001b[1;32m     15\u001b[0m             image\u001b[38;5;241m.\u001b[39mshowHtml(\u001b[38;5;241m7\u001b[39m,\u001b[38;5;124m\"\u001b[39m\u001b[38;5;124mߖߌߙߌߛߎ߲ߓߊ߮\u001b[39m\u001b[38;5;124m\"\u001b[39m),\n\u001b[1;32m     16\u001b[0m             image\u001b[38;5;241m.\u001b[39mshowHtml(\u001b[38;5;241m8\u001b[39m,\u001b[38;5;124m\"\u001b[39m\u001b[38;5;124mߛߊ߮\u001b[39m\u001b[38;5;124m\"\u001b[39m),\n\u001b[1;32m     17\u001b[0m             image\u001b[38;5;241m.\u001b[39mshowHtml(\u001b[38;5;241m9\u001b[39m,\u001b[38;5;124m'\u001b[39m\u001b[38;5;124mߥߊߙߊ߮\u001b[39m\u001b[38;5;124m'\u001b[39m),\n\u001b[1;32m     18\u001b[0m             image\u001b[38;5;241m.\u001b[39mshowHtml(\u001b[38;5;241m10\u001b[39m,\u001b[38;5;124m'\u001b[39m\u001b[38;5;124mߓߊߛߊ߮\u001b[39m\u001b[38;5;124m'\u001b[39m),\n\u001b[1;32m     19\u001b[0m             image\u001b[38;5;241m.\u001b[39mshowHtml(\u001b[38;5;241m11\u001b[39m,\u001b[38;5;124m'\u001b[39m\u001b[38;5;124mߒߕߏߙߌ\u001b[39m\u001b[38;5;124m'\u001b[39m),\n\u001b[1;32m     20\u001b[0m             image\u001b[38;5;241m.\u001b[39mshowHtml(\u001b[38;5;241m12\u001b[39m,\u001b[38;5;124m'\u001b[39m\u001b[38;5;124mߓߊ߮\u001b[39m\u001b[38;5;124m'\u001b[39m),\n\u001b[1;32m     21\u001b[0m             image\u001b[38;5;241m.\u001b[39mshowHtml(\u001b[38;5;241m13\u001b[39m,\u001b[38;5;124m'\u001b[39m\u001b[38;5;124mߓߊ߲ߓߊ߮\u001b[39m\u001b[38;5;124m'\u001b[39m),\n\u001b[1;32m     22\u001b[0m             image\u001b[38;5;241m.\u001b[39mshowHtml(\u001b[38;5;241m14\u001b[39m,\u001b[38;5;124m'\u001b[39m\u001b[38;5;124mߝߐ߲ߝߐ߲ߣߍ߲\u001b[39m\u001b[38;5;124m'\u001b[39m),\n\u001b[1;32m     23\u001b[0m             image\u001b[38;5;241m.\u001b[39mshowHtml(\u001b[38;5;241m15\u001b[39m,\u001b[38;5;124m'\u001b[39m\u001b[38;5;124mߘߎߥߊ߮\u001b[39m\u001b[38;5;124m'\u001b[39m),       \n\u001b[1;32m     24\u001b[0m              ],\n\u001b[1;32m     25\u001b[0m     \n\u001b[1;32m     26\u001b[0m     \u001b[38;5;124m'\u001b[39m\u001b[38;5;124mߕߐ߮\u001b[39m\u001b[38;5;124m'\u001b[39m: [\n\u001b[1;32m     27\u001b[0m             \u001b[38;5;124m'\u001b[39m\u001b[38;5;124mߛߏߛߏ߮\u001b[39m\u001b[38;5;124m'\u001b[39m,\n\u001b[1;32m     28\u001b[0m             \u001b[38;5;124m'\u001b[39m\u001b[38;5;124mxxxx\u001b[39m\u001b[38;5;124m'\u001b[39m,\n\u001b[1;32m     29\u001b[0m             \u001b[38;5;124m'\u001b[39m\u001b[38;5;124mxxx\u001b[39m\u001b[38;5;124m'\u001b[39m,\n\u001b[1;32m     30\u001b[0m             \u001b[38;5;124m'\u001b[39m\u001b[38;5;124mߕߏߕߏ߮\u001b[39m\u001b[38;5;124m'\u001b[39m,\n\u001b[1;32m     31\u001b[0m             \u001b[38;5;124m'\u001b[39m\u001b[38;5;124mߦߌߣߍ߮\u001b[39m\u001b[38;5;124m'\u001b[39m,\n\u001b[1;32m     32\u001b[0m             \u001b[38;5;124m'\u001b[39m\u001b[38;5;124mߛߊߡߊ߮\u001b[39m\u001b[38;5;124m'\u001b[39m,\n\u001b[1;32m     33\u001b[0m             \u001b[38;5;124m'\u001b[39m\u001b[38;5;124mߖߌߙߌߛߎ߲ߓߊ߮\u001b[39m\u001b[38;5;124m'\u001b[39m,\n\u001b[1;32m     34\u001b[0m             \u001b[38;5;124m'\u001b[39m\u001b[38;5;124mߛߊ߮\u001b[39m\u001b[38;5;124m'\u001b[39m,\n\u001b[1;32m     35\u001b[0m             \u001b[38;5;124m'\u001b[39m\u001b[38;5;124mߥߊߙߊ߮\u001b[39m\u001b[38;5;124m'\u001b[39m,\n\u001b[1;32m     36\u001b[0m             \u001b[38;5;124m'\u001b[39m\u001b[38;5;124mߓߊߛߊ߮\u001b[39m\u001b[38;5;124m'\u001b[39m,\n\u001b[1;32m     37\u001b[0m             \u001b[38;5;124m'\u001b[39m\u001b[38;5;124mߒߕߏߙߌ\u001b[39m\u001b[38;5;124m'\u001b[39m,\n\u001b[1;32m     38\u001b[0m             \u001b[38;5;124m'\u001b[39m\u001b[38;5;124mߓߊ߮\u001b[39m\u001b[38;5;124m'\u001b[39m,\n\u001b[1;32m     39\u001b[0m             \u001b[38;5;124m'\u001b[39m\u001b[38;5;124mߓߊ߲ߓߊ߮\u001b[39m\u001b[38;5;124m'\u001b[39m,\n\u001b[1;32m     40\u001b[0m             \u001b[38;5;124m'\u001b[39m\u001b[38;5;124mߝߐ߲ߝߐ߲ߣߍ߲\u001b[39m\u001b[38;5;124m'\u001b[39m,\n\u001b[1;32m     41\u001b[0m             \u001b[38;5;124m'\u001b[39m\u001b[38;5;124mߘߎߥߊ߮\u001b[39m\u001b[38;5;124m'\u001b[39m\n\u001b[1;32m     42\u001b[0m              ],\n\u001b[1;32m     43\u001b[0m     \n\u001b[1;32m     44\u001b[0m     \u001b[38;5;124m'\u001b[39m\u001b[38;5;124mߞߊ߲\u001b[39m\u001b[38;5;124m'\u001b[39m: \n\u001b[1;32m     45\u001b[0m     [\n\u001b[1;32m     46\u001b[0m     player\u001b[38;5;241m.\u001b[39mplayFromGitt(\u001b[38;5;124m'\u001b[39m\u001b[38;5;124mVOWEL\u001b[39m\u001b[38;5;124m'\u001b[39m,\u001b[38;5;241m1\u001b[39m),       \n\u001b[1;32m     47\u001b[0m     player\u001b[38;5;241m.\u001b[39mplayFromGitt(\u001b[38;5;124m'\u001b[39m\u001b[38;5;124mVOWEL\u001b[39m\u001b[38;5;124m'\u001b[39m,\u001b[38;5;241m2\u001b[39m),\n\u001b[1;32m     48\u001b[0m     player\u001b[38;5;241m.\u001b[39mplayFromGitt(\u001b[38;5;124m'\u001b[39m\u001b[38;5;124mVOWEL\u001b[39m\u001b[38;5;124m'\u001b[39m,\u001b[38;5;241m3\u001b[39m),\n\u001b[1;32m     49\u001b[0m     player\u001b[38;5;241m.\u001b[39mplayFromGitt(\u001b[38;5;124m'\u001b[39m\u001b[38;5;124mVOWEL\u001b[39m\u001b[38;5;124m'\u001b[39m,\u001b[38;5;241m4\u001b[39m),\n\u001b[1;32m     50\u001b[0m     player\u001b[38;5;241m.\u001b[39mplayFromGitt(\u001b[38;5;124m'\u001b[39m\u001b[38;5;124mVOWEL\u001b[39m\u001b[38;5;124m'\u001b[39m,\u001b[38;5;241m5\u001b[39m),\n\u001b[1;32m     51\u001b[0m     player\u001b[38;5;241m.\u001b[39mplayFromGitt(\u001b[38;5;124m'\u001b[39m\u001b[38;5;124mVOWEL\u001b[39m\u001b[38;5;124m'\u001b[39m,\u001b[38;5;241m6\u001b[39m), \n\u001b[1;32m     52\u001b[0m     player\u001b[38;5;241m.\u001b[39mplayFromGitt(\u001b[38;5;124m'\u001b[39m\u001b[38;5;124mVOWEL\u001b[39m\u001b[38;5;124m'\u001b[39m,\u001b[38;5;241m7\u001b[39m),\n\u001b[1;32m     53\u001b[0m     player\u001b[38;5;241m.\u001b[39mplayFromGitt(\u001b[38;5;124m'\u001b[39m\u001b[38;5;124mVOWEL\u001b[39m\u001b[38;5;124m'\u001b[39m,\u001b[38;5;241m8\u001b[39m),\n\u001b[1;32m     54\u001b[0m     player\u001b[38;5;241m.\u001b[39mplayFromGitt(\u001b[38;5;124m'\u001b[39m\u001b[38;5;124mVOWEL\u001b[39m\u001b[38;5;124m'\u001b[39m,\u001b[38;5;241m9\u001b[39m),\n\u001b[1;32m     55\u001b[0m     player\u001b[38;5;241m.\u001b[39mplayFromGitt(\u001b[38;5;124m'\u001b[39m\u001b[38;5;124mVOWEL\u001b[39m\u001b[38;5;124m'\u001b[39m,\u001b[38;5;241m10\u001b[39m),  \n\u001b[1;32m     56\u001b[0m     player\u001b[38;5;241m.\u001b[39mplayFromGitt(\u001b[38;5;124m'\u001b[39m\u001b[38;5;124mVOWEL\u001b[39m\u001b[38;5;124m'\u001b[39m,\u001b[38;5;241m11\u001b[39m),\n\u001b[1;32m     57\u001b[0m     player\u001b[38;5;241m.\u001b[39mplayFromGitt(\u001b[38;5;124m'\u001b[39m\u001b[38;5;124mVOWEL\u001b[39m\u001b[38;5;124m'\u001b[39m,\u001b[38;5;241m12\u001b[39m),\n\u001b[1;32m     58\u001b[0m     player\u001b[38;5;241m.\u001b[39mplayFromGitt(\u001b[38;5;124m'\u001b[39m\u001b[38;5;124mVOWEL\u001b[39m\u001b[38;5;124m'\u001b[39m,\u001b[38;5;241m13\u001b[39m), \n\u001b[1;32m     59\u001b[0m     player\u001b[38;5;241m.\u001b[39mplayFromGitt(\u001b[38;5;124m'\u001b[39m\u001b[38;5;124mVOWEL\u001b[39m\u001b[38;5;124m'\u001b[39m,\u001b[38;5;241m14\u001b[39m),\n\u001b[1;32m     60\u001b[0m     player\u001b[38;5;241m.\u001b[39mplayFromGitt(\u001b[38;5;124m'\u001b[39m\u001b[38;5;124mVOWEL\u001b[39m\u001b[38;5;124m'\u001b[39m,\u001b[38;5;241m15\u001b[39m),         \n\u001b[1;32m     61\u001b[0m     ],\n\u001b[1;32m     62\u001b[0m \n\u001b[1;32m     63\u001b[0m         \u001b[38;5;124m'\u001b[39m\u001b[38;5;124mName\u001b[39m\u001b[38;5;124m'\u001b[39m: [\n\u001b[1;32m     64\u001b[0m             \u001b[38;5;124m'\u001b[39m\u001b[38;5;124mMosquito\u001b[39m\u001b[38;5;124m'\u001b[39m,\n\u001b[1;32m     65\u001b[0m             \u001b[38;5;124m'\u001b[39m\u001b[38;5;124mxxx\u001b[39m\u001b[38;5;124m'\u001b[39m,\n\u001b[1;32m     66\u001b[0m             \u001b[38;5;124m'\u001b[39m\u001b[38;5;124mChameleon\u001b[39m\u001b[38;5;124m'\u001b[39m,\n\u001b[1;32m     67\u001b[0m             \u001b[38;5;124m'\u001b[39m\u001b[38;5;124mRat\u001b[39m\u001b[38;5;124m'\u001b[39m,\n\u001b[1;32m     68\u001b[0m             \u001b[38;5;124m'\u001b[39m\u001b[38;5;124mMouse\u001b[39m\u001b[38;5;124m'\u001b[39m,\n\u001b[1;32m     69\u001b[0m             \u001b[38;5;124m'\u001b[39m\u001b[38;5;124mElephant\u001b[39m\u001b[38;5;124m'\u001b[39m,\n\u001b[1;32m     70\u001b[0m             \u001b[38;5;124m'\u001b[39m\u001b[38;5;124mHippopotamus\u001b[39m\u001b[38;5;124m'\u001b[39m,\n\u001b[1;32m     71\u001b[0m             \u001b[38;5;124m'\u001b[39m\u001b[38;5;124mSnake\u001b[39m\u001b[38;5;124m'\u001b[39m,\n\u001b[1;32m     72\u001b[0m             \u001b[38;5;124m'\u001b[39m\u001b[38;5;124mLion\u001b[39m\u001b[38;5;124m'\u001b[39m,\n\u001b[1;32m     73\u001b[0m             \u001b[38;5;124m'\u001b[39m\u001b[38;5;124mLizard\u001b[39m\u001b[38;5;124m'\u001b[39m,\n\u001b[1;32m     74\u001b[0m             \u001b[38;5;124m'\u001b[39m\u001b[38;5;124mFrog\u001b[39m\u001b[38;5;124m'\u001b[39m,\n\u001b[1;32m     75\u001b[0m             \u001b[38;5;124m'\u001b[39m\u001b[38;5;124mGoat\u001b[39m\u001b[38;5;124m'\u001b[39m,\n\u001b[1;32m     76\u001b[0m             \u001b[38;5;124m'\u001b[39m\u001b[38;5;124mCrododile\u001b[39m\u001b[38;5;124m'\u001b[39m,\n\u001b[1;32m     77\u001b[0m             \u001b[38;5;124m'\u001b[39m\u001b[38;5;124mViper\u001b[39m\u001b[38;5;124m'\u001b[39m,\n\u001b[1;32m     78\u001b[0m             \u001b[38;5;124m'\u001b[39m\u001b[38;5;124mVulture\u001b[39m\u001b[38;5;124m'\u001b[39m\n\u001b[1;32m     79\u001b[0m              ],\n\u001b[1;32m     80\u001b[0m     \n\u001b[1;32m     81\u001b[0m     \u001b[38;5;124m'\u001b[39m\u001b[38;5;124mPronounciation\u001b[39m\u001b[38;5;124m'\u001b[39m: \n\u001b[1;32m     82\u001b[0m     [\n\u001b[1;32m     83\u001b[0m     player\u001b[38;5;241m.\u001b[39mplayFromGitt(\u001b[38;5;124m'\u001b[39m\u001b[38;5;124mVOWEL\u001b[39m\u001b[38;5;124m'\u001b[39m,\u001b[38;5;241m1\u001b[39m),\n\u001b[1;32m     84\u001b[0m     player\u001b[38;5;241m.\u001b[39mplayFromGitt(\u001b[38;5;124m'\u001b[39m\u001b[38;5;124mVOWEL\u001b[39m\u001b[38;5;124m'\u001b[39m,\u001b[38;5;241m2\u001b[39m),  \n\u001b[1;32m     85\u001b[0m     player\u001b[38;5;241m.\u001b[39mplayFromGitt(\u001b[38;5;124m'\u001b[39m\u001b[38;5;124mVOWEL\u001b[39m\u001b[38;5;124m'\u001b[39m,\u001b[38;5;241m3\u001b[39m), \n\u001b[1;32m     86\u001b[0m     player\u001b[38;5;241m.\u001b[39mplayFromGitt(\u001b[38;5;124m'\u001b[39m\u001b[38;5;124mVOWEL\u001b[39m\u001b[38;5;124m'\u001b[39m,\u001b[38;5;241m4\u001b[39m),\n\u001b[1;32m     87\u001b[0m     player\u001b[38;5;241m.\u001b[39mplayFromGitt(\u001b[38;5;124m'\u001b[39m\u001b[38;5;124mVOWEL\u001b[39m\u001b[38;5;124m'\u001b[39m,\u001b[38;5;241m5\u001b[39m),\n\u001b[1;32m     88\u001b[0m     player\u001b[38;5;241m.\u001b[39mplayFromGitt(\u001b[38;5;124m'\u001b[39m\u001b[38;5;124mVOWEL\u001b[39m\u001b[38;5;124m'\u001b[39m,\u001b[38;5;241m6\u001b[39m),\n\u001b[1;32m     89\u001b[0m     player\u001b[38;5;241m.\u001b[39mplayFromGitt(\u001b[38;5;124m'\u001b[39m\u001b[38;5;124mVOWEL\u001b[39m\u001b[38;5;124m'\u001b[39m,\u001b[38;5;241m7\u001b[39m),\n\u001b[1;32m     90\u001b[0m     player\u001b[38;5;241m.\u001b[39mplayFromGitt(\u001b[38;5;124m'\u001b[39m\u001b[38;5;124mVOWEL\u001b[39m\u001b[38;5;124m'\u001b[39m,\u001b[38;5;241m8\u001b[39m),  \n\u001b[1;32m     91\u001b[0m     player\u001b[38;5;241m.\u001b[39mplayFromGitt(\u001b[38;5;124m'\u001b[39m\u001b[38;5;124mVOWEL\u001b[39m\u001b[38;5;124m'\u001b[39m,\u001b[38;5;241m9\u001b[39m), \n\u001b[1;32m     92\u001b[0m     player\u001b[38;5;241m.\u001b[39mplayFromGitt(\u001b[38;5;124m'\u001b[39m\u001b[38;5;124mVOWEL\u001b[39m\u001b[38;5;124m'\u001b[39m,\u001b[38;5;241m10\u001b[39m), \n\u001b[1;32m     93\u001b[0m     player\u001b[38;5;241m.\u001b[39mplayFromGitt(\u001b[38;5;124m'\u001b[39m\u001b[38;5;124mVOWEL\u001b[39m\u001b[38;5;124m'\u001b[39m,\u001b[38;5;241m11\u001b[39m),  \n\u001b[1;32m     94\u001b[0m     player\u001b[38;5;241m.\u001b[39mplayFromGitt(\u001b[38;5;124m'\u001b[39m\u001b[38;5;124mVOWEL\u001b[39m\u001b[38;5;124m'\u001b[39m,\u001b[38;5;241m12\u001b[39m),\n\u001b[1;32m     95\u001b[0m     player\u001b[38;5;241m.\u001b[39mplayFromGitt(\u001b[38;5;124m'\u001b[39m\u001b[38;5;124mVOWEL\u001b[39m\u001b[38;5;124m'\u001b[39m,\u001b[38;5;241m13\u001b[39m),\n\u001b[1;32m     96\u001b[0m     player\u001b[38;5;241m.\u001b[39mplayFromGitt(\u001b[38;5;124m'\u001b[39m\u001b[38;5;124mVOWEL\u001b[39m\u001b[38;5;124m'\u001b[39m,\u001b[38;5;241m14\u001b[39m),\n\u001b[1;32m     97\u001b[0m     player\u001b[38;5;241m.\u001b[39mplayFromGitt(\u001b[38;5;124m'\u001b[39m\u001b[38;5;124mVOWEL\u001b[39m\u001b[38;5;124m'\u001b[39m,\u001b[38;5;241m15\u001b[39m),        \n\u001b[1;32m     98\u001b[0m     ]\n\u001b[1;32m     99\u001b[0m })\n\u001b[1;32m    102\u001b[0m HTML(df\u001b[38;5;241m.\u001b[39mto_html(escape\u001b[38;5;241m=\u001b[39m\u001b[38;5;28;01mFalse\u001b[39;00m,index\u001b[38;5;241m=\u001b[39m\u001b[38;5;28;01mFalse\u001b[39;00m))\n",
      "\u001b[0;31mAttributeError\u001b[0m: module 'kukukan.image' has no attribute 'showHtml'"
     ]
    }
   ],
   "source": [
    "# HIDDEN\n",
    "import kukukan\n",
    "import pandas as pd\n",
    "from IPython.display import HTML\n",
    "from kukukan import image,sound\n",
    "\n",
    "df = pd.DataFrame({\n",
    "   'ߖߊ': [\n",
    "            image.player(1,\"ߛߏߛߏ߮\",'animal'),\n",
    "            image.player(2,\"xxx\",'animal'),\n",
    "            image.player(3,\"xxx\",'animal'),\n",
    "            image.player(4,\"ߕߏߕߏ\",'animal'),\n",
    "            image.player(5,\"ߦߌߣߍ߮\",'animal'),\n",
    "            image.player(6,\"ߛߊߡߊ߮\",'animal'),\n",
    "            image.player(7,\"ߖߌߙߌߛߎ߲ߓߊ߮\",'animal'),\n",
    "            image.player(8,\"ߛߊ߮\",'animal'),\n",
    "            image.player(9,'ߥߊߙߊ߮','animal'),\n",
    "            image.player(10,'ߓߊߛߊ߮','animal'),\n",
    "            image.player(11,'ߒߕߏߙߌ','animal'),\n",
    "            image.player(12,'ߓߊ߮','animal'),\n",
    "            image.player(13,'ߓߊ߲ߓߊ߮','animal'),\n",
    "            image.player(14,'ߝߐ߲ߝߐ߲ߣߍ߲','animal'),\n",
    "            image.player(15,'ߘߎߥߊ߮','animal'),       \n",
    "             ],\n",
    "    \n",
    "    'ߕߐ߮': [\n",
    "            'ߛߏߛߏ߮',\n",
    "            'xxxx',\n",
    "            'xxx',\n",
    "            'ߕߏߕߏ߮',\n",
    "            'ߦߌߣߍ߮',\n",
    "            'ߛߊߡߊ߮',\n",
    "            'ߖߌߙߌߛߎ߲ߓߊ߮',\n",
    "            'ߛߊ߮',\n",
    "            'ߥߊߙߊ߮',\n",
    "            'ߓߊߛߊ߮',\n",
    "            'ߒߕߏߙߌ',\n",
    "            'ߓߊ߮',\n",
    "            'ߓߊ߲ߓߊ߮',\n",
    "            'ߝߐ߲ߝߐ߲ߣߍ߲',\n",
    "            'ߘߎߥߊ߮'\n",
    "             ],\n",
    "    \n",
    "    'ߞߊ߲': \n",
    "    [\n",
    "    sound.player('VOWEL',1),       \n",
    "    sound.player('VOWEL',2),\n",
    "    sound.player('VOWEL',3),\n",
    "    sound.player('VOWEL',4),\n",
    "    sound.player('VOWEL',5),\n",
    "    sound.player('VOWEL',6), \n",
    "    sound.player('VOWEL',7),\n",
    "    sound.player('VOWEL',8),\n",
    "    sound.player('VOWEL',9),\n",
    "    sound.player('VOWEL',10),  \n",
    "    sound.player('VOWEL',11),\n",
    "    sound.player('VOWEL',12),\n",
    "    sound.player('VOWEL',13), \n",
    "    sound.player('VOWEL',14),\n",
    "    sound.player('VOWEL',15),         \n",
    "    ],\n",
    "\n",
    "        'Name': [\n",
    "            'Mosquito',\n",
    "            'xxx',\n",
    "            'Chameleon',\n",
    "            'Rat',\n",
    "            'Mouse',\n",
    "            'Elephant',\n",
    "            'Hippopotamus',\n",
    "            'Snake',\n",
    "            'Lion',\n",
    "            'Lizard',\n",
    "            'Frog',\n",
    "            'Goat',\n",
    "            'Crododile',\n",
    "            'Viper',\n",
    "            'Vulture'\n",
    "             ],\n",
    "    \n",
    "    'Pronounciation': \n",
    "    [\n",
    "    player.player('VOWEL',1),\n",
    "    player.player('VOWEL',2),  \n",
    "    player.player('VOWEL',3), \n",
    "    player.player('VOWEL',4),\n",
    "    player.player('VOWEL',5),\n",
    "    player.player('VOWEL',6),\n",
    "    player.player('VOWEL',7),\n",
    "    player.player('VOWEL',8),  \n",
    "    player.player('VOWEL',9), \n",
    "    player.player('VOWEL',10), \n",
    "    player.player('VOWEL',11),  \n",
    "    player.player('VOWEL',12),\n",
    "    player.player('VOWEL',13),\n",
    "    player.player('VOWEL',14),\n",
    "    player.player('VOWEL',15),        \n",
    "    ]\n",
    "})\n",
    "\n",
    "\n",
    "HTML(df.to_html(escape=False,index=False))"
   ]
  },
  {
   "cell_type": "code",
   "execution_count": null,
   "id": "af4dfcd7-dac7-44f2-bbb1-a5e8baf4c941",
   "metadata": {},
   "outputs": [],
   "source": []
  }
 ],
 "metadata": {
  "kernelspec": {
   "display_name": "Python 3 (ipykernel)",
   "language": "python",
   "name": "python3"
  },
  "language_info": {
   "codemirror_mode": {
    "name": "ipython",
    "version": 3
   },
   "file_extension": ".py",
   "mimetype": "text/x-python",
   "name": "python",
   "nbconvert_exporter": "python",
   "pygments_lexer": "ipython3",
   "version": "3.11.8"
  }
 },
 "nbformat": 4,
 "nbformat_minor": 5
}
