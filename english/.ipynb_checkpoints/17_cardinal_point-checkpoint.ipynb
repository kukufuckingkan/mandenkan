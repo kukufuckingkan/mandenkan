{
 "cells": [
  {
   "cell_type": "code",
   "execution_count": null,
   "id": "fe002819-7d50-4601-984d-1ad82d2895e3",
   "metadata": {},
   "outputs": [],
   "source": [
    "# cardinal point"
   ]
  },
  {
   "cell_type": "code",
   "execution_count": null,
   "id": "642da5fe-801e-4b28-bdf1-6d52f7287cc9",
   "metadata": {},
   "outputs": [],
   "source": [
    "# HIDDEN\n",
    "import pandas as pd\n",
    "from IPython.display import HTML\n",
    "\n",
    "# Define headers and values (as lists)\n",
    "headers = ['cardinal', 'nko', 'pronounciation', 'nko pronouncition']\n",
    "values = [\n",
    "    ['North', '', '',''],\n",
    "    ['South', '', '',''],\n",
    "    ['East', 'teléyèlè', '',''],\n",
    "    ['West', 'télébé', '',''],\n",
    "]\n",
    "\n",
    "# Create the DataFrame with headers and rows of values\n",
    "df = pd.DataFrame(values, columns=headers)\n",
    "\n",
    "HTML(df.to_html(escape=False))"
   ]
  }
 ],
 "metadata": {
  "kernelspec": {
   "display_name": "Python 3 (ipykernel)",
   "language": "python",
   "name": "python3"
  },
  "language_info": {
   "codemirror_mode": {
    "name": "ipython",
    "version": 3
   },
   "file_extension": ".py",
   "mimetype": "text/x-python",
   "name": "python",
   "nbconvert_exporter": "python",
   "pygments_lexer": "ipython3",
   "version": "3.11.8"
  }
 },
 "nbformat": 4,
 "nbformat_minor": 5
}
