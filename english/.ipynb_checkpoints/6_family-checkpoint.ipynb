{
 "cells": [
  {
   "cell_type": "code",
   "execution_count": null,
   "id": "8429837d-d154-42d2-962b-5189b598206a",
   "metadata": {},
   "outputs": [],
   "source": [
    "# familly"
   ]
  }
 ],
 "metadata": {
  "kernelspec": {
   "display_name": "Python (kukukan)",
   "language": "python",
   "name": "kukukan"
  },
  "language_info": {
   "codemirror_mode": {
    "name": "ipython",
    "version": 3
   },
   "file_extension": ".py",
   "mimetype": "text/x-python",
   "name": "python",
   "nbconvert_exporter": "python",
   "pygments_lexer": "ipython3",
   "version": "3.12.6"
  }
 },
 "nbformat": 4,
 "nbformat_minor": 5
}
