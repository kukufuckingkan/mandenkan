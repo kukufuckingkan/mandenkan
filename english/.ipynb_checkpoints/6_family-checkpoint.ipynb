{
 "cells": [
  {
   "cell_type": "markdown",
   "id": "a8db8f6b-3480-4214-aa71-b5d183d12a45",
   "metadata": {
    "editable": true,
    "slideshow": {
     "slide_type": ""
    },
    "tags": []
   },
   "source": [
    "# family"
   ]
  },
  {
   "cell_type": "code",
   "execution_count": null,
   "id": "ac96d785-82d7-4232-be30-bfad0d617101",
   "metadata": {},
   "outputs": [],
   "source": [
    "# HIDDEN\n",
    "import pandas as pd\n",
    "from IPython.display import HTML\n",
    "\n",
    "# Define headers and values (as lists)\n",
    "headers = ['name', 'nko', 'pronounciation', 'nko pronouncition']\n",
    "values = [\n",
    "    ['God Father', '', '',''],\n",
    "    ['God Mother', '', '',''],\n",
    "    ['Mother', '', '',''],\n",
    "    ['Father', '', '',''],\n",
    "    ['Child', '', '',''],\n",
    "    ['Daugher', '', '',''],\n",
    "    ['Son', '', '',''],\n",
    "    ['Uncle', '', '',''],  \n",
    "    ['Newphew', '', '',''],  \n",
    "    ['Grand Parent', '', '',''],  \n",
    "    ['Ancestor', '', '',''],  \n",
    "    ['Husband', '', '',''], \n",
    "    ['Wife', '', '',''], \n",
    "    ['Spouse', '', '',''], \n",
    "    ['Co-Spouse', '', '',''],  \n",
    "    ['Aunt', '', '',''],  \n",
    "    ['Relative', '', '',''],  \n",
    "]\n",
    "\n",
    "# Create the DataFrame with headers and rows of values\n",
    "df = pd.DataFrame(values, columns=headers)\n",
    "\n",
    "HTML(df.to_html(escape=False))"
   ]
  }
 ],
 "metadata": {
  "kernelspec": {
   "display_name": "Python 3 (ipykernel)",
   "language": "python",
   "name": "python3"
  },
  "language_info": {
   "codemirror_mode": {
    "name": "ipython",
    "version": 3
   },
   "file_extension": ".py",
   "mimetype": "text/x-python",
   "name": "python",
   "nbconvert_exporter": "python",
   "pygments_lexer": "ipython3",
   "version": "3.11.8"
  }
 },
 "nbformat": 4,
 "nbformat_minor": 5
}
