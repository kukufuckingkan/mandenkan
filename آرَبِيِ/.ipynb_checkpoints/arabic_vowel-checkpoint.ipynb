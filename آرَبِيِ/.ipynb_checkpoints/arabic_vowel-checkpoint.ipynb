{
 "cells": [
  {
   "cell_type": "markdown",
   "id": "117e40d8-2b09-4bcc-b0e4-c1b4c3a2ce97",
   "metadata": {},
   "source": [
    "# شقشزهغش"
   ]
  }
 ],
 "metadata": {
  "kernelspec": {
   "display_name": "Python 3 (ipykernel)",
   "language": "python",
   "name": "python3"
  },
  "language_info": {
   "codemirror_mode": {
    "name": "ipython",
    "version": 3
   },
   "file_extension": ".py",
   "mimetype": "text/x-python",
   "name": "python",
   "nbconvert_exporter": "python",
   "pygments_lexer": "ipython3",
   "version": "3.11.8"
  }
 },
 "nbformat": 4,
 "nbformat_minor": 5
}
